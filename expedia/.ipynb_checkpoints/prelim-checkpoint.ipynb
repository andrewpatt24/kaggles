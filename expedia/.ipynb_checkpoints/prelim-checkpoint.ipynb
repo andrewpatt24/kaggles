{
 "cells": [
  {
   "cell_type": "code",
   "execution_count": 2,
   "metadata": {
    "collapsed": true
   },
   "outputs": [],
   "source": [
    "%matplotlib inline"
   ]
  },
  {
   "cell_type": "code",
   "execution_count": 3,
   "metadata": {
    "collapsed": true
   },
   "outputs": [],
   "source": [
    "from scipy import stats as st\n",
    "import pandas as pd\n",
    "import matplotlib.pyplot as plt\n",
    "import seaborn as sns\n",
    "import numpy as np\n",
    "\n",
    "sns.set_context(\"poster\")"
   ]
  },
  {
   "cell_type": "markdown",
   "metadata": {
    "collapsed": true
   },
   "source": [
    "# Basic Stats on the data"
   ]
  },
  {
   "cell_type": "markdown",
   "metadata": {},
   "source": [
    "Focus:\n",
    "\n",
    "* to understand each data element\n",
    "* to get an idea of what type of algorithm needs to be built\n",
    "    * Event level - simple line-by-line algorithm\n",
    "    * User level - Needs to hold all user data and aggregate up for each event coming in"
   ]
  },
  {
   "cell_type": "code",
   "execution_count": 4,
   "metadata": {
    "collapsed": true
   },
   "outputs": [],
   "source": [
    "def descr(filen):\n",
    "    f = pd.read_csv(filen)\n",
    "    print f.head()\n",
    "    print f.describe()"
   ]
  },
  {
   "cell_type": "markdown",
   "metadata": {},
   "source": [
    "## destinations.csv"
   ]
  },
  {
   "cell_type": "code",
   "execution_count": 5,
   "metadata": {
    "collapsed": false
   },
   "outputs": [
    {
     "name": "stdout",
     "output_type": "stream",
     "text": [
      "62106\n"
     ]
    }
   ],
   "source": [
    "print len(pd.read_csv('data/destinations.csv'))"
   ]
  },
  {
   "cell_type": "code",
   "execution_count": 6,
   "metadata": {
    "collapsed": false
   },
   "outputs": [
    {
     "name": "stdout",
     "output_type": "stream",
     "text": [
      "   srch_destination_id        d1        d2        d3        d4        d5  \\\n",
      "0                    0 -2.198657 -2.198657 -2.198657 -2.198657 -2.198657   \n",
      "1                    1 -2.181690 -2.181690 -2.181690 -2.082564 -2.181690   \n",
      "2                    2 -2.183490 -2.224164 -2.224164 -2.189562 -2.105819   \n",
      "3                    3 -2.177409 -2.177409 -2.177409 -2.177409 -2.177409   \n",
      "4                    4 -2.189562 -2.187783 -2.194008 -2.171153 -2.152303   \n",
      "\n",
      "         d6        d7        d8        d9    ...         d140      d141  \\\n",
      "0 -1.897627 -2.198657 -2.198657 -1.897627    ...    -2.198657 -2.198657   \n",
      "1 -2.165028 -2.181690 -2.181690 -2.031597    ...    -2.165028 -2.181690   \n",
      "2 -2.075407 -2.224164 -2.118483 -2.140393    ...    -2.224164 -2.224164   \n",
      "3 -2.115485 -2.177409 -2.177409 -2.177409    ...    -2.161081 -2.177409   \n",
      "4 -2.056618 -2.194008 -2.194008 -2.145911    ...    -2.187356 -2.194008   \n",
      "\n",
      "       d142      d143      d144      d145      d146      d147      d148  \\\n",
      "0 -2.198657 -2.198657 -2.198657 -2.198657 -2.198657 -2.198657 -2.198657   \n",
      "1 -2.165028 -2.181690 -2.181690 -2.165028 -2.181690 -2.181690 -2.181690   \n",
      "2 -2.196379 -2.224164 -2.192009 -2.224164 -2.224164 -2.224164 -2.224164   \n",
      "3 -2.177409 -2.177409 -2.177409 -2.177409 -2.177409 -2.177409 -2.177409   \n",
      "4 -2.191779 -2.194008 -2.194008 -2.185161 -2.194008 -2.194008 -2.194008   \n",
      "\n",
      "       d149  \n",
      "0 -2.198657  \n",
      "1 -2.181690  \n",
      "2 -2.057548  \n",
      "3 -2.177409  \n",
      "4 -2.188037  \n",
      "\n",
      "[5 rows x 150 columns]\n",
      "       srch_destination_id            d1            d2            d3  \\\n",
      "count         62106.000000  62106.000000  62106.000000  62106.000000   \n",
      "mean          32359.463884     -2.193903     -2.202854     -2.207391   \n",
      "std           18711.765765      0.038576      0.041065      0.040092   \n",
      "min               0.000000     -2.597617     -2.671613     -2.671613   \n",
      "25%           16320.250000     -2.209336     -2.220192     -2.223679   \n",
      "50%           32277.500000     -2.185969     -2.193247     -2.195208   \n",
      "75%           48467.750000     -2.175309     -2.179261     -2.179990   \n",
      "max           64993.000000     -1.596004     -1.341325     -1.917826   \n",
      "\n",
      "                 d4            d5            d6            d7            d8  \\\n",
      "count  62106.000000  62106.000000  62106.000000  62106.000000  62106.000000   \n",
      "mean      -2.194040     -2.161497     -2.045110     -2.202433     -2.203207   \n",
      "std        0.041406      0.066197      0.135803      0.038886      0.036578   \n",
      "min       -2.671613     -2.671613     -2.344165     -2.671613     -2.671613   \n",
      "25%       -2.211437     -2.192158     -2.154267     -2.218745     -2.219086   \n",
      "50%       -2.188057     -2.178255     -2.088598     -2.192513     -2.192915   \n",
      "75%       -2.176763     -2.153317     -1.975940     -2.178976     -2.179164   \n",
      "max       -1.814585     -1.607558     -1.209058     -1.474441     -1.879678   \n",
      "\n",
      "                 d9      ...               d140          d141          d142  \\\n",
      "count  62106.000000      ...       62106.000000  62106.000000  62106.000000   \n",
      "mean      -2.107808      ...          -2.204092     -2.196919     -2.203262   \n",
      "std        0.197904      ...           0.037164      0.059914      0.046520   \n",
      "min       -2.495544      ...          -2.620769     -2.671613     -2.671613   \n",
      "25%       -2.197704      ...          -2.219630     -2.216147     -2.220347   \n",
      "50%       -2.177229      ...          -2.192232     -2.190525     -2.192814   \n",
      "75%       -2.123598      ...          -2.178093     -2.177777     -2.178996   \n",
      "max       -0.977219      ...          -1.855317     -0.960356     -1.357408   \n",
      "\n",
      "               d143          d144          d145          d146          d147  \\\n",
      "count  62106.000000  62106.000000  62106.000000  62106.000000  62106.000000   \n",
      "mean      -2.205128     -2.201925     -2.203332     -2.202989     -2.208359   \n",
      "std        0.039465      0.041603      0.038239      0.051552      0.038035   \n",
      "min       -2.671613     -2.671613     -2.671613     -2.671613     -2.671613   \n",
      "25%       -2.221893     -2.218394     -2.220500     -2.221748     -2.224618   \n",
      "50%       -2.194127     -2.191564     -2.192200     -2.193352     -2.196185   \n",
      "75%       -2.179475     -2.178335     -2.177590     -2.178927     -2.180602   \n",
      "max       -1.775218     -1.790435     -1.799341     -1.335962     -1.816892   \n",
      "\n",
      "               d148          d149  \n",
      "count  62106.000000  62106.000000  \n",
      "mean      -2.208269     -2.199470  \n",
      "std        0.038569      0.042438  \n",
      "min       -2.671613     -2.671613  \n",
      "25%       -2.224290     -2.216428  \n",
      "50%       -2.195900     -2.190953  \n",
      "75%       -2.180380     -2.178088  \n",
      "max       -1.718778     -1.500309  \n",
      "\n",
      "[8 rows x 150 columns]\n"
     ]
    }
   ],
   "source": [
    "descr('data/destinations.csv')"
   ]
  },
  {
   "cell_type": "code",
   "execution_count": 8,
   "metadata": {
    "collapsed": false,
    "scrolled": true
   },
   "outputs": [
    {
     "name": "stdout",
     "output_type": "stream",
     "text": [
      "        id            date_time  site_name  posa_continent  \\\n",
      "0  2104079  2015-11-05 23:20:56          2               3   \n",
      "1   781110  2015-06-17 18:15:57          2               3   \n",
      "2  1602093  2015-06-30 15:07:26          2               3   \n",
      "3  2008933  2015-08-10 09:55:47          2               3   \n",
      "4  1441610  2015-05-03 17:17:11         24               2   \n",
      "\n",
      "   user_location_country  user_location_region  user_location_city  \\\n",
      "0                     66                   321               47535   \n",
      "1                     66                   332               48650   \n",
      "2                     66                   363                2495   \n",
      "3                     57                   342                5021   \n",
      "4                      3                    84                6148   \n",
      "\n",
      "   orig_destination_distance  user_id  is_mobile      ...          srch_ci  \\\n",
      "0                  2308.2647   990284          0      ...       2016-02-12   \n",
      "1                   833.8805   194649          0      ...       2015-06-23   \n",
      "2                   409.1898   522891          1      ...       2015-06-30   \n",
      "3                        NaN   676822          0      ...       2015-08-20   \n",
      "4                        NaN  1188947          0      ...       2015-05-03   \n",
      "\n",
      "      srch_co srch_adults_cnt srch_children_cnt  srch_rm_cnt  \\\n",
      "0  2016-02-15               2                 1            1   \n",
      "1  2015-06-24               1                 0            1   \n",
      "2  2015-07-01               2                 0            1   \n",
      "3  2015-08-23               2                 0            1   \n",
      "4  2015-05-04               1                 0            1   \n",
      "\n",
      "   srch_destination_id  srch_destination_type_id  hotel_continent  \\\n",
      "0                11439                         1                4   \n",
      "1                26606                         6                2   \n",
      "2                 8230                         1                2   \n",
      "3                12772                         5                4   \n",
      "4                12236                         6                2   \n",
      "\n",
      "   hotel_country  hotel_market  \n",
      "0            163          1503  \n",
      "1             50           550  \n",
      "2             50           637  \n",
      "3             84          1937  \n",
      "4             50           676  \n",
      "\n",
      "[5 rows x 22 columns]\n",
      "                 id     site_name  posa_continent  user_location_country  \\\n",
      "count  2.528200e+04  25282.000000    25282.000000           25282.000000   \n",
      "mean   1.270240e+06      9.725694        2.700024              86.051776   \n",
      "std    7.292379e+05     12.333599        0.760070              56.924397   \n",
      "min    8.400000e+01      0.000000        0.000000               0.000000   \n",
      "25%    6.407360e+05      2.000000        3.000000              66.000000   \n",
      "50%    1.272754e+06      2.000000        3.000000              66.000000   \n",
      "75%    1.901155e+06     13.000000        3.000000              69.000000   \n",
      "max    2.528181e+06     53.000000        4.000000             239.000000   \n",
      "\n",
      "       user_location_region  user_location_city  orig_destination_distance  \\\n",
      "count          25282.000000        25282.000000               16946.000000   \n",
      "mean             317.601337        27788.415157                1655.061888   \n",
      "std              206.580501        16642.570563                2173.884966   \n",
      "min                0.000000            3.000000                   0.030700   \n",
      "25%              174.000000        13400.000000                 201.894175   \n",
      "50%              318.000000        27655.000000                 716.232450   \n",
      "75%              403.000000        42328.000000                2176.727150   \n",
      "max             1021.000000        56507.000000               11630.714300   \n",
      "\n",
      "            user_id     is_mobile    is_package       channel  \\\n",
      "count  2.528200e+04  25282.000000  25282.000000  25282.000000   \n",
      "mean   6.055340e+05      0.144609      0.108417      6.468990   \n",
      "std    3.471482e+05      0.351713      0.310913      3.938313   \n",
      "min    8.800000e+01      0.000000      0.000000      0.000000   \n",
      "25%    3.055710e+05      0.000000      0.000000      2.000000   \n",
      "50%    6.099440e+05      0.000000      0.000000      9.000000   \n",
      "75%    9.083128e+05      0.000000      0.000000     10.000000   \n",
      "max    1.198733e+06      1.000000      1.000000     10.000000   \n",
      "\n",
      "       srch_adults_cnt  srch_children_cnt   srch_rm_cnt  srch_destination_id  \\\n",
      "count     25282.000000       25282.000000  25282.000000         25282.000000   \n",
      "mean          1.965786           0.249980      1.119532         16451.083656   \n",
      "std           0.905036           0.668152      0.460486         12712.378705   \n",
      "min           0.000000           0.000000      0.000000             8.000000   \n",
      "25%           1.000000           0.000000      1.000000          8266.000000   \n",
      "50%           2.000000           0.000000      1.000000         12004.000000   \n",
      "75%           2.000000           0.000000      1.000000         23545.000000   \n",
      "max           9.000000           9.000000      8.000000         65760.000000   \n",
      "\n",
      "       srch_destination_type_id  hotel_continent  hotel_country  hotel_market  \n",
      "count              25282.000000     25282.000000   25282.000000  25282.000000  \n",
      "mean                   2.919943         3.016652      80.817064    645.277470  \n",
      "std                    2.277181         1.667390      55.015389    501.237272  \n",
      "min                    1.000000         0.000000       0.000000      0.000000  \n",
      "25%                    1.000000         2.000000      50.000000    281.000000  \n",
      "50%                    1.000000         2.000000      50.000000    628.000000  \n",
      "75%                    6.000000         4.000000     105.000000    769.000000  \n",
      "max                    9.000000         6.000000     212.000000   2117.000000  \n"
     ]
    }
   ],
   "source": [
    "### This is a pretty big piece of data to work with locally, lets sample it for the preliminary stuff \n",
    "pd.read_csv('data/test.csv').columns"
   ]
  },
  {
   "cell_type": "markdown",
   "metadata": {},
   "source": [
    "So from the description this is an event basis - How many users do we have?\n",
    "\n",
    "Shall we be looking at an event based algorithm or a user algorithm?"
   ]
  },
  {
   "cell_type": "markdown",
   "metadata": {},
   "source": [
    "## train.csv"
   ]
  },
  {
   "cell_type": "code",
   "execution_count": null,
   "metadata": {
    "collapsed": false
   },
   "outputs": [
    {
     "name": "stdout",
     "output_type": "stream",
     "text": [
      "             date_time  site_name  posa_continent  user_location_country  \\\n",
      "0  2013-09-04 13:47:29          2               3                     66   \n",
      "1  2013-10-13 12:14:03         11               3                    205   \n",
      "2  2013-12-18 15:05:35         34               3                    205   \n",
      "3  2014-11-21 11:30:57          8               4                     77   \n",
      "4  2013-11-25 07:09:18         11               3                    205   \n",
      "\n",
      "   user_location_region  user_location_city  orig_destination_distance  \\\n",
      "0                   321                3263                   262.2906   \n",
      "1                   135               36086                   169.2580   \n",
      "2                   354               43201                    72.3942   \n",
      "3                   947               50710                 10831.4902   \n",
      "4                   135               27655                  2377.6031   \n",
      "\n",
      "   user_id  is_mobile  is_package      ...        srch_children_cnt  \\\n",
      "0   422363          0           0      ...                        1   \n",
      "1   629053          0           0      ...                        0   \n",
      "2  1033551          0           0      ...                        0   \n",
      "3   240337          0           0      ...                        0   \n",
      "4   628237          0           0      ...                        0   \n",
      "\n",
      "  srch_rm_cnt srch_destination_id  srch_destination_type_id  is_booking  cnt  \\\n",
      "0           1                8230                         1           0    1   \n",
      "1           1               13030                         4           0    1   \n",
      "2           1               14875                         1           1    1   \n",
      "3           1               47346                         3           0    1   \n",
      "4           1                4454                         3           0    1   \n",
      "\n",
      "   hotel_continent  hotel_country  hotel_market  hotel_cluster  \n",
      "0                2             50           637             18  \n",
      "1                2            198           374              4  \n",
      "2                2            198           750             95  \n",
      "3                6             70           306             73  \n",
      "4                2             50           682             77  \n",
      "\n",
      "[5 rows x 24 columns]\n",
      "            site_name  posa_continent  user_location_country  \\\n",
      "count  1000000.000000  1000000.000000         1000000.000000   \n",
      "mean         9.803128        2.679835              86.110122   \n",
      "std         11.972913        0.749006              59.248520   \n",
      "min          2.000000        0.000000               0.000000   \n",
      "25%          2.000000        3.000000              66.000000   \n",
      "50%          2.000000        3.000000              66.000000   \n",
      "75%         14.000000        3.000000              70.000000   \n",
      "max         53.000000        4.000000             239.000000   \n",
      "\n",
      "       user_location_region  user_location_city  orig_destination_distance  \\\n",
      "count        1000000.000000      1000000.000000              641270.000000   \n",
      "mean             308.561580        27756.445453                1973.355705   \n",
      "std              208.623966        16774.418490                2234.373003   \n",
      "min                0.000000            0.000000                   0.005600   \n",
      "25%              174.000000        13009.000000                 313.821500   \n",
      "50%              314.000000        27655.000000                1149.743750   \n",
      "75%              385.000000        42397.000000                2552.858800   \n",
      "max             1025.000000        56507.000000               12404.419600   \n",
      "\n",
      "            user_id       is_mobile      is_package         channel  \\\n",
      "count  1.000000e+06  1000000.000000  1000000.000000  1000000.000000   \n",
      "mean   6.045712e+05        0.134680        0.248958        5.868891   \n",
      "std    3.507282e+05        0.341382        0.432410        3.718428   \n",
      "min    5.000000e+00        0.000000        0.000000        0.000000   \n",
      "25%    2.989448e+05        0.000000        0.000000        2.000000   \n",
      "50%    6.039895e+05        0.000000        0.000000        9.000000   \n",
      "75%    9.101962e+05        0.000000        0.000000        9.000000   \n",
      "max    1.198772e+06        1.000000        1.000000       10.000000   \n",
      "\n",
      "            ...        srch_children_cnt     srch_rm_cnt  srch_destination_id  \\\n",
      "count       ...           1000000.000000  1000000.000000       1000000.000000   \n",
      "mean        ...                 0.330177        1.112811         14427.010297   \n",
      "std         ...                 0.727936        0.460635         11063.995547   \n",
      "min         ...                 0.000000        0.000000             4.000000   \n",
      "25%         ...                 0.000000        1.000000          8267.000000   \n",
      "50%         ...                 0.000000        1.000000          9145.000000   \n",
      "75%         ...                 0.000000        1.000000         18790.000000   \n",
      "max         ...                 9.000000        8.000000         65104.000000   \n",
      "\n",
      "       srch_destination_type_id      is_booking             cnt  \\\n",
      "count            1000000.000000  1000000.000000  1000000.000000   \n",
      "mean                   2.580388        0.079702        1.483106   \n",
      "std                    2.152309        0.270831        1.214521   \n",
      "min                    0.000000        0.000000        1.000000   \n",
      "25%                    1.000000        0.000000        1.000000   \n",
      "50%                    1.000000        0.000000        1.000000   \n",
      "75%                    5.000000        0.000000        2.000000   \n",
      "max                    9.000000        1.000000      107.000000   \n",
      "\n",
      "       hotel_continent   hotel_country    hotel_market   hotel_cluster  \n",
      "count   1000000.000000  1000000.000000  1000000.000000  1000000.000000  \n",
      "mean          3.153961       81.264584      600.795819       49.756708  \n",
      "std           1.622179       56.141152      511.615356       28.925967  \n",
      "min           0.000000        0.000000        0.000000        0.000000  \n",
      "25%           2.000000       50.000000      167.000000       25.000000  \n",
      "50%           2.000000       50.000000      596.000000       49.000000  \n",
      "75%           4.000000      106.000000      701.000000       73.000000  \n",
      "max           6.000000      212.000000     2117.000000       99.000000  \n",
      "\n",
      "[8 rows x 21 columns]\n"
     ]
    }
   ],
   "source": [
    "### This is a pretty big piece of data to work with locally, lets sample it for the preliminary stuff \n",
    "pd.read_csv('data/train.csv').sample(n=1000000).to_csv('data/train_sample.csv',index=False)\n",
    "    \n",
    "descr('data/train_sample.csv')"
   ]
  },
  {
   "cell_type": "code",
   "execution_count": null,
   "metadata": {
    "collapsed": false
   },
   "outputs": [],
   "source": [
    "ftest = pd.read_csv('data/train.csv')\n",
    "print len(ftest), len(ftest['user_id'].unique()), ftest.groupby('user_id')['is_booking'].count().max()"
   ]
  },
  {
   "cell_type": "code",
   "execution_count": null,
   "metadata": {
    "collapsed": false
   },
   "outputs": [],
   "source": [
    "##Whats the distribution of user calls? do we need a recursive user algorithm or can we just simply rescore each event?\n",
    "uftest = ftest.groupby('user_id')['is_booking'].count().reset_index()\n",
    "uftest.columns = ['user_id','count']\n",
    "uftest.head()"
   ]
  },
  {
   "cell_type": "code",
   "execution_count": null,
   "metadata": {
    "collapsed": false
   },
   "outputs": [],
   "source": [
    "plt.hist(uftest['count'],bins=530)\n",
    "plt.ylabel(\"count of users\")\n",
    "plt.xlabel(\"No of events per user\")\n",
    "plt.title(\"No of events per user\")\n",
    "plt.show()"
   ]
  },
  {
   "cell_type": "code",
   "execution_count": null,
   "metadata": {
    "collapsed": false
   },
   "outputs": [],
   "source": [
    "## % of users who have 1 event and less than 10\n",
    "print round(float(len(uftest[uftest['count']<= 10])) / float(len(uftest))*100,2)"
   ]
  },
  {
   "cell_type": "markdown",
   "metadata": {},
   "source": [
    "So it looks like its going to need a user level algorithm as we have alot of users with multiple events - although 40% of users have less than 10 events\n",
    "\n",
    "Lets split the analysis into two types:\n",
    "\n",
    "1 Event level algorithm\n",
    "\n",
    "2 User level algorithm"
   ]
  },
  {
   "cell_type": "markdown",
   "metadata": {},
   "source": [
    "## test.csv"
   ]
  },
  {
   "cell_type": "markdown",
   "metadata": {},
   "source": [
    "Lets just make sure we have a correct test csv, looking at the columns and size"
   ]
  },
  {
   "cell_type": "code",
   "execution_count": 43,
   "metadata": {
    "collapsed": false
   },
   "outputs": [
    {
     "name": "stdout",
     "output_type": "stream",
     "text": [
      "2528243\n"
     ]
    }
   ],
   "source": [
    "print len(pd.read_csv('data/test.csv'))"
   ]
  },
  {
   "cell_type": "code",
   "execution_count": 44,
   "metadata": {
    "collapsed": false
   },
   "outputs": [
    {
     "name": "stdout",
     "output_type": "stream",
     "text": [
      "Index([u'id', u'date_time', u'site_name', u'posa_continent',\n",
      "       u'user_location_country', u'user_location_region',\n",
      "       u'user_location_city', u'orig_destination_distance', u'user_id',\n",
      "       u'is_mobile', u'is_package', u'channel', u'srch_ci', u'srch_co',\n",
      "       u'srch_adults_cnt', u'srch_children_cnt', u'srch_rm_cnt',\n",
      "       u'srch_destination_id', u'srch_destination_type_id', u'hotel_continent',\n",
      "       u'hotel_country', u'hotel_market'],\n",
      "      dtype='object')\n"
     ]
    }
   ],
   "source": [
    "print pd.read_csv('data/test.csv').columns"
   ]
  },
  {
   "cell_type": "markdown",
   "metadata": {},
   "source": [
    "## Are we looking at new users or just existing users?"
   ]
  },
  {
   "cell_type": "code",
   "execution_count": 45,
   "metadata": {
    "collapsed": false
   },
   "outputs": [
    {
     "name": "stdout",
     "output_type": "stream",
     "text": [
      "0\n"
     ]
    }
   ],
   "source": [
    "train_users = pd.read_csv('data/train.csv')['user_id']\n",
    "test_users = train = pd.read_csv('data/test.csv')['user_id']\n",
    "\n",
    "print test_users[~test_users.isin(train_users)].count()"
   ]
  },
  {
   "cell_type": "markdown",
   "metadata": {},
   "source": [
    "So we are definitely loking at a user level algorithm rather than just an event based one.\n",
    "\n",
    "Data manipulation next - will need to aggregate to user level"
   ]
  },
  {
   "cell_type": "markdown",
   "metadata": {},
   "source": [
    "### Train and test checks"
   ]
  },
  {
   "cell_type": "code",
   "execution_count": 48,
   "metadata": {
    "collapsed": true
   },
   "outputs": [],
   "source": [
    "trains = pd.read_csv('data/train_sample.csv')\n",
    "tests = pd.read_csv('data/test_sample.csv')"
   ]
  },
  {
   "cell_type": "code",
   "execution_count": 50,
   "metadata": {
    "collapsed": false
   },
   "outputs": [
    {
     "data": {
      "text/plain": [
       "Index([u'date_time', u'site_name', u'posa_continent', u'user_location_country',\n",
       "       u'user_location_region', u'user_location_city',\n",
       "       u'orig_destination_distance', u'user_id', u'is_mobile', u'is_package',\n",
       "       u'channel', u'srch_ci', u'srch_co', u'srch_adults_cnt',\n",
       "       u'srch_children_cnt', u'srch_rm_cnt', u'srch_destination_id',\n",
       "       u'srch_destination_type_id', u'is_booking', u'cnt', u'hotel_continent',\n",
       "       u'hotel_country', u'hotel_market', u'hotel_cluster'],\n",
       "      dtype='object')"
      ]
     },
     "execution_count": 50,
     "metadata": {},
     "output_type": "execute_result"
    }
   ],
   "source": [
    "trains.columns"
   ]
  },
  {
   "cell_type": "code",
   "execution_count": 51,
   "metadata": {
    "collapsed": false
   },
   "outputs": [
    {
     "data": {
      "text/plain": [
       "Index([u'id', u'date_time', u'site_name', u'posa_continent',\n",
       "       u'user_location_country', u'user_location_region',\n",
       "       u'user_location_city', u'orig_destination_distance', u'user_id',\n",
       "       u'is_mobile', u'is_package', u'channel', u'srch_ci', u'srch_co',\n",
       "       u'srch_adults_cnt', u'srch_children_cnt', u'srch_rm_cnt',\n",
       "       u'srch_destination_id', u'srch_destination_type_id', u'hotel_continent',\n",
       "       u'hotel_country', u'hotel_market'],\n",
       "      dtype='object')"
      ]
     },
     "execution_count": 51,
     "metadata": {},
     "output_type": "execute_result"
    }
   ],
   "source": [
    "tests.columns"
   ]
  },
  {
   "cell_type": "code",
   "execution_count": 49,
   "metadata": {
    "collapsed": false
   },
   "outputs": [
    {
     "name": "stdout",
     "output_type": "stream",
     "text": [
      "24 22\n"
     ]
    }
   ],
   "source": [
    "print len(trains.columns),len(tests.columns)"
   ]
  },
  {
   "cell_type": "markdown",
   "metadata": {},
   "source": [
    "So just the id and hotel cluster not there as expected"
   ]
  },
  {
   "cell_type": "code",
   "execution_count": 5,
   "metadata": {
    "collapsed": false
   },
   "outputs": [
    {
     "data": {
      "text/plain": [
       "88"
      ]
     },
     "execution_count": 5,
     "metadata": {},
     "output_type": "execute_result"
    }
   ],
   "source": [
    "traint = pd.read_csv('data/train.csv')\n",
    "\n",
    "traint.groupby('user_id')['hotel_cluster'].agg(lambda x: len(x.unique())).max()"
   ]
  },
  {
   "cell_type": "code",
   "execution_count": null,
   "metadata": {
    "collapsed": true
   },
   "outputs": [],
   "source": []
  }
 ],
 "metadata": {
  "kernelspec": {
   "display_name": "Python 2",
   "language": "python",
   "name": "python2"
  },
  "language_info": {
   "codemirror_mode": {
    "name": "ipython",
    "version": 2
   },
   "file_extension": ".py",
   "mimetype": "text/x-python",
   "name": "python",
   "nbconvert_exporter": "python",
   "pygments_lexer": "ipython2",
   "version": "2.7.10"
  }
 },
 "nbformat": 4,
 "nbformat_minor": 0
}
