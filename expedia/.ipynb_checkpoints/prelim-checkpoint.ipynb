{
 "cells": [
  {
   "cell_type": "code",
   "execution_count": 2,
   "metadata": {
    "collapsed": true
   },
   "outputs": [],
   "source": [
    "%matplotlib inline"
   ]
  },
  {
   "cell_type": "code",
   "execution_count": 3,
   "metadata": {
    "collapsed": true
   },
   "outputs": [],
   "source": [
    "from scipy import stats as st\n",
    "import pandas as pd\n",
    "import matplotlib.pyplot as plt\n",
    "import seaborn as sns\n",
    "import numpy as np\n",
    "\n",
    "sns.set_context(\"poster\")"
   ]
  },
  {
   "cell_type": "markdown",
   "metadata": {
    "collapsed": true
   },
   "source": [
    "# Basic Stats on the data"
   ]
  },
  {
   "cell_type": "markdown",
   "metadata": {},
   "source": [
    "Focus:\n",
    "\n",
    "* to understand each data element\n",
    "* to get an idea of what type of algorithm needs to be built\n",
    "    * Event level - simple line-by-line algorithm\n",
    "    * User level - Needs to hold all user data and aggregate up for each event coming in"
   ]
  },
  {
   "cell_type": "code",
   "execution_count": 3,
   "metadata": {
    "collapsed": true
   },
   "outputs": [],
   "source": [
    "def descr(filen):\n",
    "    f = pd.read_csv(filen)\n",
    "    print f.head()\n",
    "    print f.describe()"
   ]
  },
  {
   "cell_type": "markdown",
   "metadata": {},
   "source": [
    "## destinations.csv"
   ]
  },
  {
   "cell_type": "code",
   "execution_count": 4,
   "metadata": {
    "collapsed": false
   },
   "outputs": [
    {
     "name": "stdout",
     "output_type": "stream",
     "text": [
      "62106\n"
     ]
    }
   ],
   "source": [
    "print len(pd.read_csv('data/destinations.csv'))"
   ]
  },
  {
   "cell_type": "code",
   "execution_count": 5,
   "metadata": {
    "collapsed": true
   },
   "outputs": [
    {
     "name": "stdout",
     "output_type": "stream",
     "text": [
      "   srch_destination_id        d1        d2        d3        d4        d5  \\\n",
      "0                    0 -2.198657 -2.198657 -2.198657 -2.198657 -2.198657   \n",
      "1                    1 -2.181690 -2.181690 -2.181690 -2.082564 -2.181690   \n",
      "2                    2 -2.183490 -2.224164 -2.224164 -2.189562 -2.105819   \n",
      "3                    3 -2.177409 -2.177409 -2.177409 -2.177409 -2.177409   \n",
      "4                    4 -2.189562 -2.187783 -2.194008 -2.171153 -2.152303   \n",
      "\n",
      "         d6        d7        d8        d9    ...         d140      d141  \\\n",
      "0 -1.897627 -2.198657 -2.198657 -1.897627    ...    -2.198657 -2.198657   \n",
      "1 -2.165028 -2.181690 -2.181690 -2.031597    ...    -2.165028 -2.181690   \n",
      "2 -2.075407 -2.224164 -2.118483 -2.140393    ...    -2.224164 -2.224164   \n",
      "3 -2.115485 -2.177409 -2.177409 -2.177409    ...    -2.161081 -2.177409   \n",
      "4 -2.056618 -2.194008 -2.194008 -2.145911    ...    -2.187356 -2.194008   \n",
      "\n",
      "       d142      d143      d144      d145      d146      d147      d148  \\\n",
      "0 -2.198657 -2.198657 -2.198657 -2.198657 -2.198657 -2.198657 -2.198657   \n",
      "1 -2.165028 -2.181690 -2.181690 -2.165028 -2.181690 -2.181690 -2.181690   \n",
      "2 -2.196379 -2.224164 -2.192009 -2.224164 -2.224164 -2.224164 -2.224164   \n",
      "3 -2.177409 -2.177409 -2.177409 -2.177409 -2.177409 -2.177409 -2.177409   \n",
      "4 -2.191779 -2.194008 -2.194008 -2.185161 -2.194008 -2.194008 -2.194008   \n",
      "\n",
      "       d149  \n",
      "0 -2.198657  \n",
      "1 -2.181690  \n",
      "2 -2.057548  \n",
      "3 -2.177409  \n",
      "4 -2.188037  \n",
      "\n",
      "[5 rows x 150 columns]\n",
      "       srch_destination_id            d1            d2            d3  \\\n",
      "count         62106.000000  62106.000000  62106.000000  62106.000000   \n",
      "mean          32359.463884     -2.193903     -2.202854     -2.207391   \n",
      "std           18711.765765      0.038576      0.041065      0.040092   \n",
      "min               0.000000     -2.597617     -2.671613     -2.671613   \n",
      "25%           16320.250000     -2.209336     -2.220192     -2.223679   \n",
      "50%           32277.500000     -2.185969     -2.193247     -2.195208   \n",
      "75%           48467.750000     -2.175309     -2.179261     -2.179990   \n",
      "max           64993.000000     -1.596004     -1.341325     -1.917826   \n",
      "\n",
      "                 d4            d5            d6            d7            d8  \\\n",
      "count  62106.000000  62106.000000  62106.000000  62106.000000  62106.000000   \n",
      "mean      -2.194040     -2.161497     -2.045110     -2.202433     -2.203207   \n",
      "std        0.041406      0.066197      0.135803      0.038886      0.036578   \n",
      "min       -2.671613     -2.671613     -2.344165     -2.671613     -2.671613   \n",
      "25%       -2.211437     -2.192158     -2.154267     -2.218745     -2.219086   \n",
      "50%       -2.188057     -2.178255     -2.088598     -2.192513     -2.192915   \n",
      "75%       -2.176763     -2.153317     -1.975940     -2.178976     -2.179164   \n",
      "max       -1.814585     -1.607558     -1.209058     -1.474441     -1.879678   \n",
      "\n",
      "                 d9      ...               d140          d141          d142  \\\n",
      "count  62106.000000      ...       62106.000000  62106.000000  62106.000000   \n",
      "mean      -2.107808      ...          -2.204092     -2.196919     -2.203262   \n",
      "std        0.197904      ...           0.037164      0.059914      0.046520   \n",
      "min       -2.495544      ...          -2.620769     -2.671613     -2.671613   \n",
      "25%       -2.197704      ...          -2.219630     -2.216147     -2.220347   \n",
      "50%       -2.177229      ...          -2.192232     -2.190525     -2.192814   \n",
      "75%       -2.123598      ...          -2.178093     -2.177777     -2.178996   \n",
      "max       -0.977219      ...          -1.855317     -0.960356     -1.357408   \n",
      "\n",
      "               d143          d144          d145          d146          d147  \\\n",
      "count  62106.000000  62106.000000  62106.000000  62106.000000  62106.000000   \n",
      "mean      -2.205128     -2.201925     -2.203332     -2.202989     -2.208359   \n",
      "std        0.039465      0.041603      0.038239      0.051552      0.038035   \n",
      "min       -2.671613     -2.671613     -2.671613     -2.671613     -2.671613   \n",
      "25%       -2.221893     -2.218394     -2.220500     -2.221748     -2.224618   \n",
      "50%       -2.194127     -2.191564     -2.192200     -2.193352     -2.196185   \n",
      "75%       -2.179475     -2.178335     -2.177590     -2.178927     -2.180602   \n",
      "max       -1.775218     -1.790435     -1.799341     -1.335962     -1.816892   \n",
      "\n",
      "               d148          d149  \n",
      "count  62106.000000  62106.000000  \n",
      "mean      -2.208269     -2.199470  \n",
      "std        0.038569      0.042438  \n",
      "min       -2.671613     -2.671613  \n",
      "25%       -2.224290     -2.216428  \n",
      "50%       -2.195900     -2.190953  \n",
      "75%       -2.180380     -2.178088  \n",
      "max       -1.718778     -1.500309  \n",
      "\n",
      "[8 rows x 150 columns]\n"
     ]
    }
   ],
   "source": [
    "descr('data/destinations.csv')"
   ]
  },
  {
   "cell_type": "code",
   "execution_count": 8,
   "metadata": {
    "collapsed": false
   },
   "outputs": [
    {
     "name": "stdout",
     "output_type": "stream",
     "text": [
      "        id            date_time  site_name  posa_continent  \\\n",
      "0  2104079  2015-11-05 23:20:56          2               3   \n",
      "1   781110  2015-06-17 18:15:57          2               3   \n",
      "2  1602093  2015-06-30 15:07:26          2               3   \n",
      "3  2008933  2015-08-10 09:55:47          2               3   \n",
      "4  1441610  2015-05-03 17:17:11         24               2   \n",
      "\n",
      "   user_location_country  user_location_region  user_location_city  \\\n",
      "0                     66                   321               47535   \n",
      "1                     66                   332               48650   \n",
      "2                     66                   363                2495   \n",
      "3                     57                   342                5021   \n",
      "4                      3                    84                6148   \n",
      "\n",
      "   orig_destination_distance  user_id  is_mobile      ...          srch_ci  \\\n",
      "0                  2308.2647   990284          0      ...       2016-02-12   \n",
      "1                   833.8805   194649          0      ...       2015-06-23   \n",
      "2                   409.1898   522891          1      ...       2015-06-30   \n",
      "3                        NaN   676822          0      ...       2015-08-20   \n",
      "4                        NaN  1188947          0      ...       2015-05-03   \n",
      "\n",
      "      srch_co srch_adults_cnt srch_children_cnt  srch_rm_cnt  \\\n",
      "0  2016-02-15               2                 1            1   \n",
      "1  2015-06-24               1                 0            1   \n",
      "2  2015-07-01               2                 0            1   \n",
      "3  2015-08-23               2                 0            1   \n",
      "4  2015-05-04               1                 0            1   \n",
      "\n",
      "   srch_destination_id  srch_destination_type_id  hotel_continent  \\\n",
      "0                11439                         1                4   \n",
      "1                26606                         6                2   \n",
      "2                 8230                         1                2   \n",
      "3                12772                         5                4   \n",
      "4                12236                         6                2   \n",
      "\n",
      "   hotel_country  hotel_market  \n",
      "0            163          1503  \n",
      "1             50           550  \n",
      "2             50           637  \n",
      "3             84          1937  \n",
      "4             50           676  \n",
      "\n",
      "[5 rows x 22 columns]\n",
      "                 id     site_name  posa_continent  user_location_country  \\\n",
      "count  2.528200e+04  25282.000000    25282.000000           25282.000000   \n",
      "mean   1.270240e+06      9.725694        2.700024              86.051776   \n",
      "std    7.292379e+05     12.333599        0.760070              56.924397   \n",
      "min    8.400000e+01      0.000000        0.000000               0.000000   \n",
      "25%    6.407360e+05      2.000000        3.000000              66.000000   \n",
      "50%    1.272754e+06      2.000000        3.000000              66.000000   \n",
      "75%    1.901155e+06     13.000000        3.000000              69.000000   \n",
      "max    2.528181e+06     53.000000        4.000000             239.000000   \n",
      "\n",
      "       user_location_region  user_location_city  orig_destination_distance  \\\n",
      "count          25282.000000        25282.000000               16946.000000   \n",
      "mean             317.601337        27788.415157                1655.061888   \n",
      "std              206.580501        16642.570563                2173.884966   \n",
      "min                0.000000            3.000000                   0.030700   \n",
      "25%              174.000000        13400.000000                 201.894175   \n",
      "50%              318.000000        27655.000000                 716.232450   \n",
      "75%              403.000000        42328.000000                2176.727150   \n",
      "max             1021.000000        56507.000000               11630.714300   \n",
      "\n",
      "            user_id     is_mobile    is_package       channel  \\\n",
      "count  2.528200e+04  25282.000000  25282.000000  25282.000000   \n",
      "mean   6.055340e+05      0.144609      0.108417      6.468990   \n",
      "std    3.471482e+05      0.351713      0.310913      3.938313   \n",
      "min    8.800000e+01      0.000000      0.000000      0.000000   \n",
      "25%    3.055710e+05      0.000000      0.000000      2.000000   \n",
      "50%    6.099440e+05      0.000000      0.000000      9.000000   \n",
      "75%    9.083128e+05      0.000000      0.000000     10.000000   \n",
      "max    1.198733e+06      1.000000      1.000000     10.000000   \n",
      "\n",
      "       srch_adults_cnt  srch_children_cnt   srch_rm_cnt  srch_destination_id  \\\n",
      "count     25282.000000       25282.000000  25282.000000         25282.000000   \n",
      "mean          1.965786           0.249980      1.119532         16451.083656   \n",
      "std           0.905036           0.668152      0.460486         12712.378705   \n",
      "min           0.000000           0.000000      0.000000             8.000000   \n",
      "25%           1.000000           0.000000      1.000000          8266.000000   \n",
      "50%           2.000000           0.000000      1.000000         12004.000000   \n",
      "75%           2.000000           0.000000      1.000000         23545.000000   \n",
      "max           9.000000           9.000000      8.000000         65760.000000   \n",
      "\n",
      "       srch_destination_type_id  hotel_continent  hotel_country  hotel_market  \n",
      "count              25282.000000     25282.000000   25282.000000  25282.000000  \n",
      "mean                   2.919943         3.016652      80.817064    645.277470  \n",
      "std                    2.277181         1.667390      55.015389    501.237272  \n",
      "min                    1.000000         0.000000       0.000000      0.000000  \n",
      "25%                    1.000000         2.000000      50.000000    281.000000  \n",
      "50%                    1.000000         2.000000      50.000000    628.000000  \n",
      "75%                    6.000000         4.000000     105.000000    769.000000  \n",
      "max                    9.000000         6.000000     212.000000   2117.000000  \n"
     ]
    }
   ],
   "source": [
    "### This is a pretty big piece of data to work with locally, lets sample it for the preliminary stuff \n",
    "pd.read_csv('data/test.csv').columns"
   ]
  },
  {
   "cell_type": "markdown",
   "metadata": {},
   "source": [
    "So from the description this is an event basis - How many users do we have?\n",
    "\n",
    "Shall we be looking at an event based algorithm or a user algorithm?"
   ]
  },
  {
   "cell_type": "markdown",
   "metadata": {},
   "source": [
    "## train.csv"
   ]
  },
  {
   "cell_type": "code",
   "execution_count": 10,
   "metadata": {
    "collapsed": false
   },
   "outputs": [
    {
     "name": "stdout",
     "output_type": "stream",
     "text": [
      "37670293\n"
     ]
    }
   ],
   "source": [
    "print len(pd.read_csv('data/train.csv'))"
   ]
  },
  {
   "cell_type": "code",
   "execution_count": 11,
   "metadata": {
    "collapsed": false
   },
   "outputs": [
    {
     "name": "stdout",
     "output_type": "stream",
     "text": [
      "             date_time  site_name  posa_continent  user_location_country  \\\n",
      "0  2013-12-07 19:15:25          2               3                     66   \n",
      "1  2014-07-29 06:17:44          2               3                     66   \n",
      "2  2014-11-11 17:06:43          2               3                     66   \n",
      "3  2014-10-02 13:51:10          2               3                     66   \n",
      "4  2014-07-18 14:44:03          2               3                     66   \n",
      "\n",
      "   user_location_region  user_location_city  orig_destination_distance  \\\n",
      "0                   348               47997                  1587.4944   \n",
      "1                   351               52368                  8944.0817   \n",
      "2                   462               52482                   872.7534   \n",
      "3                   174               53078                    10.4244   \n",
      "4                   174               41942                  6372.7824   \n",
      "\n",
      "   user_id  is_mobile  is_package      ...        srch_children_cnt  \\\n",
      "0  1091923          0           0      ...                        2   \n",
      "1   643476          0           0      ...                        0   \n",
      "2   760131          0           0      ...                        0   \n",
      "3   631386          0           0      ...                        0   \n",
      "4   166207          0           0      ...                        0   \n",
      "\n",
      "  srch_rm_cnt srch_destination_id  srch_destination_type_id  is_booking  cnt  \\\n",
      "0           1                5405                         6           0    1   \n",
      "1           1                1725                         1           0    1   \n",
      "2           1                8250                         1           0    1   \n",
      "3           1               11359                         1           0    2   \n",
      "4           1                8746                         1           0    1   \n",
      "\n",
      "   hotel_continent  hotel_country  hotel_market  hotel_cluster  \n",
      "0                4              8           126             52  \n",
      "1                3            182          1493             78  \n",
      "2                2             50           628             54  \n",
      "3                2             50           358             17  \n",
      "4                6            105            29              8  \n",
      "\n",
      "[5 rows x 24 columns]\n",
      "           site_name  posa_continent  user_location_country  \\\n",
      "count  188351.000000   188351.000000          188351.000000   \n",
      "mean        9.863415        2.678531              86.389539   \n",
      "std        12.023618        0.748659              59.349628   \n",
      "min         2.000000        0.000000               0.000000   \n",
      "25%         2.000000        3.000000              66.000000   \n",
      "50%         2.000000        3.000000              66.000000   \n",
      "75%        15.000000        3.000000              71.000000   \n",
      "max        53.000000        4.000000             239.000000   \n",
      "\n",
      "       user_location_region  user_location_city  orig_destination_distance  \\\n",
      "count         188351.000000       188351.000000              120548.000000   \n",
      "mean             308.481866        27771.072089                1965.883568   \n",
      "std              208.789174        16753.894743                2229.023275   \n",
      "min                0.000000            0.000000                   0.005600   \n",
      "25%              174.000000        13134.000000                 314.156200   \n",
      "50%              314.000000        27655.000000                1143.964800   \n",
      "75%              385.000000        42328.000000                2547.103800   \n",
      "max             1021.000000        56507.000000               11999.084300   \n",
      "\n",
      "            user_id      is_mobile     is_package        channel  \\\n",
      "count  1.883510e+05  188351.000000  188351.000000  188351.000000   \n",
      "mean   6.037483e+05       0.133851       0.248775       5.859788   \n",
      "std    3.509319e+05       0.340493       0.432304       3.719280   \n",
      "min    5.000000e+00       0.000000       0.000000       0.000000   \n",
      "25%    2.973825e+05       0.000000       0.000000       2.000000   \n",
      "50%    6.027710e+05       0.000000       0.000000       9.000000   \n",
      "75%    9.095405e+05       0.000000       0.000000       9.000000   \n",
      "max    1.198768e+06       1.000000       1.000000      10.000000   \n",
      "\n",
      "           ...        srch_children_cnt    srch_rm_cnt  srch_destination_id  \\\n",
      "count      ...            188351.000000  188351.000000        188351.000000   \n",
      "mean       ...                 0.332225       1.112163         14425.123461   \n",
      "std        ...                 0.729608       0.457254         11040.464163   \n",
      "min        ...                 0.000000       0.000000             4.000000   \n",
      "25%        ...                 0.000000       1.000000          8267.000000   \n",
      "50%        ...                 0.000000       1.000000          9147.000000   \n",
      "75%        ...                 0.000000       1.000000         18790.000000   \n",
      "max        ...                 9.000000       8.000000         65039.000000   \n",
      "\n",
      "       srch_destination_type_id     is_booking            cnt  \\\n",
      "count             188351.000000  188351.000000  188351.000000   \n",
      "mean                   2.578988       0.081109       1.482981   \n",
      "std                    2.151433       0.273003       1.199317   \n",
      "min                    1.000000       0.000000       1.000000   \n",
      "25%                    1.000000       0.000000       1.000000   \n",
      "50%                    1.000000       0.000000       1.000000   \n",
      "75%                    5.000000       0.000000       2.000000   \n",
      "max                    9.000000       1.000000      40.000000   \n",
      "\n",
      "       hotel_continent  hotel_country   hotel_market  hotel_cluster  \n",
      "count    188351.000000  188351.000000  188351.000000  188351.000000  \n",
      "mean          3.158741      81.339473     600.858971      49.811586  \n",
      "std           1.621496      56.226266     512.355475      28.878237  \n",
      "min           0.000000       0.000000       0.000000       0.000000  \n",
      "25%           2.000000      50.000000     162.000000      25.000000  \n",
      "50%           2.000000      50.000000     593.000000      49.000000  \n",
      "75%           4.000000     106.000000     701.000000      73.000000  \n",
      "max           6.000000     212.000000    2117.000000      99.000000  \n",
      "\n",
      "[8 rows x 21 columns]\n"
     ]
    }
   ],
   "source": [
    "### This is a pretty big piece of data to work with locally, lets sample it for the preliminary stuff \n",
    "pd.read_csv('data/train.csv').sample(frac=0.005).to_csv('data/train_sample.csv',index=False)\n",
    "    \n",
    "descr('data/train_sample.csv')"
   ]
  },
  {
   "cell_type": "code",
   "execution_count": 14,
   "metadata": {
    "collapsed": false
   },
   "outputs": [
    {
     "name": "stdout",
     "output_type": "stream",
     "text": [
      " 37670293 1198786 530\n"
     ]
    }
   ],
   "source": [
    "ftest = pd.read_csv('data/train.csv')\n",
    "print len(ftest), len(ftest['user_id'].unique()), ftest.groupby('user_id')['is_booking'].count().max()"
   ]
  },
  {
   "cell_type": "code",
   "execution_count": 26,
   "metadata": {
    "collapsed": false
   },
   "outputs": [
    {
     "data": {
      "text/html": [
       "<div>\n",
       "<table border=\"1\" class=\"dataframe\">\n",
       "  <thead>\n",
       "    <tr style=\"text-align: right;\">\n",
       "      <th></th>\n",
       "      <th>user_id</th>\n",
       "      <th>count</th>\n",
       "    </tr>\n",
       "  </thead>\n",
       "  <tbody>\n",
       "    <tr>\n",
       "      <th>0</th>\n",
       "      <td>0</td>\n",
       "      <td>6</td>\n",
       "    </tr>\n",
       "    <tr>\n",
       "      <th>1</th>\n",
       "      <td>1</td>\n",
       "      <td>4</td>\n",
       "    </tr>\n",
       "    <tr>\n",
       "      <th>2</th>\n",
       "      <td>2</td>\n",
       "      <td>19</td>\n",
       "    </tr>\n",
       "    <tr>\n",
       "      <th>3</th>\n",
       "      <td>3</td>\n",
       "      <td>8</td>\n",
       "    </tr>\n",
       "    <tr>\n",
       "      <th>4</th>\n",
       "      <td>4</td>\n",
       "      <td>10</td>\n",
       "    </tr>\n",
       "  </tbody>\n",
       "</table>\n",
       "</div>"
      ],
      "text/plain": [
       "   user_id  count\n",
       "0        0      6\n",
       "1        1      4\n",
       "2        2     19\n",
       "3        3      8\n",
       "4        4     10"
      ]
     },
     "execution_count": 26,
     "metadata": {},
     "output_type": "execute_result"
    }
   ],
   "source": [
    "##Whats the distribution of user calls? do we need a recursive user algorithm or can we just simply rescore each event?\n",
    "uftest = ftest.groupby('user_id')['is_booking'].count().reset_index()\n",
    "uftest.columns = ['user_id','count']\n",
    "uftest.head()"
   ]
  },
  {
   "cell_type": "code",
   "execution_count": 39,
   "metadata": {
    "collapsed": false
   },
   "outputs": [
    {
     "data": {
      "image/png": "[encoded data removed]",
      "text/plain": [
       "<matplotlib.figure.Figure at 0x3e101f290>"
      ]
     },
     "metadata": {},
     "output_type": "display_data"
    }
   ],
   "source": [
    "plt.hist(uftest['count'],bins=530)\n",
    "plt.ylabel(\"count of users\")\n",
    "plt.xlabel(\"No of events per user\")\n",
    "plt.title(\"No of events per user\")\n",
    "plt.show()"
   ]
  },
  {
   "cell_type": "code",
   "execution_count": 42,
   "metadata": {
    "collapsed": false
   },
   "outputs": [
    {
     "name": "stdout",
     "output_type": "stream",
     "text": [
      "39.15\n"
     ]
    }
   ],
   "source": [
    "## % of users who have 1 event and less than 10\n",
    "print round(float(len(uftest[uftest['count']<= 10])) / float(len(uftest))*100,2)"
   ]
  },
  {
   "cell_type": "markdown",
   "metadata": {},
   "source": [
    "So it looks like its going to need a user level algorithm as we have alot of users with multiple events - although 40% of users have less than 10 events\n",
    "\n",
    "Lets split the analysis into two types:\n",
    "\n",
    "1 Event level algorithm\n",
    "\n",
    "2 User level algorithm"
   ]
  },
  {
   "cell_type": "markdown",
   "metadata": {},
   "source": [
    "## test.csv"
   ]
  },
  {
   "cell_type": "markdown",
   "metadata": {},
   "source": [
    "Lets just make sure we have a correct test csv, looking at the columns and size"
   ]
  },
  {
   "cell_type": "code",
   "execution_count": 43,
   "metadata": {
    "collapsed": false
   },
   "outputs": [
    {
     "name": "stdout",
     "output_type": "stream",
     "text": [
      "2528243\n"
     ]
    }
   ],
   "source": [
    "print len(pd.read_csv('data/test.csv'))"
   ]
  },
  {
   "cell_type": "code",
   "execution_count": 44,
   "metadata": {
    "collapsed": false
   },
   "outputs": [
    {
     "name": "stdout",
     "output_type": "stream",
     "text": [
      "Index([u'id', u'date_time', u'site_name', u'posa_continent',\n",
      "       u'user_location_country', u'user_location_region',\n",
      "       u'user_location_city', u'orig_destination_distance', u'user_id',\n",
      "       u'is_mobile', u'is_package', u'channel', u'srch_ci', u'srch_co',\n",
      "       u'srch_adults_cnt', u'srch_children_cnt', u'srch_rm_cnt',\n",
      "       u'srch_destination_id', u'srch_destination_type_id', u'hotel_continent',\n",
      "       u'hotel_country', u'hotel_market'],\n",
      "      dtype='object')\n"
     ]
    }
   ],
   "source": [
    "print pd.read_csv('data/test.csv').columns"
   ]
  },
  {
   "cell_type": "markdown",
   "metadata": {},
   "source": [
    "## Are we looking at new users or just existing users?"
   ]
  },
  {
   "cell_type": "code",
   "execution_count": 45,
   "metadata": {
    "collapsed": false
   },
   "outputs": [
    {
     "name": "stdout",
     "output_type": "stream",
     "text": [
      "0\n"
     ]
    }
   ],
   "source": [
    "train_users = pd.read_csv('data/train.csv')['user_id']\n",
    "test_users = train = pd.read_csv('data/test.csv')['user_id']\n",
    "\n",
    "print test_users[~test_users.isin(train_users)].count()"
   ]
  },
  {
   "cell_type": "markdown",
   "metadata": {},
   "source": [
    "So we are definitely loking at a user level algorithm rather than just an event based one.\n",
    "\n",
    "Data manipulation next - will need to aggregate to user level"
   ]
  },
  {
   "cell_type": "markdown",
   "metadata": {},
   "source": [
    "### Train and test checks"
   ]
  },
  {
   "cell_type": "code",
   "execution_count": 48,
   "metadata": {
    "collapsed": true
   },
   "outputs": [],
   "source": [
    "trains = pd.read_csv('data/train_sample.csv')\n",
    "tests = pd.read_csv('data/test_sample.csv')"
   ]
  },
  {
   "cell_type": "code",
   "execution_count": 50,
   "metadata": {
    "collapsed": false
   },
   "outputs": [
    {
     "data": {
      "text/plain": [
       "Index([u'date_time', u'site_name', u'posa_continent', u'user_location_country',\n",
       "       u'user_location_region', u'user_location_city',\n",
       "       u'orig_destination_distance', u'user_id', u'is_mobile', u'is_package',\n",
       "       u'channel', u'srch_ci', u'srch_co', u'srch_adults_cnt',\n",
       "       u'srch_children_cnt', u'srch_rm_cnt', u'srch_destination_id',\n",
       "       u'srch_destination_type_id', u'is_booking', u'cnt', u'hotel_continent',\n",
       "       u'hotel_country', u'hotel_market', u'hotel_cluster'],\n",
       "      dtype='object')"
      ]
     },
     "execution_count": 50,
     "metadata": {},
     "output_type": "execute_result"
    }
   ],
   "source": [
    "trains.columns"
   ]
  },
  {
   "cell_type": "code",
   "execution_count": 51,
   "metadata": {
    "collapsed": false
   },
   "outputs": [
    {
     "data": {
      "text/plain": [
       "Index([u'id', u'date_time', u'site_name', u'posa_continent',\n",
       "       u'user_location_country', u'user_location_region',\n",
       "       u'user_location_city', u'orig_destination_distance', u'user_id',\n",
       "       u'is_mobile', u'is_package', u'channel', u'srch_ci', u'srch_co',\n",
       "       u'srch_adults_cnt', u'srch_children_cnt', u'srch_rm_cnt',\n",
       "       u'srch_destination_id', u'srch_destination_type_id', u'hotel_continent',\n",
       "       u'hotel_country', u'hotel_market'],\n",
       "      dtype='object')"
      ]
     },
     "execution_count": 51,
     "metadata": {},
     "output_type": "execute_result"
    }
   ],
   "source": [
    "tests.columns"
   ]
  },
  {
   "cell_type": "code",
   "execution_count": 49,
   "metadata": {
    "collapsed": false
   },
   "outputs": [
    {
     "name": "stdout",
     "output_type": "stream",
     "text": [
      "24 22\n"
     ]
    }
   ],
   "source": [
    "print len(trains.columns),len(tests.columns)"
   ]
  },
  {
   "cell_type": "markdown",
   "metadata": {},
   "source": [
    "So just the id and hotel cluster not there as expected"
   ]
  },
  {
   "cell_type": "code",
   "execution_count": 5,
   "metadata": {
    "collapsed": false
   },
   "outputs": [
    {
     "data": {
      "text/plain": [
       "88"
      ]
     },
     "execution_count": 5,
     "metadata": {},
     "output_type": "execute_result"
    }
   ],
   "source": [
    "traint = pd.read_csv('data/train.csv')\n",
    "\n",
    "traint.groupby('user_id')['hotel_cluster'].agg(lambda x: len(x.unique())).max()"
   ]
  },
  {
   "cell_type": "code",
   "execution_count": null,
   "metadata": {
    "collapsed": true
   },
   "outputs": [],
   "source": []
  }
 ],
 "metadata": {
  "kernelspec": {
   "display_name": "Python 2",
   "language": "python",
   "name": "python2"
  },
  "language_info": {
   "codemirror_mode": {
    "name": "ipython",
    "version": 2
   },
   "file_extension": ".py",
   "mimetype": "text/x-python",
   "name": "python",
   "nbconvert_exporter": "python",
   "pygments_lexer": "ipython2",
   "version": "2.7.10"
  }
 },
 "nbformat": 4,
 "nbformat_minor": 0
}
