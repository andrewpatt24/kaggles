{
 "cells": [
  {
   "cell_type": "code",
   "execution_count": 1,
   "metadata": {
    "collapsed": true
   },
   "outputs": [],
   "source": [
    "import pandas as pd"
   ]
  },
  {
   "cell_type": "code",
   "execution_count": 7,
   "metadata": {
    "collapsed": true
   },
   "outputs": [],
   "source": [
    "def check_data(filename):\n",
    "    df = pd.read_csv(filename)\n",
    "    print df.shape\n",
    "    print df.describe()\n",
    "    print df.head()"
   ]
  },
  {
   "cell_type": "code",
   "execution_count": 8,
   "metadata": {
    "collapsed": false
   },
   "outputs": [
    {
     "name": "stdout",
     "output_type": "stream",
     "text": [
      "sample_submission.csv     test.csv                  train.csv\r\n",
      "sample_submission.csv.zip test.csv.zip              train.csv.zip\r\n"
     ]
    }
   ],
   "source": [
    "! ls data/"
   ]
  },
  {
   "cell_type": "code",
   "execution_count": 9,
   "metadata": {
    "collapsed": true
   },
   "outputs": [],
   "source": [
    "sample_sub = 'data/sample_submission.csv'\n",
    "test = 'data/test.csv'\n",
    "train = 'data/train.csv'"
   ]
  },
  {
   "cell_type": "code",
   "execution_count": 10,
   "metadata": {
    "collapsed": false
   },
   "outputs": [
    {
     "name": "stdout",
     "output_type": "stream",
     "text": [
      "(529, 2)\n",
      "               id\n",
      "count  529.000000\n",
      "mean   453.584121\n",
      "std    257.804948\n",
      "min      3.000000\n",
      "25%    239.000000\n",
      "50%    445.000000\n",
      "75%    670.000000\n",
      "max    899.000000\n",
      "   id   type\n",
      "0   3  Ghost\n",
      "1   6  Ghost\n",
      "2   9  Ghost\n",
      "3  10  Ghost\n",
      "4  13  Ghost\n"
     ]
    }
   ],
   "source": [
    "check_data(sample_sub)"
   ]
  },
  {
   "cell_type": "code",
   "execution_count": 11,
   "metadata": {
    "collapsed": false
   },
   "outputs": [
    {
     "name": "stdout",
     "output_type": "stream",
     "text": [
      "(529, 6)\n",
      "               id  bone_length  rotting_flesh  hair_length    has_soul\n",
      "count  529.000000   529.000000     529.000000   529.000000  529.000000\n",
      "mean   453.584121     0.425474       0.503637     0.517288    0.464096\n",
      "std    257.804948     0.136079       0.158552     0.171727    0.179659\n",
      "min      3.000000     0.000000       0.000000     0.000000    0.000000\n",
      "25%    239.000000     0.329383       0.393987     0.388189    0.338964\n",
      "50%    445.000000     0.421989       0.510065     0.520220    0.461294\n",
      "75%    670.000000     0.519024       0.605957     0.644824    0.584448\n",
      "max    899.000000     1.000000       1.000000     0.999841    1.000000\n",
      "   id  bone_length  rotting_flesh  hair_length  has_soul  color\n",
      "0   3     0.471774       0.387937     0.706087  0.698537  black\n",
      "1   6     0.427332       0.645024     0.565558  0.451462  white\n",
      "2   9     0.549602       0.491931     0.660387  0.449809  black\n",
      "3  10     0.638095       0.682867     0.471409  0.356924  white\n",
      "4  13     0.361762       0.583997     0.377256  0.276364  black\n"
     ]
    }
   ],
   "source": [
    "check_data(test)"
   ]
  },
  {
   "cell_type": "code",
   "execution_count": 12,
   "metadata": {
    "collapsed": false
   },
   "outputs": [
    {
     "name": "stdout",
     "output_type": "stream",
     "text": [
      "(371, 7)\n",
      "               id  bone_length  rotting_flesh  hair_length    has_soul\n",
      "count  371.000000   371.000000     371.000000   371.000000  371.000000\n",
      "mean   443.676550     0.434160       0.506848     0.529114    0.471392\n",
      "std    263.222489     0.132833       0.146358     0.169902    0.176129\n",
      "min      0.000000     0.061032       0.095687     0.134600    0.009402\n",
      "25%    205.500000     0.340006       0.414812     0.407428    0.348002\n",
      "50%    458.000000     0.434891       0.501552     0.538642    0.466372\n",
      "75%    678.500000     0.517223       0.603977     0.647244    0.600610\n",
      "max    897.000000     0.817001       0.932466     1.000000    0.935721\n",
      "   id  bone_length  rotting_flesh  hair_length  has_soul  color    type\n",
      "0   0     0.354512       0.350839     0.465761  0.781142  clear   Ghoul\n",
      "1   1     0.575560       0.425868     0.531401  0.439899  green  Goblin\n",
      "2   2     0.467875       0.354330     0.811616  0.791225  black   Ghoul\n",
      "3   4     0.776652       0.508723     0.636766  0.884464  black   Ghoul\n",
      "4   5     0.566117       0.875862     0.418594  0.636438  green   Ghost\n"
     ]
    }
   ],
   "source": [
    "check_data(train)"
   ]
  },
  {
   "cell_type": "code",
   "execution_count": null,
   "metadata": {
    "collapsed": true
   },
   "outputs": [],
   "source": []
  }
 ],
 "metadata": {
  "kernelspec": {
   "display_name": "Python 2",
   "language": "python",
   "name": "python2"
  },
  "language_info": {
   "codemirror_mode": {
    "name": "ipython",
    "version": 2
   },
   "file_extension": ".py",
   "mimetype": "text/x-python",
   "name": "python",
   "nbconvert_exporter": "python",
   "pygments_lexer": "ipython2",
   "version": "2.7.10"
  },
  "widgets": {
   "state": {},
   "version": "1.1.0"
  }
 },
 "nbformat": 4,
 "nbformat_minor": 0
}
