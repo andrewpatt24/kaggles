{
 "cells": [
  {
   "cell_type": "code",
   "execution_count": 2,
   "metadata": {
    "collapsed": true
   },
   "outputs": [],
   "source": [
    "%matplotlib inline"
   ]
  },
  {
   "cell_type": "code",
   "execution_count": 3,
   "metadata": {
    "collapsed": true
   },
   "outputs": [],
   "source": [
    "import scipy as sp\n",
    "def logloss(act, pred):\n",
    "    epsilon = 1e-15\n",
    "    pred = sp.maximum(epsilon, pred)\n",
    "    pred = sp.minimum(1-epsilon, pred)\n",
    "    ll = sum(act*sp.log(pred) + sp.subtract(1,act)*sp.log(sp.subtract(1,pred)))\n",
    "    ll = ll * -1.0/len(act)\n",
    "    return ll"
   ]
  },
  {
   "cell_type": "code",
   "execution_count": 4,
   "metadata": {
    "collapsed": true
   },
   "outputs": [],
   "source": [
    "from scipy import stats as st\n",
    "import pandas as pd\n",
    "import matplotlib.pyplot as plt\n",
    "import seaborn as sns\n",
    "import numpy as np\n",
    "\n",
    "sns.set_context(\"poster\")"
   ]
  },
  {
   "cell_type": "code",
   "execution_count": 4,
   "metadata": {
    "collapsed": true
   },
   "outputs": [],
   "source": [
    "# A whole world of potential analysis...\n",
    "kobe = pd.read_csv('data/data.csv')\n",
    "kobe['known_data'] = kobe['shot_made_flag'].apply(lambda x: 0 if pd.isnull(x) else 1)"
   ]
  },
  {
   "cell_type": "code",
   "execution_count": 5,
   "metadata": {
    "collapsed": false
   },
   "outputs": [
    {
     "name": "stdout",
     "output_type": "stream",
     "text": [
      "30697\n"
     ]
    }
   ],
   "source": [
    "print len(kobe)"
   ]
  },
  {
   "cell_type": "code",
   "execution_count": null,
   "metadata": {
    "collapsed": true
   },
   "outputs": [],
   "source": [
    "kobe.head()"
   ]
  },
  {
   "cell_type": "code",
   "execution_count": 33,
   "metadata": {
    "collapsed": false
   },
   "outputs": [
    {
     "data": {
      "text/html": [
       "<div>\n",
       "<table border=\"1\" class=\"dataframe\">\n",
       "  <thead>\n",
       "    <tr style=\"text-align: right;\">\n",
       "      <th></th>\n",
       "      <th>col</th>\n",
       "      <th>type</th>\n",
       "    </tr>\n",
       "  </thead>\n",
       "  <tbody>\n",
       "    <tr>\n",
       "      <th>0</th>\n",
       "      <td>action_type</td>\n",
       "      <td>object</td>\n",
       "    </tr>\n",
       "    <tr>\n",
       "      <th>1</th>\n",
       "      <td>combined_shot_type</td>\n",
       "      <td>object</td>\n",
       "    </tr>\n",
       "    <tr>\n",
       "      <th>2</th>\n",
       "      <td>game_event_id</td>\n",
       "      <td>int64</td>\n",
       "    </tr>\n",
       "    <tr>\n",
       "      <th>3</th>\n",
       "      <td>game_id</td>\n",
       "      <td>int64</td>\n",
       "    </tr>\n",
       "    <tr>\n",
       "      <th>4</th>\n",
       "      <td>lat</td>\n",
       "      <td>float64</td>\n",
       "    </tr>\n",
       "    <tr>\n",
       "      <th>5</th>\n",
       "      <td>loc_x</td>\n",
       "      <td>int64</td>\n",
       "    </tr>\n",
       "    <tr>\n",
       "      <th>6</th>\n",
       "      <td>loc_y</td>\n",
       "      <td>int64</td>\n",
       "    </tr>\n",
       "    <tr>\n",
       "      <th>7</th>\n",
       "      <td>lon</td>\n",
       "      <td>float64</td>\n",
       "    </tr>\n",
       "    <tr>\n",
       "      <th>8</th>\n",
       "      <td>minutes_remaining</td>\n",
       "      <td>int64</td>\n",
       "    </tr>\n",
       "    <tr>\n",
       "      <th>9</th>\n",
       "      <td>period</td>\n",
       "      <td>int64</td>\n",
       "    </tr>\n",
       "    <tr>\n",
       "      <th>10</th>\n",
       "      <td>playoffs</td>\n",
       "      <td>int64</td>\n",
       "    </tr>\n",
       "    <tr>\n",
       "      <th>11</th>\n",
       "      <td>season</td>\n",
       "      <td>object</td>\n",
       "    </tr>\n",
       "    <tr>\n",
       "      <th>12</th>\n",
       "      <td>seconds_remaining</td>\n",
       "      <td>int64</td>\n",
       "    </tr>\n",
       "    <tr>\n",
       "      <th>13</th>\n",
       "      <td>shot_distance</td>\n",
       "      <td>int64</td>\n",
       "    </tr>\n",
       "    <tr>\n",
       "      <th>14</th>\n",
       "      <td>shot_made_flag</td>\n",
       "      <td>float64</td>\n",
       "    </tr>\n",
       "    <tr>\n",
       "      <th>15</th>\n",
       "      <td>shot_type</td>\n",
       "      <td>object</td>\n",
       "    </tr>\n",
       "    <tr>\n",
       "      <th>16</th>\n",
       "      <td>shot_zone_area</td>\n",
       "      <td>object</td>\n",
       "    </tr>\n",
       "    <tr>\n",
       "      <th>17</th>\n",
       "      <td>shot_zone_basic</td>\n",
       "      <td>object</td>\n",
       "    </tr>\n",
       "    <tr>\n",
       "      <th>18</th>\n",
       "      <td>shot_zone_range</td>\n",
       "      <td>object</td>\n",
       "    </tr>\n",
       "    <tr>\n",
       "      <th>19</th>\n",
       "      <td>team_id</td>\n",
       "      <td>int64</td>\n",
       "    </tr>\n",
       "    <tr>\n",
       "      <th>20</th>\n",
       "      <td>team_name</td>\n",
       "      <td>object</td>\n",
       "    </tr>\n",
       "    <tr>\n",
       "      <th>21</th>\n",
       "      <td>game_date</td>\n",
       "      <td>object</td>\n",
       "    </tr>\n",
       "    <tr>\n",
       "      <th>22</th>\n",
       "      <td>matchup</td>\n",
       "      <td>object</td>\n",
       "    </tr>\n",
       "    <tr>\n",
       "      <th>23</th>\n",
       "      <td>opponent</td>\n",
       "      <td>object</td>\n",
       "    </tr>\n",
       "    <tr>\n",
       "      <th>24</th>\n",
       "      <td>shot_id</td>\n",
       "      <td>int64</td>\n",
       "    </tr>\n",
       "    <tr>\n",
       "      <th>25</th>\n",
       "      <td>known_data</td>\n",
       "      <td>int64</td>\n",
       "    </tr>\n",
       "  </tbody>\n",
       "</table>\n",
       "</div>"
      ],
      "text/plain": [
       "                   col     type\n",
       "0          action_type   object\n",
       "1   combined_shot_type   object\n",
       "2        game_event_id    int64\n",
       "3              game_id    int64\n",
       "4                  lat  float64\n",
       "5                loc_x    int64\n",
       "6                loc_y    int64\n",
       "7                  lon  float64\n",
       "8    minutes_remaining    int64\n",
       "9               period    int64\n",
       "10            playoffs    int64\n",
       "11              season   object\n",
       "12   seconds_remaining    int64\n",
       "13       shot_distance    int64\n",
       "14      shot_made_flag  float64\n",
       "15           shot_type   object\n",
       "16      shot_zone_area   object\n",
       "17     shot_zone_basic   object\n",
       "18     shot_zone_range   object\n",
       "19             team_id    int64\n",
       "20           team_name   object\n",
       "21           game_date   object\n",
       "22             matchup   object\n",
       "23            opponent   object\n",
       "24             shot_id    int64\n",
       "25          known_data    int64"
      ]
     },
     "execution_count": 33,
     "metadata": {},
     "output_type": "execute_result"
    }
   ],
   "source": [
    "kobe_coltypes = pd.DataFrame(kobe.dtypes.reset_index())\n",
    "kobe_coltypes.columns = ['col','type']\n",
    "kobe_coltypes"
   ]
  },
  {
   "cell_type": "markdown",
   "metadata": {},
   "source": [
    "Attempt 1 - Lets just take the average for each known shot up to that shot\n",
    "--"
   ]
  },
  {
   "cell_type": "code",
   "execution_count": 40,
   "metadata": {
    "collapsed": false
   },
   "outputs": [
    {
     "name": "stderr",
     "output_type": "stream",
     "text": [
      "/Users/apatterson/Envs/kaggles/lib/python2.7/site-packages/ipykernel/__main__.py:1: FutureWarning: pd.rolling_mean is deprecated for Series and will be removed in a future version, replace with \n",
      "\tSeries.rolling(min_periods=1,window=30697,center=False).mean()\n",
      "  if __name__ == '__main__':\n"
     ]
    }
   ],
   "source": [
    "kobe['rolling_perc'] = pd.rolling_mean(kobe['shot_made_flag'],window=len(kobe['shot_made_flag']),min_periods=1).fillna(0.5)"
   ]
  },
  {
   "cell_type": "code",
   "execution_count": 58,
   "metadata": {
    "collapsed": false
   },
   "outputs": [],
   "source": [
    "kobe_output = pd.DataFrame(kobe['rolling_perc'][kobe['known_data']==0])\n",
    "kobe_output['id'] = kobe_output.index\n",
    "kobe_output['id'] = kobe_output['id']+1\n",
    "kobe_output.columns = ['shot_made_flag','shot_id']"
   ]
  },
  {
   "cell_type": "code",
   "execution_count": 59,
   "metadata": {
    "collapsed": false
   },
   "outputs": [],
   "source": [
    "kobe_output[['shot_id','shot_made_flag']].to_csv('data/first_attempt.csv',index=False)"
   ]
  },
  {
   "cell_type": "markdown",
   "metadata": {},
   "source": [
    "Submission logloss: 0.68855\n",
    "    \n",
    "Better than 50% mark but not by much!"
   ]
  },
  {
   "cell_type": "markdown",
   "metadata": {
    "collapsed": true
   },
   "source": [
    "Attempt 2 - Lets take previous attempt for small sample (Anything with less than 200) and then an incremental naive bayes for the rest\n",
    "----"
   ]
  },
  {
   "cell_type": "code",
   "execution_count": 47,
   "metadata": {
    "collapsed": false
   },
   "outputs": [],
   "source": [
    "#kobe_id = pd.read_csv('data/kobe_x_id.csv')\n",
    "kobe_x = pd.read_csv('data/kobe_x.csv')\n",
    "kobe_y = pd.read_csv('data/kobe_y.csv')"
   ]
  },
  {
   "cell_type": "code",
   "execution_count": 48,
   "metadata": {
    "collapsed": true
   },
   "outputs": [],
   "source": [
    "##First lets do some feature selection\n",
    "from sklearn.feature_selection import SelectKBest\n",
    "from sklearn.feature_selection import chi2, f_classif"
   ]
  },
  {
   "cell_type": "code",
   "execution_count": 49,
   "metadata": {
    "collapsed": false
   },
   "outputs": [
    {
     "name": "stdout",
     "output_type": "stream",
     "text": [
      "30697 25697\n",
      "30697 25697\n"
     ]
    }
   ],
   "source": [
    "print len(kobe_x), len(kobe_x[pd.notnull(kobe_y['shot_made_flag'])])\n",
    "print len(kobe_y), len(kobe_y['shot_made_flag'][pd.notnull(kobe_y['shot_made_flag'])])"
   ]
  },
  {
   "cell_type": "code",
   "execution_count": 50,
   "metadata": {
    "collapsed": false
   },
   "outputs": [
    {
     "name": "stderr",
     "output_type": "stream",
     "text": [
      "/Users/apatterson/Envs/kaggles/lib/python2.7/site-packages/sklearn/feature_selection/univariate_selection.py:113: UserWarning: Features [ 11  61 112 207] are constant.\n",
      "  UserWarning)\n"
     ]
    },
    {
     "data": {
      "text/plain": [
       "SelectKBest(k='all', score_func=<function f_classif at 0x11125f500>)"
      ]
     },
     "execution_count": 50,
     "metadata": {},
     "output_type": "execute_result"
    }
   ],
   "source": [
    "fs = SelectKBest(f_classif,k='all')\n",
    "fs.fit(kobe_x[pd.notnull(kobe_y['shot_made_flag'])],kobe_y['shot_made_flag'][pd.notnull(kobe_y['shot_made_flag'])])"
   ]
  },
  {
   "cell_type": "code",
   "execution_count": 51,
   "metadata": {
    "collapsed": false
   },
   "outputs": [
    {
     "name": "stdout",
     "output_type": "stream",
     "text": [
      "213 93\n",
      "0                                 action_type_Jump Shot\n",
      "1                                                streak\n",
      "2                          combined_shot_type_Jump Shot\n",
      "3                               combined_shot_type_Dunk\n",
      "4           combined_shot_type_zone_area_Dunk_Center(C)\n",
      "5     combined_shot_type_shot_zone_range_Dunk_Less T...\n",
      "6                                         shot_distance\n",
      "7                       shot_zone_basic_Restricted Area\n",
      "8     shot_type_shot_zone_range_2PT Field Goal_Less ...\n",
      "9                       shot_zone_range_Less Than 8 ft.\n",
      "10         shot_type_zone_area_2PT Field Goal_Center(C)\n",
      "11                       action_type_Driving Layup Shot\n",
      "12                                                  lat\n",
      "13                             shot_zone_area_Center(C)\n",
      "14                           action_type_Slam Dunk Shot\n",
      "15                             shot_type_2PT Field Goal\n",
      "16                             shot_type_3PT Field Goal\n",
      "17                              shot_zone_range_24+ ft.\n",
      "18     shot_type_shot_zone_range_3PT Field Goal_24+ ft.\n",
      "19    combined_shot_type_shot_zone_range_Jump Shot_2...\n",
      "20                    shot_zone_basic_Above the Break 3\n",
      "21    combined_shot_type_shot_zone_range_Layup_Less ...\n",
      "22         combined_shot_type_zone_area_Layup_Center(C)\n",
      "23                             combined_shot_type_Layup\n",
      "24                        action_type_Driving Dunk Shot\n",
      "25                        action_type_Running Jump Shot\n",
      "26                           action_type_Jump Bank Shot\n",
      "27                         action_type_Pullup Jump shot\n",
      "28    shot_type_zone_area_3PT Field Goal_Left Side C...\n",
      "29                            shot_zone_basic_Mid-Range\n",
      "                            ...                        \n",
      "63                                       season_2015-16\n",
      "64               action_type_Driving Reverse Layup Shot\n",
      "65      shot_type_zone_area_2PT Field Goal_Left Side(L)\n",
      "66                 action_type_Turnaround Fadeaway shot\n",
      "67                       action_type_Floating Jump shot\n",
      "68                     action_type_Turnaround Bank shot\n",
      "69     combined_shot_type_zone_area_Jump Shot_Center(C)\n",
      "70                        action_type_Running Bank shot\n",
      "71                                               period\n",
      "72                        action_type_Running Hook Shot\n",
      "73     shot_type_zone_area_2PT Field Goal_Right Side(R)\n",
      "74                                       time remaining\n",
      "75    combined_shot_type_shot_zone_range_Bank Shot_8...\n",
      "76                       action_type_Fadeaway Bank shot\n",
      "77                     action_type_Alley Oop Layup shot\n",
      "78    combined_shot_type_zone_area_Bank Shot_Left Si...\n",
      "79                   action_type_Reverse Slam Dunk Shot\n",
      "80                   action_type_Finger Roll Layup Shot\n",
      "81                       shot_zone_basic_Right Corner 3\n",
      "82     shot_type_zone_area_3PT Field Goal_Right Side(R)\n",
      "83                      action_type_Step Back Jump shot\n",
      "84                        action_type_Running Dunk Shot\n",
      "85                       action_type_Running Layup Shot\n",
      "86                                       season_2014-15\n",
      "87    combined_shot_type_shot_zone_range_Jump Shot_L...\n",
      "88                                            game_year\n",
      "89    shot_type_zone_area_2PT Field Goal_Left Side C...\n",
      "90                      action_type_Follow Up Dunk Shot\n",
      "91    combined_shot_type_zone_area_Bank Shot_Right S...\n",
      "92     combined_shot_type_zone_area_Hook Shot_Center(C)\n",
      "Name: cols, dtype: object\n"
     ]
    },
    {
     "name": "stderr",
     "output_type": "stream",
     "text": [
      "/Users/apatterson/Envs/kaggles/lib/python2.7/site-packages/ipykernel/__main__.py:4: FutureWarning: sort(columns=....) is deprecated, use sort_values(by=.....)\n"
     ]
    }
   ],
   "source": [
    "col_p_val = pd.DataFrame()\n",
    "col_p_val['cols'] = kobe_x.columns\n",
    "col_p_val['p_score'] = fs.pvalues_\n",
    "col_p_val = col_p_val.sort('p_score').reset_index()\n",
    "print len(col_p_val), len(col_p_val[col_p_val['p_score']<0.01])\n",
    "cols_to_keep = col_p_val[col_p_val['p_score']<0.01]['cols']\n",
    "print cols_to_keep"
   ]
  },
  {
   "cell_type": "code",
   "execution_count": 53,
   "metadata": {
    "collapsed": false
   },
   "outputs": [
    {
     "name": "stdout",
     "output_type": "stream",
     "text": [
      "[1.0, 0.0, 0.0, 0.0, 0.0, 0.0, 0.0, 0.0, 0.0, 0.0, 0.0, 0.0, 0.0, 0.0, 0.0, 0.0, 0.0, 0.0, 0.0, 0.0]\n"
     ]
    }
   ],
   "source": [
    "from sklearn.decomposition import PCA\n",
    "from sklearn.preprocessing import normalize\n",
    "comps = PCA(n_components=20)\n",
    "comps.fit(kobe_x[cols_to_keep])\n",
    "print [round(x,2) for x in comps.explained_variance_ratio_]"
   ]
  },
  {
   "cell_type": "code",
   "execution_count": 45,
   "metadata": {
    "collapsed": false
   },
   "outputs": [
    {
     "name": "stdout",
     "output_type": "stream",
     "text": [
      "[[ 0.14604095 -0.00247487]\n",
      " [ 0.14377955 -0.00475009]\n",
      " [ 0.07116479  0.00763481]\n",
      " [ 0.04593177  0.01132817]\n",
      " [ 0.0300067  -0.00416219]]\n"
     ]
    }
   ],
   "source": [
    "comps = PCA(n_components=2)\n",
    "comps.fit(normalize(kobe_x[cols_to_keep]))\n",
    "kobe_x_transformed = comps.transform(normalize(kobe_x[cols_to_keep]))\n",
    "\n",
    "print kobe_x_transformed[0:5]\n",
    "\n",
    "kobe_transformed_df = pd.DataFrame(kobe_x_transformed,columns=['pca1','pca2'])"
   ]
  },
  {
   "cell_type": "code",
   "execution_count": 46,
   "metadata": {
    "collapsed": false
   },
   "outputs": [],
   "source": [
    "kobe_transformed_df.to_csv('data/kobe_x_transformed.csv',index=False)"
   ]
  },
  {
   "cell_type": "markdown",
   "metadata": {
    "collapsed": true
   },
   "source": [
    "Attempt 3 - non online learning models\n",
    "--------------------------------------\n",
    "\n",
    "In this we need to save the data out as we go line by line, and then at each unknown fit the saved data "
   ]
  },
  {
   "cell_type": "code",
   "execution_count": 4,
   "metadata": {
    "collapsed": false
   },
   "outputs": [],
   "source": [
    "kobe_x = pd.read_csv('data/kobe_x.csv')\n",
    "kobe_y = pd.read_csv('data/kobe_y.csv')"
   ]
  },
  {
   "cell_type": "code",
   "execution_count": 5,
   "metadata": {
    "collapsed": false
   },
   "outputs": [
    {
     "name": "stdout",
     "output_type": "stream",
     "text": [
      "       lat       lon  period  playoffs  shot_distance  game_year  game_month  \\\n",
      "0  33.9723 -118.1028       1         0             18       2000          10   \n",
      "1  34.0443 -118.4268       1         0             15       2000          10   \n",
      "2  33.9093 -118.3708       1         0             16       2000          10   \n",
      "3  33.8693 -118.1318       1         0             22       2000          10   \n",
      "4  34.0443 -118.2698       2         0              0       2000          10   \n",
      "\n",
      "   game_week  game_dayofweek  action_type_Alley Oop Dunk Shot       ...        \\\n",
      "0         44               1                              0.0       ...         \n",
      "1         44               1                              0.0       ...         \n",
      "2         44               1                              0.0       ...         \n",
      "3         44               1                              0.0       ...         \n",
      "4         44               1                              0.0       ...         \n",
      "\n",
      "   combined_shot_type_shot_zone_range_Layup_16-24 ft.  \\\n",
      "0                                                0.0    \n",
      "1                                                0.0    \n",
      "2                                                0.0    \n",
      "3                                                0.0    \n",
      "4                                                0.0    \n",
      "\n",
      "   combined_shot_type_shot_zone_range_Layup_8-16 ft.  \\\n",
      "0                                                0.0   \n",
      "1                                                0.0   \n",
      "2                                                0.0   \n",
      "3                                                0.0   \n",
      "4                                                0.0   \n",
      "\n",
      "   combined_shot_type_shot_zone_range_Layup_Less Than 8 ft.  \\\n",
      "0                                                0.0          \n",
      "1                                                0.0          \n",
      "2                                                0.0          \n",
      "3                                                0.0          \n",
      "4                                                0.0          \n",
      "\n",
      "   combined_shot_type_shot_zone_range_Tip Shot_Less Than 8 ft.  home_away  \\\n",
      "0                                                0.0                    1   \n",
      "1                                                0.0                    1   \n",
      "2                                                0.0                    1   \n",
      "3                                                0.0                    1   \n",
      "4                                                0.0                    1   \n",
      "\n",
      "   last_shot_made  streak  game_shot_perc  global_shot_perc  time remaining  \n",
      "0             0.0     0.0        0.000000          0.000000             627  \n",
      "1             0.0     0.0        0.000000          0.000000             622  \n",
      "2             0.0     1.0        0.000000          0.000000             465  \n",
      "3             1.0     0.0        0.333333          0.333333             412  \n",
      "4             0.0     1.0        0.250000          0.250000             379  \n",
      "\n",
      "[5 rows x 213 columns]\n",
      "   shot_made_flag\n",
      "0             NaN\n",
      "1             0.0\n",
      "2             1.0\n",
      "3             0.0\n",
      "4             1.0\n"
     ]
    }
   ],
   "source": [
    "print kobe_x.head()\n",
    "print kobe_y.head()"
   ]
  },
  {
   "cell_type": "code",
   "execution_count": 6,
   "metadata": {
    "collapsed": false
   },
   "outputs": [
    {
     "name": "stdout",
     "output_type": "stream",
     "text": [
      "30697 30697 30697\n"
     ]
    }
   ],
   "source": [
    "##Normalize x data\n",
    "from sklearn import preprocessing\n",
    "X_scaled = preprocessing.scale(kobe_x)\n",
    "\n",
    "print len(X_scaled), len(kobe_x), len(kobe_y)"
   ]
  },
  {
   "cell_type": "code",
   "execution_count": 7,
   "metadata": {
    "collapsed": false
   },
   "outputs": [],
   "source": [
    "kobe_x_train = pd.DataFrame(X_scaled)[pd.notnull(kobe_y['shot_made_flag'])]\n",
    "kobe_x_test = pd.DataFrame(X_scaled)[pd.isnull(kobe_y['shot_made_flag'])]\n",
    "kobe_y_train = kobe_y[pd.notnull(kobe_y['shot_made_flag'])]['shot_made_flag']\n",
    "kobe_y_test = kobe_y[pd.isnull(kobe_y['shot_made_flag'])]['shot_made_flag']"
   ]
  },
  {
   "cell_type": "code",
   "execution_count": 8,
   "metadata": {
    "collapsed": false
   },
   "outputs": [
    {
     "name": "stdout",
     "output_type": "stream",
     "text": [
      "25697 5000 25697 5000\n"
     ]
    }
   ],
   "source": [
    "## So we want to build a classifier that takes X_train and y_train and outputs y_test from X_test\n",
    "print len(kobe_x_train), len(kobe_x_test), len(kobe_y_train), len(kobe_y_test)"
   ]
  },
  {
   "cell_type": "markdown",
   "metadata": {
    "collapsed": true
   },
   "source": [
    "## to stop leakage this need be a classifier that will do:\n",
    "* a split to get its own train and test\n",
    "* recursively go through the following to find the best classifier\n",
    "    * An initial variable selection with cutoff p\n",
    "    * a pca with dimensions n\n",
    "    * a model with hyper parameters h = {}\n",
    "    * test on test data using logloss definition\n",
    "* output the best model with p, n , h defined and fitted across all the known data\n",
    "* "
   ]
  },
  {
   "cell_type": "code",
   "execution_count": 9,
   "metadata": {
    "collapsed": false
   },
   "outputs": [],
   "source": [
    "from sklearn.feature_selection import SelectFromModel\n",
    "from sklearn import linear_model, svm\n",
    "from sklearn.decomposition import PCA\n",
    "from sklearn.cross_validation import train_test_split\n",
    "import itertools\n",
    "\n",
    "def predict_probabilities(X_train,X_test,y_train,threshold,component,m):\n",
    "    ## Selector phase\n",
    "    #selector = SelectFromModel(linear_model.LogisticRegression(),threshold=threshold)\n",
    "    #selector.fit(X_train,y_train)\n",
    "    #new_X_train = selector.transform(X_train)\n",
    "    \n",
    "    ##PCA phase\n",
    "    pca = PCA(n_components=component)\n",
    "    \n",
    "    pca.fit(new_X_train)\n",
    "    pca_variance =  sum(pca.explained_variance_ratio_)\n",
    "    pca_X_train = pca.transform(new_X_train)\n",
    "    \n",
    "    #convert the X_test\n",
    "    pca_X_test = pca.transform(selector.transform(X_test))\n",
    "    \n",
    "    ##Model phase\n",
    "    model = m[1]\n",
    "    model.fit(pca_X_train,y_train)\n",
    "    return model.predict_proba(pca_X_test), pca_variance\n",
    "\n",
    "\n",
    "def model_tests(X_train,X_test,y_train,y_test,thresholds,components,models):\n",
    "    output = []\n",
    "    for threshold, component, m in itertools.product(thresholds,components,models):\n",
    "        print threshold, component, m\n",
    "        y_pred, pca_variance = predict_probabilities(X_train,X_test,y_train,threshold,component,m)\n",
    "        ##test phase\n",
    "        output.append([m, threshold, component, pca_variance, logloss(y_test,[x[1] for x in y_pred])])\n",
    "\n",
    "    return pd.DataFrame(output,columns = ['model','selection_threshold','N_pca','pca_var','logloss'])\n",
    "\n",
    "\n",
    "def predict_best_hyper_params(X_train,X_test,y_train,y_test,thresholds,components,models):\n",
    "    output = test_model(X_train,X_test,y_train,y_test,thresholds,components,models)\n",
    "    hyper_params = output.sort('logloss',ascending=True).reset_index().head(1).values.tolist()[0]\n",
    "    return hyper_params\n",
    "\n",
    "def global_prediction(kobe_x_train,kobe_x_test,kobe_y_train,thresholds,components,models):\n",
    "    X_train, X_test, y_train, y_test = train_test_split(kobe_x_train, kobe_y_train, test_size=0.33, random_state=42)\n",
    "    output = model_tests(X_train,X_test,y_train,y_test,thresholds,components,models)\n",
    "    print output[output['logloss']>0.01].sort('logloss',ascending=True)\n",
    "    hyper_params = output[output['logloss']>0.01].sort('logloss',ascending=True).reset_index().head(1).values.tolist()[0]\n",
    "    print hyper_params\n",
    "    probs = predict_probabilities(kobe_x_train,kobe_x_test,kobe_y_train,hyper_params[2],hyper_params[3],hyper_params[1])[0]\n",
    "    return [x[1] for x in probs]"
   ]
  },
  {
   "cell_type": "code",
   "execution_count": 11,
   "metadata": {
    "collapsed": false
   },
   "outputs": [
    {
     "name": "stdout",
     "output_type": "stream",
     "text": [
      "[0, 0.5]\n",
      "[7, 0.5]\n",
      "[16, 0.42857142857142855]\n",
      "[19, 0.4375]\n"
     ]
    }
   ],
   "source": [
    "def x_range(start,end,by):\n",
    "    while start < end:\n",
    "        yield start\n",
    "        start += by\n",
    "    \n",
    "thresholds = [x for x in x_range(0.01,0.05,0.005)]\n",
    "components = [x for x in x_range(1,10,1)]\n",
    "\n",
    "models = [\n",
    "    ['logmodel',linear_model.LogisticRegression()]#,\n",
    "    #['svc',svm.SVC(probability=True)]\n",
    "    ]\n",
    "\n",
    "i=0\n",
    "dx = []\n",
    "dy = []\n",
    "predictions = []\n",
    "for x, y in zip(kobe_x.iterrows(),kobe_y['shot_made_flag'].fillna(-1000)):\n",
    "    if x[0]==0:\n",
    "        #print x\n",
    "        predictions.append([x[0],0.5])\n",
    "        print predictions[len(predictions)-1]\n",
    "    else:\n",
    "        if y != -1000:\n",
    "            dx.append(x[1])\n",
    "            dy.append(y)\n",
    "        else:\n",
    "            if x[0]<=100:\n",
    "                predictions.append([x[0],np.mean(dy)])\n",
    "                print predictions[len(predictions)-1]\n",
    "            else:\n",
    "                predictions.append(\n",
    "                    [x[0],global_prediction(dx,kobe_x_test,dy,thresholds,components,models)]\n",
    "                )\n",
    "                print predictions[len(predictions)-1]\n",
    "    i+=1\n",
    "    if i>30:\n",
    "        break"
   ]
  },
  {
   "cell_type": "markdown",
   "metadata": {
    "collapsed": true
   },
   "source": [
    "### Final attempts and comparisons\n",
    "\n",
    "Lets try a number of the online learning methods in scikit learn. \n",
    "\n",
    "Some dont calculate probabilities - I'm expecting them nt to be as good but lets try them anyway for completeness"
   ]
  },
  {
   "cell_type": "code",
   "execution_count": 5,
   "metadata": {
    "collapsed": true
   },
   "outputs": [],
   "source": [
    "kobe_x = pd.read_csv('data/kobe_x.csv')\n",
    "kobe_y = pd.read_csv('data/kobe_y.csv')"
   ]
  },
  {
   "cell_type": "code",
   "execution_count": 6,
   "metadata": {
    "collapsed": false
   },
   "outputs": [
    {
     "data": {
      "text/html": [
       "<div>\n",
       "<table border=\"1\" class=\"dataframe\">\n",
       "  <thead>\n",
       "    <tr style=\"text-align: right;\">\n",
       "      <th></th>\n",
       "      <th>lat</th>\n",
       "      <th>lon</th>\n",
       "      <th>period</th>\n",
       "      <th>playoffs</th>\n",
       "      <th>shot_distance</th>\n",
       "      <th>game_year</th>\n",
       "      <th>game_month</th>\n",
       "      <th>game_week</th>\n",
       "      <th>game_dayofweek</th>\n",
       "      <th>action_type_Alley Oop Dunk Shot</th>\n",
       "      <th>...</th>\n",
       "      <th>combined_shot_type_shot_zone_range_Layup_16-24 ft.</th>\n",
       "      <th>combined_shot_type_shot_zone_range_Layup_8-16 ft.</th>\n",
       "      <th>combined_shot_type_shot_zone_range_Layup_Less Than 8 ft.</th>\n",
       "      <th>combined_shot_type_shot_zone_range_Tip Shot_Less Than 8 ft.</th>\n",
       "      <th>home_away</th>\n",
       "      <th>last_shot_made</th>\n",
       "      <th>streak</th>\n",
       "      <th>game_shot_perc</th>\n",
       "      <th>global_shot_perc</th>\n",
       "      <th>time remaining</th>\n",
       "    </tr>\n",
       "  </thead>\n",
       "  <tbody>\n",
       "    <tr>\n",
       "      <th>0</th>\n",
       "      <td>33.9723</td>\n",
       "      <td>-118.1028</td>\n",
       "      <td>1</td>\n",
       "      <td>0</td>\n",
       "      <td>18</td>\n",
       "      <td>2000</td>\n",
       "      <td>10</td>\n",
       "      <td>44</td>\n",
       "      <td>1</td>\n",
       "      <td>0.0</td>\n",
       "      <td>...</td>\n",
       "      <td>0.0</td>\n",
       "      <td>0.0</td>\n",
       "      <td>0.0</td>\n",
       "      <td>0.0</td>\n",
       "      <td>1</td>\n",
       "      <td>0.0</td>\n",
       "      <td>0.0</td>\n",
       "      <td>0.0</td>\n",
       "      <td>0.0</td>\n",
       "      <td>627</td>\n",
       "    </tr>\n",
       "  </tbody>\n",
       "</table>\n",
       "<p>1 rows × 213 columns</p>\n",
       "</div>"
      ],
      "text/plain": [
       "       lat       lon  period  playoffs  shot_distance  game_year  game_month  \\\n",
       "0  33.9723 -118.1028       1         0             18       2000          10   \n",
       "\n",
       "   game_week  game_dayofweek  action_type_Alley Oop Dunk Shot       ...        \\\n",
       "0         44               1                              0.0       ...         \n",
       "\n",
       "   combined_shot_type_shot_zone_range_Layup_16-24 ft.  \\\n",
       "0                                                0.0    \n",
       "\n",
       "   combined_shot_type_shot_zone_range_Layup_8-16 ft.  \\\n",
       "0                                                0.0   \n",
       "\n",
       "   combined_shot_type_shot_zone_range_Layup_Less Than 8 ft.  \\\n",
       "0                                                0.0          \n",
       "\n",
       "   combined_shot_type_shot_zone_range_Tip Shot_Less Than 8 ft.  home_away  \\\n",
       "0                                                0.0                    1   \n",
       "\n",
       "   last_shot_made  streak  game_shot_perc  global_shot_perc  time remaining  \n",
       "0             0.0     0.0             0.0               0.0             627  \n",
       "\n",
       "[1 rows x 213 columns]"
      ]
     },
     "execution_count": 6,
     "metadata": {},
     "output_type": "execute_result"
    }
   ],
   "source": [
    "kobe_x.head(1)"
   ]
  },
  {
   "cell_type": "code",
   "execution_count": 7,
   "metadata": {
    "collapsed": false
   },
   "outputs": [
    {
     "data": {
      "text/html": [
       "<div>\n",
       "<table border=\"1\" class=\"dataframe\">\n",
       "  <thead>\n",
       "    <tr style=\"text-align: right;\">\n",
       "      <th></th>\n",
       "      <th>shot_made_flag</th>\n",
       "    </tr>\n",
       "  </thead>\n",
       "  <tbody>\n",
       "    <tr>\n",
       "      <th>0</th>\n",
       "      <td>NaN</td>\n",
       "    </tr>\n",
       "  </tbody>\n",
       "</table>\n",
       "</div>"
      ],
      "text/plain": [
       "   shot_made_flag\n",
       "0             NaN"
      ]
     },
     "execution_count": 7,
     "metadata": {},
     "output_type": "execute_result"
    }
   ],
   "source": [
    "kobe_y.head(1)"
   ]
  },
  {
   "cell_type": "code",
   "execution_count": 33,
   "metadata": {
    "collapsed": false
   },
   "outputs": [],
   "source": [
    "from sklearn.naive_bayes import BernoulliNB, MultinomialNB\n",
    "from sklearn.linear_model import Perceptron\n",
    "from sklearn.linear_model import SGDClassifier\n",
    "\n",
    "prob_models = [\n",
    "    MultinomialNB(),\n",
    "    Perceptron(),\n",
    "    SGDClassifier(loss='log'),\n",
    "    SGDClassifier(loss='modified_huber')\n",
    "]\n",
    "\n",
    "class_models = [\n",
    "    BernoulliNB(),\n",
    "    Perceptron(),\n",
    "    SGDClassifier(loss='log'),\n",
    "    SGDClassifier(loss='modified_huber'),\n",
    "    SGDClassifier(loss='hinge'),\n",
    "    SGDClassifier(loss='squared_hinge'),\n",
    "    SGDClassifier(loss='perceptron')\n",
    "]\n",
    "\n",
    "burner = 150"
   ]
  },
  {
   "cell_type": "code",
   "execution_count": 37,
   "metadata": {
    "collapsed": true
   },
   "outputs": [],
   "source": [
    "kobe_x['lon'] = kobe_x['lon'].apply(lambda x: x if x >=0 else -x)"
   ]
  },
  {
   "cell_type": "code",
   "execution_count": 38,
   "metadata": {
    "collapsed": false
   },
   "outputs": [
    {
     "data": {
      "text/plain": [
       "lat                                                               33.9723\n",
       "lon                                                              118.1028\n",
       "period                                                             1.0000\n",
       "playoffs                                                           0.0000\n",
       "shot_distance                                                     18.0000\n",
       "game_year                                                       2000.0000\n",
       "game_month                                                        10.0000\n",
       "game_week                                                         44.0000\n",
       "game_dayofweek                                                     1.0000\n",
       "action_type_Alley Oop Dunk Shot                                    0.0000\n",
       "action_type_Alley Oop Layup shot                                   0.0000\n",
       "action_type_Cutting Finger Roll Layup Shot                         0.0000\n",
       "action_type_Cutting Layup Shot                                     0.0000\n",
       "action_type_Driving Bank shot                                      0.0000\n",
       "action_type_Driving Dunk Shot                                      0.0000\n",
       "action_type_Driving Finger Roll Layup Shot                         0.0000\n",
       "action_type_Driving Finger Roll Shot                               0.0000\n",
       "action_type_Driving Floating Bank Jump Shot                        0.0000\n",
       "action_type_Driving Floating Jump Shot                             0.0000\n",
       "action_type_Driving Hook Shot                                      0.0000\n",
       "action_type_Driving Jump shot                                      0.0000\n",
       "action_type_Driving Layup Shot                                     0.0000\n",
       "action_type_Driving Reverse Layup Shot                             0.0000\n",
       "action_type_Driving Slam Dunk Shot                                 0.0000\n",
       "action_type_Dunk Shot                                              0.0000\n",
       "action_type_Fadeaway Bank shot                                     0.0000\n",
       "action_type_Fadeaway Jump Shot                                     0.0000\n",
       "action_type_Finger Roll Layup Shot                                 0.0000\n",
       "action_type_Finger Roll Shot                                       0.0000\n",
       "action_type_Floating Jump shot                                     0.0000\n",
       "                                                                  ...    \n",
       "shot_type_shot_zone_range_2PT Field Goal_Less Than 8 ft.           0.0000\n",
       "shot_type_shot_zone_range_3PT Field Goal_16-24 ft.                 0.0000\n",
       "shot_type_shot_zone_range_3PT Field Goal_24+ ft.                   0.0000\n",
       "shot_type_shot_zone_range_3PT Field Goal_8-16 ft.                  0.0000\n",
       "shot_type_shot_zone_range_3PT Field Goal_Back Court Shot           0.0000\n",
       "shot_type_shot_zone_range_3PT Field Goal_Less Than 8 ft.           0.0000\n",
       "combined_shot_type_shot_zone_range_Bank Shot_16-24 ft.             0.0000\n",
       "combined_shot_type_shot_zone_range_Bank Shot_24+ ft.               0.0000\n",
       "combined_shot_type_shot_zone_range_Bank Shot_8-16 ft.              0.0000\n",
       "combined_shot_type_shot_zone_range_Bank Shot_Less Than 8 ft.       0.0000\n",
       "combined_shot_type_shot_zone_range_Dunk_8-16 ft.                   0.0000\n",
       "combined_shot_type_shot_zone_range_Dunk_Less Than 8 ft.            0.0000\n",
       "combined_shot_type_shot_zone_range_Hook Shot_16-24 ft.             0.0000\n",
       "combined_shot_type_shot_zone_range_Hook Shot_8-16 ft.              0.0000\n",
       "combined_shot_type_shot_zone_range_Hook Shot_Less Than 8 ft.       0.0000\n",
       "combined_shot_type_shot_zone_range_Jump Shot_16-24 ft.             1.0000\n",
       "combined_shot_type_shot_zone_range_Jump Shot_24+ ft.               0.0000\n",
       "combined_shot_type_shot_zone_range_Jump Shot_8-16 ft.              0.0000\n",
       "combined_shot_type_shot_zone_range_Jump Shot_Back Court Shot       0.0000\n",
       "combined_shot_type_shot_zone_range_Jump Shot_Less Than 8 ft.       0.0000\n",
       "combined_shot_type_shot_zone_range_Layup_16-24 ft.                 0.0000\n",
       "combined_shot_type_shot_zone_range_Layup_8-16 ft.                  0.0000\n",
       "combined_shot_type_shot_zone_range_Layup_Less Than 8 ft.           0.0000\n",
       "combined_shot_type_shot_zone_range_Tip Shot_Less Than 8 ft.        0.0000\n",
       "home_away                                                          1.0000\n",
       "last_shot_made                                                     0.0000\n",
       "streak                                                             0.0000\n",
       "game_shot_perc                                                     0.0000\n",
       "global_shot_perc                                                   0.0000\n",
       "time remaining                                                   627.0000\n",
       "Name: 0, dtype: float64"
      ]
     },
     "execution_count": 38,
     "metadata": {},
     "output_type": "execute_result"
    }
   ],
   "source": [
    "kobe_x.iloc[0]"
   ]
  },
  {
   "cell_type": "code",
   "execution_count": 41,
   "metadata": {
    "collapsed": false
   },
   "outputs": [
    {
     "name": "stdout",
     "output_type": "stream",
     "text": [
      "[[1, 0.5]]\n",
      "[0.5]\n"
     ]
    },
    {
     "ename": "AttributeError",
     "evalue": "'MultinomialNB' object has no attribute 'feature_log_prob_'",
     "output_type": "error",
     "traceback": [
      "\u001b[0;31m---------------------------------------------------------------------------\u001b[0m",
      "\u001b[0;31mAttributeError\u001b[0m                            Traceback (most recent call last)",
      "\u001b[0;32m<ipython-input-41-add9d3bb4d6a>\u001b[0m in \u001b[0;36m<module>\u001b[0;34m()\u001b[0m\n\u001b[1;32m     23\u001b[0m         \u001b[0;32mprint\u001b[0m \u001b[0mscore\u001b[0m\u001b[0;34m\u001b[0m\u001b[0m\n\u001b[1;32m     24\u001b[0m         \u001b[0;32mprint\u001b[0m \u001b[0my_temp\u001b[0m\u001b[0;34m\u001b[0m\u001b[0m\n\u001b[0;32m---> 25\u001b[0;31m         \u001b[0mtest_model\u001b[0m\u001b[0;34m.\u001b[0m\u001b[0mpartial_fit\u001b[0m\u001b[0;34m(\u001b[0m\u001b[0;34m[\u001b[0m\u001b[0mrow\u001b[0m\u001b[0;34m.\u001b[0m\u001b[0mtolist\u001b[0m\u001b[0;34m(\u001b[0m\u001b[0;34m)\u001b[0m\u001b[0;34m]\u001b[0m\u001b[0;34m,\u001b[0m\u001b[0;34m[\u001b[0m\u001b[0mflag\u001b[0m\u001b[0;34m[\u001b[0m\u001b[0;34m'shot_made_flag'\u001b[0m\u001b[0;34m]\u001b[0m\u001b[0;34m]\u001b[0m\u001b[0;34m,\u001b[0m\u001b[0mclasses\u001b[0m\u001b[0;34m=\u001b[0m\u001b[0;34m[\u001b[0m\u001b[0;36m0\u001b[0m\u001b[0;34m,\u001b[0m\u001b[0;36m1\u001b[0m\u001b[0;34m]\u001b[0m\u001b[0;34m)\u001b[0m\u001b[0;34m\u001b[0m\u001b[0m\n\u001b[0m\u001b[1;32m     26\u001b[0m \u001b[0;34m\u001b[0m\u001b[0m\n\u001b[1;32m     27\u001b[0m     \u001b[0;32mif\u001b[0m \u001b[0mi\u001b[0m \u001b[0;34m==\u001b[0m \u001b[0;36m250\u001b[0m\u001b[0;34m:\u001b[0m\u001b[0;34m\u001b[0m\u001b[0m\n",
      "\u001b[0;32m/Users/apatterson/Envs/kaggles/lib/python2.7/site-packages/sklearn/naive_bayes.pyc\u001b[0m in \u001b[0;36mpartial_fit\u001b[0;34m(self, X, y, classes, sample_weight)\u001b[0m\n\u001b[1;32m    470\u001b[0m             self.feature_count_ = np.zeros((n_effective_classes, n_features),\n\u001b[1;32m    471\u001b[0m                                            dtype=np.float64)\n\u001b[0;32m--> 472\u001b[0;31m         \u001b[0;32melif\u001b[0m \u001b[0mn_features\u001b[0m \u001b[0;34m!=\u001b[0m \u001b[0mself\u001b[0m\u001b[0;34m.\u001b[0m\u001b[0mcoef_\u001b[0m\u001b[0;34m.\u001b[0m\u001b[0mshape\u001b[0m\u001b[0;34m[\u001b[0m\u001b[0;36m1\u001b[0m\u001b[0;34m]\u001b[0m\u001b[0;34m:\u001b[0m\u001b[0;34m\u001b[0m\u001b[0m\n\u001b[0m\u001b[1;32m    473\u001b[0m             \u001b[0mmsg\u001b[0m \u001b[0;34m=\u001b[0m \u001b[0;34m\"Number of features %d does not match previous data %d.\"\u001b[0m\u001b[0;34m\u001b[0m\u001b[0m\n\u001b[1;32m    474\u001b[0m             \u001b[0;32mraise\u001b[0m \u001b[0mValueError\u001b[0m\u001b[0;34m(\u001b[0m\u001b[0mmsg\u001b[0m \u001b[0;34m%\u001b[0m \u001b[0;34m(\u001b[0m\u001b[0mn_features\u001b[0m\u001b[0;34m,\u001b[0m \u001b[0mself\u001b[0m\u001b[0;34m.\u001b[0m\u001b[0mcoef_\u001b[0m\u001b[0;34m.\u001b[0m\u001b[0mshape\u001b[0m\u001b[0;34m[\u001b[0m\u001b[0;34m-\u001b[0m\u001b[0;36m1\u001b[0m\u001b[0;34m]\u001b[0m\u001b[0;34m)\u001b[0m\u001b[0;34m)\u001b[0m\u001b[0;34m\u001b[0m\u001b[0m\n",
      "\u001b[0;32m/Users/apatterson/Envs/kaggles/lib/python2.7/site-packages/sklearn/naive_bayes.pyc\u001b[0m in \u001b[0;36m_get_coef\u001b[0;34m(self)\u001b[0m\n\u001b[1;32m    559\u001b[0m     \u001b[0;32mdef\u001b[0m \u001b[0m_get_coef\u001b[0m\u001b[0;34m(\u001b[0m\u001b[0mself\u001b[0m\u001b[0;34m)\u001b[0m\u001b[0;34m:\u001b[0m\u001b[0;34m\u001b[0m\u001b[0m\n\u001b[1;32m    560\u001b[0m         return (self.feature_log_prob_[1:]\n\u001b[0;32m--> 561\u001b[0;31m                 if len(self.classes_) == 2 else self.feature_log_prob_)\n\u001b[0m\u001b[1;32m    562\u001b[0m \u001b[0;34m\u001b[0m\u001b[0m\n\u001b[1;32m    563\u001b[0m     \u001b[0;32mdef\u001b[0m \u001b[0m_get_intercept\u001b[0m\u001b[0;34m(\u001b[0m\u001b[0mself\u001b[0m\u001b[0;34m)\u001b[0m\u001b[0;34m:\u001b[0m\u001b[0;34m\u001b[0m\u001b[0m\n",
      "\u001b[0;31mAttributeError\u001b[0m: 'MultinomialNB' object has no attribute 'feature_log_prob_'"
     ]
    }
   ],
   "source": [
    "test_model = prob_models[0]\n",
    "\n",
    "score = []\n",
    "for x, y  in zip(kobe_x.iterrows(),kobe_y.iterrows()):\n",
    "    #unpack\n",
    "    i, row = x\n",
    "    j, flag = y\n",
    "    \n",
    "    #print flag['shot_made_flag']\n",
    "    #print row.values\n",
    "    \n",
    "    #hold onto x's for burner to calculate mean\n",
    "    y_temp = [0.5]\n",
    "    \n",
    "    if pd.isnull(flag['shot_made_flag']):\n",
    "        if i < burner:\n",
    "            score.append([i+1,np.mean(y_temp)])\n",
    "        else:\n",
    "            print score\n",
    "            score.append([i+1,test_model.predict_proba([row.tolist()])])\n",
    "    else:\n",
    "        print score\n",
    "        print y_temp\n",
    "        test_model.partial_fit([row.tolist()],[flag['shot_made_flag']],classes=[0,1])\n",
    "    \n",
    "    if i == 250:\n",
    "        break"
   ]
  },
  {
   "cell_type": "code",
   "execution_count": null,
   "metadata": {
    "collapsed": true
   },
   "outputs": [],
   "source": []
  },
  {
   "cell_type": "code",
   "execution_count": null,
   "metadata": {
    "collapsed": true
   },
   "outputs": [],
   "source": []
  },
  {
   "cell_type": "code",
   "execution_count": null,
   "metadata": {
    "collapsed": true
   },
   "outputs": [],
   "source": []
  },
  {
   "cell_type": "code",
   "execution_count": null,
   "metadata": {
    "collapsed": true
   },
   "outputs": [],
   "source": []
  },
  {
   "cell_type": "code",
   "execution_count": 139,
   "metadata": {
    "collapsed": false
   },
   "outputs": [
    {
     "data": {
      "text/plain": [
       "False"
      ]
     },
     "execution_count": 139,
     "metadata": {},
     "output_type": "execute_result"
    }
   ],
   "source": [
    "kobe_y['shot_made_flag'].values.tolist()[0] is None"
   ]
  },
  {
   "cell_type": "code",
   "execution_count": 111,
   "metadata": {
    "collapsed": false
   },
   "outputs": [
    {
     "name": "stdout",
     "output_type": "stream",
     "text": [
      "0\n",
      "[  3.39723000e+01  -1.18102800e+02   1.00000000e+00   0.00000000e+00\n",
      "   1.80000000e+01   2.00000000e+03   1.00000000e+01   4.40000000e+01\n",
      "   1.00000000e+00   0.00000000e+00   0.00000000e+00   0.00000000e+00\n",
      "   0.00000000e+00   0.00000000e+00   0.00000000e+00   0.00000000e+00\n",
      "   0.00000000e+00   0.00000000e+00   0.00000000e+00   0.00000000e+00\n",
      "   0.00000000e+00   0.00000000e+00   0.00000000e+00   0.00000000e+00\n",
      "   0.00000000e+00   0.00000000e+00   0.00000000e+00   0.00000000e+00\n",
      "   0.00000000e+00   0.00000000e+00   0.00000000e+00   0.00000000e+00\n",
      "   0.00000000e+00   0.00000000e+00   0.00000000e+00   1.00000000e+00\n",
      "   0.00000000e+00   0.00000000e+00   0.00000000e+00   0.00000000e+00\n",
      "   0.00000000e+00   0.00000000e+00   0.00000000e+00   0.00000000e+00\n",
      "   0.00000000e+00   0.00000000e+00   0.00000000e+00   0.00000000e+00\n",
      "   0.00000000e+00   0.00000000e+00   0.00000000e+00   0.00000000e+00\n",
      "   0.00000000e+00   0.00000000e+00   0.00000000e+00   0.00000000e+00\n",
      "   0.00000000e+00   0.00000000e+00   0.00000000e+00   0.00000000e+00\n",
      "   0.00000000e+00   0.00000000e+00   0.00000000e+00   0.00000000e+00\n",
      "   0.00000000e+00   0.00000000e+00   0.00000000e+00   0.00000000e+00\n",
      "   0.00000000e+00   1.00000000e+00   0.00000000e+00   0.00000000e+00\n",
      "   0.00000000e+00   0.00000000e+00   0.00000000e+00   0.00000000e+00\n",
      "   1.00000000e+00   0.00000000e+00   0.00000000e+00   0.00000000e+00\n",
      "   0.00000000e+00   0.00000000e+00   0.00000000e+00   0.00000000e+00\n",
      "   0.00000000e+00   0.00000000e+00   0.00000000e+00   0.00000000e+00\n",
      "   0.00000000e+00   0.00000000e+00   0.00000000e+00   0.00000000e+00\n",
      "   1.00000000e+00   0.00000000e+00   0.00000000e+00   0.00000000e+00\n",
      "   0.00000000e+00   0.00000000e+00   0.00000000e+00   1.00000000e+00\n",
      "   0.00000000e+00   0.00000000e+00   0.00000000e+00   0.00000000e+00\n",
      "   1.00000000e+00   0.00000000e+00   0.00000000e+00   1.00000000e+00\n",
      "   0.00000000e+00   0.00000000e+00   0.00000000e+00   0.00000000e+00\n",
      "   1.00000000e+00   0.00000000e+00   0.00000000e+00   0.00000000e+00\n",
      "   0.00000000e+00   0.00000000e+00   0.00000000e+00   0.00000000e+00\n",
      "   0.00000000e+00   0.00000000e+00   0.00000000e+00   0.00000000e+00\n",
      "   0.00000000e+00   0.00000000e+00   0.00000000e+00   0.00000000e+00\n",
      "   0.00000000e+00   0.00000000e+00   0.00000000e+00   0.00000000e+00\n",
      "   0.00000000e+00   0.00000000e+00   0.00000000e+00   0.00000000e+00\n",
      "   0.00000000e+00   0.00000000e+00   1.00000000e+00   0.00000000e+00\n",
      "   0.00000000e+00   0.00000000e+00   0.00000000e+00   0.00000000e+00\n",
      "   0.00000000e+00   0.00000000e+00   0.00000000e+00   0.00000000e+00\n",
      "   0.00000000e+00   0.00000000e+00   0.00000000e+00   1.00000000e+00\n",
      "   0.00000000e+00   0.00000000e+00   0.00000000e+00   0.00000000e+00\n",
      "   0.00000000e+00   0.00000000e+00   0.00000000e+00   0.00000000e+00\n",
      "   0.00000000e+00   0.00000000e+00   0.00000000e+00   0.00000000e+00\n",
      "   0.00000000e+00   0.00000000e+00   0.00000000e+00   0.00000000e+00\n",
      "   0.00000000e+00   0.00000000e+00   0.00000000e+00   0.00000000e+00\n",
      "   0.00000000e+00   1.00000000e+00   0.00000000e+00   0.00000000e+00\n",
      "   0.00000000e+00   0.00000000e+00   0.00000000e+00   1.00000000e+00\n",
      "   0.00000000e+00   0.00000000e+00   0.00000000e+00   0.00000000e+00\n",
      "   0.00000000e+00   0.00000000e+00   0.00000000e+00   0.00000000e+00\n",
      "   0.00000000e+00   0.00000000e+00   0.00000000e+00   0.00000000e+00\n",
      "   0.00000000e+00   0.00000000e+00   0.00000000e+00   0.00000000e+00\n",
      "   0.00000000e+00   0.00000000e+00   1.00000000e+00   0.00000000e+00\n",
      "   0.00000000e+00   0.00000000e+00   0.00000000e+00   0.00000000e+00\n",
      "   0.00000000e+00   0.00000000e+00   0.00000000e+00   1.00000000e+00\n",
      "   0.00000000e+00   0.00000000e+00   0.00000000e+00   0.00000000e+00\n",
      "   6.27000000e+02]\n",
      "nan\n",
      "1\n",
      "[  3.40443000e+01  -1.18426800e+02   1.00000000e+00   0.00000000e+00\n",
      "   1.50000000e+01   2.00000000e+03   1.00000000e+01   4.40000000e+01\n",
      "   1.00000000e+00   0.00000000e+00   0.00000000e+00   0.00000000e+00\n",
      "   0.00000000e+00   0.00000000e+00   0.00000000e+00   0.00000000e+00\n",
      "   0.00000000e+00   0.00000000e+00   0.00000000e+00   0.00000000e+00\n",
      "   0.00000000e+00   0.00000000e+00   0.00000000e+00   0.00000000e+00\n",
      "   0.00000000e+00   0.00000000e+00   0.00000000e+00   0.00000000e+00\n",
      "   0.00000000e+00   0.00000000e+00   0.00000000e+00   0.00000000e+00\n",
      "   0.00000000e+00   0.00000000e+00   0.00000000e+00   1.00000000e+00\n",
      "   0.00000000e+00   0.00000000e+00   0.00000000e+00   0.00000000e+00\n",
      "   0.00000000e+00   0.00000000e+00   0.00000000e+00   0.00000000e+00\n",
      "   0.00000000e+00   0.00000000e+00   0.00000000e+00   0.00000000e+00\n",
      "   0.00000000e+00   0.00000000e+00   0.00000000e+00   0.00000000e+00\n",
      "   0.00000000e+00   0.00000000e+00   0.00000000e+00   0.00000000e+00\n",
      "   0.00000000e+00   0.00000000e+00   0.00000000e+00   0.00000000e+00\n",
      "   0.00000000e+00   0.00000000e+00   0.00000000e+00   0.00000000e+00\n",
      "   0.00000000e+00   0.00000000e+00   0.00000000e+00   0.00000000e+00\n",
      "   0.00000000e+00   1.00000000e+00   0.00000000e+00   0.00000000e+00\n",
      "   0.00000000e+00   0.00000000e+00   0.00000000e+00   0.00000000e+00\n",
      "   1.00000000e+00   0.00000000e+00   0.00000000e+00   0.00000000e+00\n",
      "   0.00000000e+00   0.00000000e+00   0.00000000e+00   0.00000000e+00\n",
      "   0.00000000e+00   0.00000000e+00   0.00000000e+00   0.00000000e+00\n",
      "   0.00000000e+00   0.00000000e+00   0.00000000e+00   0.00000000e+00\n",
      "   1.00000000e+00   0.00000000e+00   0.00000000e+00   0.00000000e+00\n",
      "   0.00000000e+00   1.00000000e+00   0.00000000e+00   0.00000000e+00\n",
      "   0.00000000e+00   0.00000000e+00   0.00000000e+00   0.00000000e+00\n",
      "   1.00000000e+00   0.00000000e+00   0.00000000e+00   0.00000000e+00\n",
      "   0.00000000e+00   1.00000000e+00   0.00000000e+00   0.00000000e+00\n",
      "   1.00000000e+00   0.00000000e+00   0.00000000e+00   0.00000000e+00\n",
      "   0.00000000e+00   0.00000000e+00   0.00000000e+00   0.00000000e+00\n",
      "   0.00000000e+00   0.00000000e+00   0.00000000e+00   0.00000000e+00\n",
      "   0.00000000e+00   0.00000000e+00   0.00000000e+00   0.00000000e+00\n",
      "   0.00000000e+00   0.00000000e+00   0.00000000e+00   0.00000000e+00\n",
      "   0.00000000e+00   0.00000000e+00   0.00000000e+00   0.00000000e+00\n",
      "   0.00000000e+00   0.00000000e+00   1.00000000e+00   0.00000000e+00\n",
      "   0.00000000e+00   0.00000000e+00   0.00000000e+00   0.00000000e+00\n",
      "   0.00000000e+00   0.00000000e+00   0.00000000e+00   0.00000000e+00\n",
      "   0.00000000e+00   1.00000000e+00   0.00000000e+00   0.00000000e+00\n",
      "   0.00000000e+00   0.00000000e+00   0.00000000e+00   0.00000000e+00\n",
      "   0.00000000e+00   0.00000000e+00   0.00000000e+00   0.00000000e+00\n",
      "   0.00000000e+00   0.00000000e+00   0.00000000e+00   0.00000000e+00\n",
      "   0.00000000e+00   0.00000000e+00   0.00000000e+00   0.00000000e+00\n",
      "   0.00000000e+00   0.00000000e+00   0.00000000e+00   1.00000000e+00\n",
      "   0.00000000e+00   0.00000000e+00   0.00000000e+00   0.00000000e+00\n",
      "   0.00000000e+00   0.00000000e+00   0.00000000e+00   0.00000000e+00\n",
      "   0.00000000e+00   1.00000000e+00   0.00000000e+00   0.00000000e+00\n",
      "   0.00000000e+00   0.00000000e+00   0.00000000e+00   0.00000000e+00\n",
      "   0.00000000e+00   0.00000000e+00   0.00000000e+00   0.00000000e+00\n",
      "   0.00000000e+00   0.00000000e+00   0.00000000e+00   0.00000000e+00\n",
      "   0.00000000e+00   0.00000000e+00   0.00000000e+00   0.00000000e+00\n",
      "   1.00000000e+00   0.00000000e+00   0.00000000e+00   0.00000000e+00\n",
      "   0.00000000e+00   0.00000000e+00   0.00000000e+00   1.00000000e+00\n",
      "   0.00000000e+00   0.00000000e+00   0.00000000e+00   0.00000000e+00\n",
      "   6.22000000e+02]\n",
      "0.0\n",
      "2\n",
      "[  3.39093000e+01  -1.18370800e+02   1.00000000e+00   0.00000000e+00\n",
      "   1.60000000e+01   2.00000000e+03   1.00000000e+01   4.40000000e+01\n",
      "   1.00000000e+00   0.00000000e+00   0.00000000e+00   0.00000000e+00\n",
      "   0.00000000e+00   0.00000000e+00   0.00000000e+00   0.00000000e+00\n",
      "   0.00000000e+00   0.00000000e+00   0.00000000e+00   0.00000000e+00\n",
      "   0.00000000e+00   0.00000000e+00   0.00000000e+00   0.00000000e+00\n",
      "   0.00000000e+00   0.00000000e+00   0.00000000e+00   0.00000000e+00\n",
      "   0.00000000e+00   0.00000000e+00   0.00000000e+00   0.00000000e+00\n",
      "   0.00000000e+00   0.00000000e+00   0.00000000e+00   1.00000000e+00\n",
      "   0.00000000e+00   0.00000000e+00   0.00000000e+00   0.00000000e+00\n",
      "   0.00000000e+00   0.00000000e+00   0.00000000e+00   0.00000000e+00\n",
      "   0.00000000e+00   0.00000000e+00   0.00000000e+00   0.00000000e+00\n",
      "   0.00000000e+00   0.00000000e+00   0.00000000e+00   0.00000000e+00\n",
      "   0.00000000e+00   0.00000000e+00   0.00000000e+00   0.00000000e+00\n",
      "   0.00000000e+00   0.00000000e+00   0.00000000e+00   0.00000000e+00\n",
      "   0.00000000e+00   0.00000000e+00   0.00000000e+00   0.00000000e+00\n",
      "   0.00000000e+00   0.00000000e+00   0.00000000e+00   0.00000000e+00\n",
      "   0.00000000e+00   1.00000000e+00   0.00000000e+00   0.00000000e+00\n",
      "   0.00000000e+00   0.00000000e+00   0.00000000e+00   0.00000000e+00\n",
      "   1.00000000e+00   0.00000000e+00   0.00000000e+00   0.00000000e+00\n",
      "   0.00000000e+00   0.00000000e+00   0.00000000e+00   0.00000000e+00\n",
      "   0.00000000e+00   0.00000000e+00   0.00000000e+00   0.00000000e+00\n",
      "   0.00000000e+00   0.00000000e+00   0.00000000e+00   0.00000000e+00\n",
      "   1.00000000e+00   0.00000000e+00   0.00000000e+00   0.00000000e+00\n",
      "   1.00000000e+00   0.00000000e+00   0.00000000e+00   0.00000000e+00\n",
      "   0.00000000e+00   0.00000000e+00   0.00000000e+00   0.00000000e+00\n",
      "   1.00000000e+00   0.00000000e+00   0.00000000e+00   1.00000000e+00\n",
      "   0.00000000e+00   0.00000000e+00   0.00000000e+00   0.00000000e+00\n",
      "   1.00000000e+00   0.00000000e+00   0.00000000e+00   0.00000000e+00\n",
      "   0.00000000e+00   0.00000000e+00   0.00000000e+00   0.00000000e+00\n",
      "   0.00000000e+00   0.00000000e+00   0.00000000e+00   0.00000000e+00\n",
      "   0.00000000e+00   0.00000000e+00   0.00000000e+00   0.00000000e+00\n",
      "   0.00000000e+00   0.00000000e+00   0.00000000e+00   0.00000000e+00\n",
      "   0.00000000e+00   0.00000000e+00   0.00000000e+00   0.00000000e+00\n",
      "   0.00000000e+00   0.00000000e+00   1.00000000e+00   0.00000000e+00\n",
      "   0.00000000e+00   0.00000000e+00   0.00000000e+00   0.00000000e+00\n",
      "   0.00000000e+00   0.00000000e+00   0.00000000e+00   0.00000000e+00\n",
      "   1.00000000e+00   0.00000000e+00   0.00000000e+00   0.00000000e+00\n",
      "   0.00000000e+00   0.00000000e+00   0.00000000e+00   0.00000000e+00\n",
      "   0.00000000e+00   0.00000000e+00   0.00000000e+00   0.00000000e+00\n",
      "   0.00000000e+00   0.00000000e+00   0.00000000e+00   0.00000000e+00\n",
      "   0.00000000e+00   0.00000000e+00   0.00000000e+00   0.00000000e+00\n",
      "   0.00000000e+00   0.00000000e+00   1.00000000e+00   0.00000000e+00\n",
      "   0.00000000e+00   0.00000000e+00   0.00000000e+00   0.00000000e+00\n",
      "   0.00000000e+00   0.00000000e+00   0.00000000e+00   1.00000000e+00\n",
      "   0.00000000e+00   0.00000000e+00   0.00000000e+00   0.00000000e+00\n",
      "   0.00000000e+00   0.00000000e+00   0.00000000e+00   0.00000000e+00\n",
      "   0.00000000e+00   0.00000000e+00   0.00000000e+00   0.00000000e+00\n",
      "   0.00000000e+00   0.00000000e+00   0.00000000e+00   0.00000000e+00\n",
      "   0.00000000e+00   0.00000000e+00   1.00000000e+00   0.00000000e+00\n",
      "   0.00000000e+00   0.00000000e+00   0.00000000e+00   0.00000000e+00\n",
      "   0.00000000e+00   0.00000000e+00   0.00000000e+00   1.00000000e+00\n",
      "   0.00000000e+00   1.00000000e+00   0.00000000e+00   0.00000000e+00\n",
      "   4.65000000e+02]\n",
      "1.0\n",
      "3\n",
      "[  3.38693000e+01  -1.18131800e+02   1.00000000e+00   0.00000000e+00\n",
      "   2.20000000e+01   2.00000000e+03   1.00000000e+01   4.40000000e+01\n",
      "   1.00000000e+00   0.00000000e+00   0.00000000e+00   0.00000000e+00\n",
      "   0.00000000e+00   0.00000000e+00   0.00000000e+00   0.00000000e+00\n",
      "   0.00000000e+00   0.00000000e+00   0.00000000e+00   0.00000000e+00\n",
      "   0.00000000e+00   0.00000000e+00   0.00000000e+00   0.00000000e+00\n",
      "   0.00000000e+00   0.00000000e+00   0.00000000e+00   0.00000000e+00\n",
      "   0.00000000e+00   0.00000000e+00   0.00000000e+00   0.00000000e+00\n",
      "   0.00000000e+00   0.00000000e+00   0.00000000e+00   1.00000000e+00\n",
      "   0.00000000e+00   0.00000000e+00   0.00000000e+00   0.00000000e+00\n",
      "   0.00000000e+00   0.00000000e+00   0.00000000e+00   0.00000000e+00\n",
      "   0.00000000e+00   0.00000000e+00   0.00000000e+00   0.00000000e+00\n",
      "   0.00000000e+00   0.00000000e+00   0.00000000e+00   0.00000000e+00\n",
      "   0.00000000e+00   0.00000000e+00   0.00000000e+00   0.00000000e+00\n",
      "   0.00000000e+00   0.00000000e+00   0.00000000e+00   0.00000000e+00\n",
      "   0.00000000e+00   0.00000000e+00   0.00000000e+00   0.00000000e+00\n",
      "   0.00000000e+00   0.00000000e+00   0.00000000e+00   0.00000000e+00\n",
      "   0.00000000e+00   1.00000000e+00   0.00000000e+00   0.00000000e+00\n",
      "   0.00000000e+00   0.00000000e+00   0.00000000e+00   0.00000000e+00\n",
      "   1.00000000e+00   0.00000000e+00   0.00000000e+00   0.00000000e+00\n",
      "   0.00000000e+00   0.00000000e+00   0.00000000e+00   0.00000000e+00\n",
      "   0.00000000e+00   0.00000000e+00   0.00000000e+00   0.00000000e+00\n",
      "   0.00000000e+00   0.00000000e+00   0.00000000e+00   0.00000000e+00\n",
      "   1.00000000e+00   0.00000000e+00   0.00000000e+00   0.00000000e+00\n",
      "   0.00000000e+00   0.00000000e+00   1.00000000e+00   0.00000000e+00\n",
      "   0.00000000e+00   0.00000000e+00   0.00000000e+00   0.00000000e+00\n",
      "   1.00000000e+00   0.00000000e+00   0.00000000e+00   1.00000000e+00\n",
      "   0.00000000e+00   0.00000000e+00   0.00000000e+00   0.00000000e+00\n",
      "   1.00000000e+00   0.00000000e+00   0.00000000e+00   0.00000000e+00\n",
      "   0.00000000e+00   0.00000000e+00   0.00000000e+00   0.00000000e+00\n",
      "   0.00000000e+00   0.00000000e+00   0.00000000e+00   0.00000000e+00\n",
      "   0.00000000e+00   0.00000000e+00   0.00000000e+00   0.00000000e+00\n",
      "   0.00000000e+00   0.00000000e+00   0.00000000e+00   0.00000000e+00\n",
      "   0.00000000e+00   0.00000000e+00   0.00000000e+00   0.00000000e+00\n",
      "   0.00000000e+00   0.00000000e+00   1.00000000e+00   0.00000000e+00\n",
      "   0.00000000e+00   0.00000000e+00   0.00000000e+00   0.00000000e+00\n",
      "   0.00000000e+00   0.00000000e+00   0.00000000e+00   0.00000000e+00\n",
      "   0.00000000e+00   0.00000000e+00   1.00000000e+00   0.00000000e+00\n",
      "   0.00000000e+00   0.00000000e+00   0.00000000e+00   0.00000000e+00\n",
      "   0.00000000e+00   0.00000000e+00   0.00000000e+00   0.00000000e+00\n",
      "   0.00000000e+00   0.00000000e+00   0.00000000e+00   0.00000000e+00\n",
      "   0.00000000e+00   0.00000000e+00   0.00000000e+00   0.00000000e+00\n",
      "   0.00000000e+00   0.00000000e+00   0.00000000e+00   0.00000000e+00\n",
      "   1.00000000e+00   0.00000000e+00   0.00000000e+00   0.00000000e+00\n",
      "   0.00000000e+00   0.00000000e+00   0.00000000e+00   1.00000000e+00\n",
      "   0.00000000e+00   0.00000000e+00   0.00000000e+00   0.00000000e+00\n",
      "   0.00000000e+00   0.00000000e+00   0.00000000e+00   0.00000000e+00\n",
      "   0.00000000e+00   0.00000000e+00   0.00000000e+00   0.00000000e+00\n",
      "   0.00000000e+00   0.00000000e+00   0.00000000e+00   0.00000000e+00\n",
      "   0.00000000e+00   0.00000000e+00   1.00000000e+00   0.00000000e+00\n",
      "   0.00000000e+00   0.00000000e+00   0.00000000e+00   0.00000000e+00\n",
      "   0.00000000e+00   0.00000000e+00   0.00000000e+00   1.00000000e+00\n",
      "   1.00000000e+00   0.00000000e+00   3.33333333e-01   3.33333333e-01\n",
      "   4.12000000e+02]\n",
      "0.0\n",
      "4\n",
      "[  3.40443000e+01  -1.18269800e+02   2.00000000e+00   0.00000000e+00\n",
      "   0.00000000e+00   2.00000000e+03   1.00000000e+01   4.40000000e+01\n",
      "   1.00000000e+00   0.00000000e+00   0.00000000e+00   0.00000000e+00\n",
      "   0.00000000e+00   0.00000000e+00   1.00000000e+00   0.00000000e+00\n",
      "   0.00000000e+00   0.00000000e+00   0.00000000e+00   0.00000000e+00\n",
      "   0.00000000e+00   0.00000000e+00   0.00000000e+00   0.00000000e+00\n",
      "   0.00000000e+00   0.00000000e+00   0.00000000e+00   0.00000000e+00\n",
      "   0.00000000e+00   0.00000000e+00   0.00000000e+00   0.00000000e+00\n",
      "   0.00000000e+00   0.00000000e+00   0.00000000e+00   0.00000000e+00\n",
      "   0.00000000e+00   0.00000000e+00   0.00000000e+00   0.00000000e+00\n",
      "   0.00000000e+00   0.00000000e+00   0.00000000e+00   0.00000000e+00\n",
      "   0.00000000e+00   0.00000000e+00   0.00000000e+00   0.00000000e+00\n",
      "   0.00000000e+00   0.00000000e+00   0.00000000e+00   0.00000000e+00\n",
      "   0.00000000e+00   0.00000000e+00   0.00000000e+00   0.00000000e+00\n",
      "   0.00000000e+00   0.00000000e+00   0.00000000e+00   0.00000000e+00\n",
      "   0.00000000e+00   0.00000000e+00   0.00000000e+00   0.00000000e+00\n",
      "   0.00000000e+00   0.00000000e+00   0.00000000e+00   1.00000000e+00\n",
      "   0.00000000e+00   0.00000000e+00   0.00000000e+00   0.00000000e+00\n",
      "   0.00000000e+00   0.00000000e+00   0.00000000e+00   0.00000000e+00\n",
      "   1.00000000e+00   0.00000000e+00   0.00000000e+00   0.00000000e+00\n",
      "   0.00000000e+00   0.00000000e+00   0.00000000e+00   0.00000000e+00\n",
      "   0.00000000e+00   0.00000000e+00   0.00000000e+00   0.00000000e+00\n",
      "   0.00000000e+00   0.00000000e+00   0.00000000e+00   0.00000000e+00\n",
      "   1.00000000e+00   0.00000000e+00   0.00000000e+00   1.00000000e+00\n",
      "   0.00000000e+00   0.00000000e+00   0.00000000e+00   0.00000000e+00\n",
      "   0.00000000e+00   0.00000000e+00   0.00000000e+00   0.00000000e+00\n",
      "   0.00000000e+00   1.00000000e+00   0.00000000e+00   0.00000000e+00\n",
      "   0.00000000e+00   0.00000000e+00   0.00000000e+00   1.00000000e+00\n",
      "   1.00000000e+00   0.00000000e+00   0.00000000e+00   0.00000000e+00\n",
      "   0.00000000e+00   0.00000000e+00   0.00000000e+00   0.00000000e+00\n",
      "   0.00000000e+00   0.00000000e+00   0.00000000e+00   0.00000000e+00\n",
      "   0.00000000e+00   0.00000000e+00   0.00000000e+00   0.00000000e+00\n",
      "   0.00000000e+00   0.00000000e+00   0.00000000e+00   0.00000000e+00\n",
      "   0.00000000e+00   0.00000000e+00   0.00000000e+00   0.00000000e+00\n",
      "   0.00000000e+00   0.00000000e+00   1.00000000e+00   0.00000000e+00\n",
      "   0.00000000e+00   0.00000000e+00   0.00000000e+00   0.00000000e+00\n",
      "   0.00000000e+00   0.00000000e+00   0.00000000e+00   1.00000000e+00\n",
      "   0.00000000e+00   0.00000000e+00   0.00000000e+00   0.00000000e+00\n",
      "   0.00000000e+00   0.00000000e+00   0.00000000e+00   0.00000000e+00\n",
      "   0.00000000e+00   0.00000000e+00   0.00000000e+00   0.00000000e+00\n",
      "   0.00000000e+00   0.00000000e+00   1.00000000e+00   0.00000000e+00\n",
      "   0.00000000e+00   0.00000000e+00   0.00000000e+00   0.00000000e+00\n",
      "   0.00000000e+00   0.00000000e+00   0.00000000e+00   0.00000000e+00\n",
      "   0.00000000e+00   0.00000000e+00   0.00000000e+00   0.00000000e+00\n",
      "   0.00000000e+00   0.00000000e+00   0.00000000e+00   0.00000000e+00\n",
      "   0.00000000e+00   0.00000000e+00   0.00000000e+00   1.00000000e+00\n",
      "   0.00000000e+00   0.00000000e+00   0.00000000e+00   0.00000000e+00\n",
      "   0.00000000e+00   0.00000000e+00   0.00000000e+00   0.00000000e+00\n",
      "   0.00000000e+00   0.00000000e+00   1.00000000e+00   0.00000000e+00\n",
      "   0.00000000e+00   0.00000000e+00   0.00000000e+00   0.00000000e+00\n",
      "   0.00000000e+00   0.00000000e+00   0.00000000e+00   0.00000000e+00\n",
      "   0.00000000e+00   0.00000000e+00   0.00000000e+00   1.00000000e+00\n",
      "   0.00000000e+00   1.00000000e+00   2.50000000e-01   2.50000000e-01\n",
      "   3.79000000e+02]\n",
      "1.0\n",
      "5\n",
      "[  3.40553000e+01  -1.18414800e+02   3.00000000e+00   0.00000000e+00\n",
      "   1.40000000e+01   2.00000000e+03   1.00000000e+01   4.40000000e+01\n",
      "   1.00000000e+00   0.00000000e+00   0.00000000e+00   0.00000000e+00\n",
      "   0.00000000e+00   0.00000000e+00   0.00000000e+00   0.00000000e+00\n",
      "   0.00000000e+00   0.00000000e+00   0.00000000e+00   0.00000000e+00\n",
      "   0.00000000e+00   0.00000000e+00   0.00000000e+00   0.00000000e+00\n",
      "   0.00000000e+00   0.00000000e+00   0.00000000e+00   0.00000000e+00\n",
      "   0.00000000e+00   0.00000000e+00   0.00000000e+00   0.00000000e+00\n",
      "   0.00000000e+00   0.00000000e+00   0.00000000e+00   1.00000000e+00\n",
      "   0.00000000e+00   0.00000000e+00   0.00000000e+00   0.00000000e+00\n",
      "   0.00000000e+00   0.00000000e+00   0.00000000e+00   0.00000000e+00\n",
      "   0.00000000e+00   0.00000000e+00   0.00000000e+00   0.00000000e+00\n",
      "   0.00000000e+00   0.00000000e+00   0.00000000e+00   0.00000000e+00\n",
      "   0.00000000e+00   0.00000000e+00   0.00000000e+00   0.00000000e+00\n",
      "   0.00000000e+00   0.00000000e+00   0.00000000e+00   0.00000000e+00\n",
      "   0.00000000e+00   0.00000000e+00   0.00000000e+00   0.00000000e+00\n",
      "   0.00000000e+00   0.00000000e+00   0.00000000e+00   0.00000000e+00\n",
      "   0.00000000e+00   1.00000000e+00   0.00000000e+00   0.00000000e+00\n",
      "   0.00000000e+00   0.00000000e+00   0.00000000e+00   0.00000000e+00\n",
      "   1.00000000e+00   0.00000000e+00   0.00000000e+00   0.00000000e+00\n",
      "   0.00000000e+00   0.00000000e+00   0.00000000e+00   0.00000000e+00\n",
      "   0.00000000e+00   0.00000000e+00   0.00000000e+00   0.00000000e+00\n",
      "   0.00000000e+00   0.00000000e+00   0.00000000e+00   0.00000000e+00\n",
      "   1.00000000e+00   0.00000000e+00   0.00000000e+00   0.00000000e+00\n",
      "   0.00000000e+00   1.00000000e+00   0.00000000e+00   0.00000000e+00\n",
      "   0.00000000e+00   0.00000000e+00   0.00000000e+00   0.00000000e+00\n",
      "   1.00000000e+00   0.00000000e+00   0.00000000e+00   0.00000000e+00\n",
      "   0.00000000e+00   1.00000000e+00   0.00000000e+00   0.00000000e+00\n",
      "   1.00000000e+00   0.00000000e+00   0.00000000e+00   0.00000000e+00\n",
      "   0.00000000e+00   0.00000000e+00   0.00000000e+00   0.00000000e+00\n",
      "   0.00000000e+00   0.00000000e+00   0.00000000e+00   0.00000000e+00\n",
      "   0.00000000e+00   0.00000000e+00   0.00000000e+00   0.00000000e+00\n",
      "   0.00000000e+00   0.00000000e+00   0.00000000e+00   0.00000000e+00\n",
      "   0.00000000e+00   0.00000000e+00   0.00000000e+00   0.00000000e+00\n",
      "   0.00000000e+00   0.00000000e+00   1.00000000e+00   0.00000000e+00\n",
      "   0.00000000e+00   0.00000000e+00   0.00000000e+00   0.00000000e+00\n",
      "   0.00000000e+00   0.00000000e+00   0.00000000e+00   0.00000000e+00\n",
      "   0.00000000e+00   1.00000000e+00   0.00000000e+00   0.00000000e+00\n",
      "   0.00000000e+00   0.00000000e+00   0.00000000e+00   0.00000000e+00\n",
      "   0.00000000e+00   0.00000000e+00   0.00000000e+00   0.00000000e+00\n",
      "   0.00000000e+00   0.00000000e+00   0.00000000e+00   0.00000000e+00\n",
      "   0.00000000e+00   0.00000000e+00   0.00000000e+00   0.00000000e+00\n",
      "   0.00000000e+00   0.00000000e+00   0.00000000e+00   1.00000000e+00\n",
      "   0.00000000e+00   0.00000000e+00   0.00000000e+00   0.00000000e+00\n",
      "   0.00000000e+00   0.00000000e+00   0.00000000e+00   0.00000000e+00\n",
      "   0.00000000e+00   1.00000000e+00   0.00000000e+00   0.00000000e+00\n",
      "   0.00000000e+00   0.00000000e+00   0.00000000e+00   0.00000000e+00\n",
      "   0.00000000e+00   0.00000000e+00   0.00000000e+00   0.00000000e+00\n",
      "   0.00000000e+00   0.00000000e+00   0.00000000e+00   0.00000000e+00\n",
      "   0.00000000e+00   0.00000000e+00   0.00000000e+00   0.00000000e+00\n",
      "   1.00000000e+00   0.00000000e+00   0.00000000e+00   0.00000000e+00\n",
      "   0.00000000e+00   0.00000000e+00   0.00000000e+00   1.00000000e+00\n",
      "   1.00000000e+00   0.00000000e+00   4.00000000e-01   4.00000000e-01\n",
      "   5.72000000e+02]\n",
      "0.0\n",
      "6\n",
      "[  3.40443000e+01  -1.18269800e+02   3.00000000e+00   0.00000000e+00\n",
      "   0.00000000e+00   2.00000000e+03   1.00000000e+01   4.40000000e+01\n",
      "   1.00000000e+00   0.00000000e+00   0.00000000e+00   0.00000000e+00\n",
      "   0.00000000e+00   0.00000000e+00   0.00000000e+00   0.00000000e+00\n",
      "   0.00000000e+00   0.00000000e+00   0.00000000e+00   0.00000000e+00\n",
      "   0.00000000e+00   0.00000000e+00   0.00000000e+00   0.00000000e+00\n",
      "   0.00000000e+00   0.00000000e+00   0.00000000e+00   0.00000000e+00\n",
      "   0.00000000e+00   0.00000000e+00   0.00000000e+00   0.00000000e+00\n",
      "   0.00000000e+00   0.00000000e+00   0.00000000e+00   0.00000000e+00\n",
      "   1.00000000e+00   0.00000000e+00   0.00000000e+00   0.00000000e+00\n",
      "   0.00000000e+00   0.00000000e+00   0.00000000e+00   0.00000000e+00\n",
      "   0.00000000e+00   0.00000000e+00   0.00000000e+00   0.00000000e+00\n",
      "   0.00000000e+00   0.00000000e+00   0.00000000e+00   0.00000000e+00\n",
      "   0.00000000e+00   0.00000000e+00   0.00000000e+00   0.00000000e+00\n",
      "   0.00000000e+00   0.00000000e+00   0.00000000e+00   0.00000000e+00\n",
      "   0.00000000e+00   0.00000000e+00   0.00000000e+00   0.00000000e+00\n",
      "   0.00000000e+00   0.00000000e+00   0.00000000e+00   0.00000000e+00\n",
      "   0.00000000e+00   0.00000000e+00   1.00000000e+00   0.00000000e+00\n",
      "   0.00000000e+00   0.00000000e+00   0.00000000e+00   0.00000000e+00\n",
      "   1.00000000e+00   0.00000000e+00   0.00000000e+00   0.00000000e+00\n",
      "   0.00000000e+00   0.00000000e+00   0.00000000e+00   0.00000000e+00\n",
      "   0.00000000e+00   0.00000000e+00   0.00000000e+00   0.00000000e+00\n",
      "   0.00000000e+00   0.00000000e+00   0.00000000e+00   0.00000000e+00\n",
      "   1.00000000e+00   0.00000000e+00   0.00000000e+00   1.00000000e+00\n",
      "   0.00000000e+00   0.00000000e+00   0.00000000e+00   0.00000000e+00\n",
      "   0.00000000e+00   0.00000000e+00   0.00000000e+00   0.00000000e+00\n",
      "   0.00000000e+00   1.00000000e+00   0.00000000e+00   0.00000000e+00\n",
      "   0.00000000e+00   0.00000000e+00   0.00000000e+00   1.00000000e+00\n",
      "   1.00000000e+00   0.00000000e+00   0.00000000e+00   0.00000000e+00\n",
      "   0.00000000e+00   0.00000000e+00   0.00000000e+00   0.00000000e+00\n",
      "   0.00000000e+00   0.00000000e+00   0.00000000e+00   0.00000000e+00\n",
      "   0.00000000e+00   0.00000000e+00   0.00000000e+00   0.00000000e+00\n",
      "   0.00000000e+00   0.00000000e+00   0.00000000e+00   0.00000000e+00\n",
      "   0.00000000e+00   0.00000000e+00   0.00000000e+00   0.00000000e+00\n",
      "   0.00000000e+00   0.00000000e+00   1.00000000e+00   0.00000000e+00\n",
      "   0.00000000e+00   0.00000000e+00   0.00000000e+00   0.00000000e+00\n",
      "   0.00000000e+00   0.00000000e+00   0.00000000e+00   1.00000000e+00\n",
      "   0.00000000e+00   0.00000000e+00   0.00000000e+00   0.00000000e+00\n",
      "   0.00000000e+00   0.00000000e+00   0.00000000e+00   0.00000000e+00\n",
      "   0.00000000e+00   0.00000000e+00   0.00000000e+00   0.00000000e+00\n",
      "   0.00000000e+00   0.00000000e+00   0.00000000e+00   0.00000000e+00\n",
      "   0.00000000e+00   0.00000000e+00   0.00000000e+00   0.00000000e+00\n",
      "   0.00000000e+00   0.00000000e+00   0.00000000e+00   0.00000000e+00\n",
      "   0.00000000e+00   0.00000000e+00   1.00000000e+00   0.00000000e+00\n",
      "   0.00000000e+00   0.00000000e+00   0.00000000e+00   0.00000000e+00\n",
      "   0.00000000e+00   0.00000000e+00   0.00000000e+00   1.00000000e+00\n",
      "   0.00000000e+00   0.00000000e+00   0.00000000e+00   0.00000000e+00\n",
      "   0.00000000e+00   0.00000000e+00   0.00000000e+00   0.00000000e+00\n",
      "   0.00000000e+00   0.00000000e+00   0.00000000e+00   0.00000000e+00\n",
      "   0.00000000e+00   0.00000000e+00   0.00000000e+00   0.00000000e+00\n",
      "   0.00000000e+00   0.00000000e+00   0.00000000e+00   0.00000000e+00\n",
      "   0.00000000e+00   1.00000000e+00   0.00000000e+00   1.00000000e+00\n",
      "   0.00000000e+00   1.00000000e+00   3.33333333e-01   3.33333333e-01\n",
      "   5.32000000e+02]\n",
      "1.0\n",
      "7\n",
      "[  3.40163000e+01  -1.18268800e+02   3.00000000e+00   0.00000000e+00\n",
      "   2.00000000e+00   2.00000000e+03   1.00000000e+01   4.40000000e+01\n",
      "   1.00000000e+00   0.00000000e+00   0.00000000e+00   0.00000000e+00\n",
      "   0.00000000e+00   0.00000000e+00   0.00000000e+00   0.00000000e+00\n",
      "   0.00000000e+00   0.00000000e+00   0.00000000e+00   0.00000000e+00\n",
      "   0.00000000e+00   0.00000000e+00   0.00000000e+00   0.00000000e+00\n",
      "   0.00000000e+00   0.00000000e+00   0.00000000e+00   0.00000000e+00\n",
      "   0.00000000e+00   0.00000000e+00   0.00000000e+00   0.00000000e+00\n",
      "   0.00000000e+00   0.00000000e+00   0.00000000e+00   1.00000000e+00\n",
      "   0.00000000e+00   0.00000000e+00   0.00000000e+00   0.00000000e+00\n",
      "   0.00000000e+00   0.00000000e+00   0.00000000e+00   0.00000000e+00\n",
      "   0.00000000e+00   0.00000000e+00   0.00000000e+00   0.00000000e+00\n",
      "   0.00000000e+00   0.00000000e+00   0.00000000e+00   0.00000000e+00\n",
      "   0.00000000e+00   0.00000000e+00   0.00000000e+00   0.00000000e+00\n",
      "   0.00000000e+00   0.00000000e+00   0.00000000e+00   0.00000000e+00\n",
      "   0.00000000e+00   0.00000000e+00   0.00000000e+00   0.00000000e+00\n",
      "   0.00000000e+00   0.00000000e+00   0.00000000e+00   0.00000000e+00\n",
      "   0.00000000e+00   1.00000000e+00   0.00000000e+00   0.00000000e+00\n",
      "   0.00000000e+00   0.00000000e+00   0.00000000e+00   0.00000000e+00\n",
      "   1.00000000e+00   0.00000000e+00   0.00000000e+00   0.00000000e+00\n",
      "   0.00000000e+00   0.00000000e+00   0.00000000e+00   0.00000000e+00\n",
      "   0.00000000e+00   0.00000000e+00   0.00000000e+00   0.00000000e+00\n",
      "   0.00000000e+00   0.00000000e+00   0.00000000e+00   0.00000000e+00\n",
      "   1.00000000e+00   0.00000000e+00   0.00000000e+00   1.00000000e+00\n",
      "   0.00000000e+00   0.00000000e+00   0.00000000e+00   0.00000000e+00\n",
      "   0.00000000e+00   0.00000000e+00   0.00000000e+00   0.00000000e+00\n",
      "   0.00000000e+00   1.00000000e+00   0.00000000e+00   0.00000000e+00\n",
      "   0.00000000e+00   0.00000000e+00   0.00000000e+00   1.00000000e+00\n",
      "   1.00000000e+00   0.00000000e+00   0.00000000e+00   0.00000000e+00\n",
      "   0.00000000e+00   0.00000000e+00   0.00000000e+00   0.00000000e+00\n",
      "   0.00000000e+00   0.00000000e+00   0.00000000e+00   0.00000000e+00\n",
      "   0.00000000e+00   0.00000000e+00   0.00000000e+00   0.00000000e+00\n",
      "   0.00000000e+00   0.00000000e+00   0.00000000e+00   0.00000000e+00\n",
      "   0.00000000e+00   0.00000000e+00   0.00000000e+00   0.00000000e+00\n",
      "   0.00000000e+00   0.00000000e+00   1.00000000e+00   0.00000000e+00\n",
      "   0.00000000e+00   0.00000000e+00   0.00000000e+00   0.00000000e+00\n",
      "   0.00000000e+00   0.00000000e+00   0.00000000e+00   1.00000000e+00\n",
      "   0.00000000e+00   0.00000000e+00   0.00000000e+00   0.00000000e+00\n",
      "   0.00000000e+00   0.00000000e+00   0.00000000e+00   0.00000000e+00\n",
      "   0.00000000e+00   0.00000000e+00   0.00000000e+00   0.00000000e+00\n",
      "   0.00000000e+00   0.00000000e+00   0.00000000e+00   0.00000000e+00\n",
      "   0.00000000e+00   0.00000000e+00   0.00000000e+00   0.00000000e+00\n",
      "   0.00000000e+00   1.00000000e+00   0.00000000e+00   0.00000000e+00\n",
      "   0.00000000e+00   0.00000000e+00   0.00000000e+00   0.00000000e+00\n",
      "   0.00000000e+00   0.00000000e+00   0.00000000e+00   0.00000000e+00\n",
      "   0.00000000e+00   0.00000000e+00   0.00000000e+00   1.00000000e+00\n",
      "   0.00000000e+00   0.00000000e+00   0.00000000e+00   0.00000000e+00\n",
      "   0.00000000e+00   0.00000000e+00   0.00000000e+00   0.00000000e+00\n",
      "   0.00000000e+00   0.00000000e+00   0.00000000e+00   0.00000000e+00\n",
      "   0.00000000e+00   0.00000000e+00   0.00000000e+00   0.00000000e+00\n",
      "   0.00000000e+00   0.00000000e+00   1.00000000e+00   0.00000000e+00\n",
      "   0.00000000e+00   0.00000000e+00   0.00000000e+00   1.00000000e+00\n",
      "   1.00000000e+00   0.00000000e+00   4.28571429e-01   4.28571429e-01\n",
      "   4.85000000e+02]\n",
      "nan\n",
      "8\n",
      "[  3.39363000e+01  -1.18334800e+02   3.00000000e+00   0.00000000e+00\n",
      "   1.20000000e+01   2.00000000e+03   1.00000000e+01   4.40000000e+01\n",
      "   1.00000000e+00   0.00000000e+00   0.00000000e+00   0.00000000e+00\n",
      "   0.00000000e+00   0.00000000e+00   0.00000000e+00   0.00000000e+00\n",
      "   0.00000000e+00   0.00000000e+00   0.00000000e+00   0.00000000e+00\n",
      "   0.00000000e+00   0.00000000e+00   0.00000000e+00   0.00000000e+00\n",
      "   0.00000000e+00   0.00000000e+00   0.00000000e+00   0.00000000e+00\n",
      "   0.00000000e+00   0.00000000e+00   0.00000000e+00   0.00000000e+00\n",
      "   0.00000000e+00   0.00000000e+00   0.00000000e+00   1.00000000e+00\n",
      "   0.00000000e+00   0.00000000e+00   0.00000000e+00   0.00000000e+00\n",
      "   0.00000000e+00   0.00000000e+00   0.00000000e+00   0.00000000e+00\n",
      "   0.00000000e+00   0.00000000e+00   0.00000000e+00   0.00000000e+00\n",
      "   0.00000000e+00   0.00000000e+00   0.00000000e+00   0.00000000e+00\n",
      "   0.00000000e+00   0.00000000e+00   0.00000000e+00   0.00000000e+00\n",
      "   0.00000000e+00   0.00000000e+00   0.00000000e+00   0.00000000e+00\n",
      "   0.00000000e+00   0.00000000e+00   0.00000000e+00   0.00000000e+00\n",
      "   0.00000000e+00   0.00000000e+00   0.00000000e+00   0.00000000e+00\n",
      "   0.00000000e+00   1.00000000e+00   0.00000000e+00   0.00000000e+00\n",
      "   0.00000000e+00   0.00000000e+00   0.00000000e+00   0.00000000e+00\n",
      "   1.00000000e+00   0.00000000e+00   0.00000000e+00   0.00000000e+00\n",
      "   0.00000000e+00   0.00000000e+00   0.00000000e+00   0.00000000e+00\n",
      "   0.00000000e+00   0.00000000e+00   0.00000000e+00   0.00000000e+00\n",
      "   0.00000000e+00   0.00000000e+00   0.00000000e+00   0.00000000e+00\n",
      "   1.00000000e+00   0.00000000e+00   0.00000000e+00   0.00000000e+00\n",
      "   0.00000000e+00   1.00000000e+00   0.00000000e+00   0.00000000e+00\n",
      "   0.00000000e+00   0.00000000e+00   1.00000000e+00   0.00000000e+00\n",
      "   0.00000000e+00   0.00000000e+00   0.00000000e+00   0.00000000e+00\n",
      "   0.00000000e+00   1.00000000e+00   0.00000000e+00   0.00000000e+00\n",
      "   1.00000000e+00   0.00000000e+00   0.00000000e+00   0.00000000e+00\n",
      "   0.00000000e+00   0.00000000e+00   0.00000000e+00   0.00000000e+00\n",
      "   0.00000000e+00   0.00000000e+00   0.00000000e+00   0.00000000e+00\n",
      "   0.00000000e+00   0.00000000e+00   0.00000000e+00   0.00000000e+00\n",
      "   0.00000000e+00   0.00000000e+00   0.00000000e+00   0.00000000e+00\n",
      "   0.00000000e+00   0.00000000e+00   0.00000000e+00   0.00000000e+00\n",
      "   0.00000000e+00   0.00000000e+00   1.00000000e+00   0.00000000e+00\n",
      "   0.00000000e+00   0.00000000e+00   0.00000000e+00   0.00000000e+00\n",
      "   0.00000000e+00   0.00000000e+00   0.00000000e+00   0.00000000e+00\n",
      "   0.00000000e+00   1.00000000e+00   0.00000000e+00   0.00000000e+00\n",
      "   0.00000000e+00   0.00000000e+00   0.00000000e+00   0.00000000e+00\n",
      "   0.00000000e+00   0.00000000e+00   0.00000000e+00   0.00000000e+00\n",
      "   0.00000000e+00   0.00000000e+00   0.00000000e+00   0.00000000e+00\n",
      "   0.00000000e+00   0.00000000e+00   0.00000000e+00   0.00000000e+00\n",
      "   0.00000000e+00   0.00000000e+00   0.00000000e+00   1.00000000e+00\n",
      "   0.00000000e+00   0.00000000e+00   0.00000000e+00   0.00000000e+00\n",
      "   0.00000000e+00   0.00000000e+00   0.00000000e+00   0.00000000e+00\n",
      "   0.00000000e+00   1.00000000e+00   0.00000000e+00   0.00000000e+00\n",
      "   0.00000000e+00   0.00000000e+00   0.00000000e+00   0.00000000e+00\n",
      "   0.00000000e+00   0.00000000e+00   0.00000000e+00   0.00000000e+00\n",
      "   0.00000000e+00   0.00000000e+00   0.00000000e+00   0.00000000e+00\n",
      "   0.00000000e+00   0.00000000e+00   0.00000000e+00   0.00000000e+00\n",
      "   1.00000000e+00   0.00000000e+00   0.00000000e+00   0.00000000e+00\n",
      "   0.00000000e+00   0.00000000e+00   0.00000000e+00   1.00000000e+00\n",
      "   0.00000000e+00   1.00000000e+00   4.28571429e-01   4.28571429e-01\n",
      "   3.72000000e+02]\n",
      "1.0\n",
      "9\n",
      "[  3.39193000e+01  -1.18302800e+02   3.00000000e+00   0.00000000e+00\n",
      "   1.20000000e+01   2.00000000e+03   1.00000000e+01   4.40000000e+01\n",
      "   1.00000000e+00   0.00000000e+00   0.00000000e+00   0.00000000e+00\n",
      "   0.00000000e+00   0.00000000e+00   0.00000000e+00   0.00000000e+00\n",
      "   0.00000000e+00   0.00000000e+00   0.00000000e+00   0.00000000e+00\n",
      "   0.00000000e+00   0.00000000e+00   0.00000000e+00   0.00000000e+00\n",
      "   0.00000000e+00   0.00000000e+00   0.00000000e+00   0.00000000e+00\n",
      "   0.00000000e+00   0.00000000e+00   0.00000000e+00   0.00000000e+00\n",
      "   0.00000000e+00   0.00000000e+00   0.00000000e+00   0.00000000e+00\n",
      "   0.00000000e+00   0.00000000e+00   0.00000000e+00   0.00000000e+00\n",
      "   0.00000000e+00   0.00000000e+00   0.00000000e+00   0.00000000e+00\n",
      "   0.00000000e+00   0.00000000e+00   0.00000000e+00   0.00000000e+00\n",
      "   0.00000000e+00   0.00000000e+00   1.00000000e+00   0.00000000e+00\n",
      "   0.00000000e+00   0.00000000e+00   0.00000000e+00   0.00000000e+00\n",
      "   0.00000000e+00   0.00000000e+00   0.00000000e+00   0.00000000e+00\n",
      "   0.00000000e+00   0.00000000e+00   0.00000000e+00   0.00000000e+00\n",
      "   0.00000000e+00   0.00000000e+00   0.00000000e+00   0.00000000e+00\n",
      "   0.00000000e+00   1.00000000e+00   0.00000000e+00   0.00000000e+00\n",
      "   0.00000000e+00   0.00000000e+00   0.00000000e+00   0.00000000e+00\n",
      "   1.00000000e+00   0.00000000e+00   0.00000000e+00   0.00000000e+00\n",
      "   0.00000000e+00   0.00000000e+00   0.00000000e+00   0.00000000e+00\n",
      "   0.00000000e+00   0.00000000e+00   0.00000000e+00   0.00000000e+00\n",
      "   0.00000000e+00   0.00000000e+00   0.00000000e+00   0.00000000e+00\n",
      "   1.00000000e+00   0.00000000e+00   0.00000000e+00   1.00000000e+00\n",
      "   0.00000000e+00   0.00000000e+00   0.00000000e+00   0.00000000e+00\n",
      "   0.00000000e+00   0.00000000e+00   1.00000000e+00   0.00000000e+00\n",
      "   0.00000000e+00   0.00000000e+00   0.00000000e+00   0.00000000e+00\n",
      "   0.00000000e+00   1.00000000e+00   0.00000000e+00   0.00000000e+00\n",
      "   1.00000000e+00   0.00000000e+00   0.00000000e+00   0.00000000e+00\n",
      "   0.00000000e+00   0.00000000e+00   0.00000000e+00   0.00000000e+00\n",
      "   0.00000000e+00   0.00000000e+00   0.00000000e+00   0.00000000e+00\n",
      "   0.00000000e+00   0.00000000e+00   0.00000000e+00   0.00000000e+00\n",
      "   0.00000000e+00   0.00000000e+00   0.00000000e+00   0.00000000e+00\n",
      "   0.00000000e+00   0.00000000e+00   0.00000000e+00   0.00000000e+00\n",
      "   0.00000000e+00   0.00000000e+00   1.00000000e+00   0.00000000e+00\n",
      "   0.00000000e+00   0.00000000e+00   0.00000000e+00   0.00000000e+00\n",
      "   0.00000000e+00   0.00000000e+00   0.00000000e+00   1.00000000e+00\n",
      "   0.00000000e+00   0.00000000e+00   0.00000000e+00   0.00000000e+00\n",
      "   0.00000000e+00   0.00000000e+00   0.00000000e+00   0.00000000e+00\n",
      "   0.00000000e+00   0.00000000e+00   0.00000000e+00   0.00000000e+00\n",
      "   0.00000000e+00   0.00000000e+00   0.00000000e+00   0.00000000e+00\n",
      "   0.00000000e+00   0.00000000e+00   0.00000000e+00   0.00000000e+00\n",
      "   0.00000000e+00   1.00000000e+00   0.00000000e+00   0.00000000e+00\n",
      "   0.00000000e+00   0.00000000e+00   0.00000000e+00   0.00000000e+00\n",
      "   0.00000000e+00   0.00000000e+00   0.00000000e+00   0.00000000e+00\n",
      "   0.00000000e+00   1.00000000e+00   0.00000000e+00   0.00000000e+00\n",
      "   0.00000000e+00   0.00000000e+00   0.00000000e+00   0.00000000e+00\n",
      "   0.00000000e+00   0.00000000e+00   0.00000000e+00   0.00000000e+00\n",
      "   0.00000000e+00   0.00000000e+00   0.00000000e+00   0.00000000e+00\n",
      "   0.00000000e+00   0.00000000e+00   0.00000000e+00   0.00000000e+00\n",
      "   1.00000000e+00   0.00000000e+00   0.00000000e+00   0.00000000e+00\n",
      "   0.00000000e+00   0.00000000e+00   0.00000000e+00   1.00000000e+00\n",
      "   1.00000000e+00   0.00000000e+00   4.44444444e-01   4.44444444e-01\n",
      "   2.16000000e+02]\n",
      "0.0\n",
      "10\n",
      "[  3.38063000e+01  -1.18363800e+02   3.00000000e+00   0.00000000e+00\n",
      "   2.50000000e+01   2.00000000e+03   1.00000000e+01   4.40000000e+01\n",
      "   1.00000000e+00   0.00000000e+00   0.00000000e+00   0.00000000e+00\n",
      "   0.00000000e+00   0.00000000e+00   0.00000000e+00   0.00000000e+00\n",
      "   0.00000000e+00   0.00000000e+00   0.00000000e+00   0.00000000e+00\n",
      "   0.00000000e+00   0.00000000e+00   0.00000000e+00   0.00000000e+00\n",
      "   0.00000000e+00   0.00000000e+00   0.00000000e+00   0.00000000e+00\n",
      "   0.00000000e+00   0.00000000e+00   0.00000000e+00   0.00000000e+00\n",
      "   0.00000000e+00   0.00000000e+00   0.00000000e+00   1.00000000e+00\n",
      "   0.00000000e+00   0.00000000e+00   0.00000000e+00   0.00000000e+00\n",
      "   0.00000000e+00   0.00000000e+00   0.00000000e+00   0.00000000e+00\n",
      "   0.00000000e+00   0.00000000e+00   0.00000000e+00   0.00000000e+00\n",
      "   0.00000000e+00   0.00000000e+00   0.00000000e+00   0.00000000e+00\n",
      "   0.00000000e+00   0.00000000e+00   0.00000000e+00   0.00000000e+00\n",
      "   0.00000000e+00   0.00000000e+00   0.00000000e+00   0.00000000e+00\n",
      "   0.00000000e+00   0.00000000e+00   0.00000000e+00   0.00000000e+00\n",
      "   0.00000000e+00   0.00000000e+00   0.00000000e+00   0.00000000e+00\n",
      "   0.00000000e+00   1.00000000e+00   0.00000000e+00   0.00000000e+00\n",
      "   0.00000000e+00   0.00000000e+00   0.00000000e+00   0.00000000e+00\n",
      "   1.00000000e+00   0.00000000e+00   0.00000000e+00   0.00000000e+00\n",
      "   0.00000000e+00   0.00000000e+00   0.00000000e+00   0.00000000e+00\n",
      "   0.00000000e+00   0.00000000e+00   0.00000000e+00   0.00000000e+00\n",
      "   0.00000000e+00   0.00000000e+00   0.00000000e+00   0.00000000e+00\n",
      "   0.00000000e+00   1.00000000e+00   0.00000000e+00   0.00000000e+00\n",
      "   1.00000000e+00   0.00000000e+00   0.00000000e+00   0.00000000e+00\n",
      "   1.00000000e+00   0.00000000e+00   0.00000000e+00   0.00000000e+00\n",
      "   0.00000000e+00   0.00000000e+00   0.00000000e+00   0.00000000e+00\n",
      "   1.00000000e+00   0.00000000e+00   0.00000000e+00   0.00000000e+00\n",
      "   1.00000000e+00   0.00000000e+00   0.00000000e+00   0.00000000e+00\n",
      "   0.00000000e+00   0.00000000e+00   0.00000000e+00   0.00000000e+00\n",
      "   0.00000000e+00   0.00000000e+00   0.00000000e+00   0.00000000e+00\n",
      "   0.00000000e+00   0.00000000e+00   0.00000000e+00   0.00000000e+00\n",
      "   0.00000000e+00   0.00000000e+00   0.00000000e+00   0.00000000e+00\n",
      "   0.00000000e+00   0.00000000e+00   0.00000000e+00   0.00000000e+00\n",
      "   0.00000000e+00   0.00000000e+00   1.00000000e+00   0.00000000e+00\n",
      "   0.00000000e+00   0.00000000e+00   0.00000000e+00   0.00000000e+00\n",
      "   0.00000000e+00   0.00000000e+00   0.00000000e+00   0.00000000e+00\n",
      "   0.00000000e+00   0.00000000e+00   0.00000000e+00   0.00000000e+00\n",
      "   0.00000000e+00   0.00000000e+00   1.00000000e+00   0.00000000e+00\n",
      "   0.00000000e+00   0.00000000e+00   0.00000000e+00   0.00000000e+00\n",
      "   0.00000000e+00   0.00000000e+00   0.00000000e+00   0.00000000e+00\n",
      "   0.00000000e+00   0.00000000e+00   0.00000000e+00   0.00000000e+00\n",
      "   0.00000000e+00   0.00000000e+00   1.00000000e+00   0.00000000e+00\n",
      "   0.00000000e+00   0.00000000e+00   0.00000000e+00   0.00000000e+00\n",
      "   0.00000000e+00   0.00000000e+00   0.00000000e+00   0.00000000e+00\n",
      "   0.00000000e+00   0.00000000e+00   0.00000000e+00   0.00000000e+00\n",
      "   0.00000000e+00   1.00000000e+00   0.00000000e+00   0.00000000e+00\n",
      "   0.00000000e+00   0.00000000e+00   0.00000000e+00   0.00000000e+00\n",
      "   0.00000000e+00   0.00000000e+00   0.00000000e+00   0.00000000e+00\n",
      "   0.00000000e+00   0.00000000e+00   0.00000000e+00   1.00000000e+00\n",
      "   0.00000000e+00   0.00000000e+00   0.00000000e+00   0.00000000e+00\n",
      "   0.00000000e+00   0.00000000e+00   0.00000000e+00   1.00000000e+00\n",
      "   0.00000000e+00   0.00000000e+00   4.00000000e-01   4.00000000e-01\n",
      "   1.16000000e+02]\n",
      "0.0\n"
     ]
    }
   ],
   "source": [
    "for x, y in zip(kobe_x.iterrows(),kobe_y['shot_made_flag']):\n",
    "    print x[0]\n",
    "    print x[1].values\n",
    "    print y\n",
    "    if x[0]==10:\n",
    "        break"
   ]
  },
  {
   "cell_type": "code",
   "execution_count": 78,
   "metadata": {
    "collapsed": false
   },
   "outputs": [
    {
     "name": "stderr",
     "output_type": "stream",
     "text": [
      "/Users/apatterson/Envs/kaggles/lib/python2.7/site-packages/ipykernel/__main__.py:1: FutureWarning: sort(columns=....) is deprecated, use sort_values(by=.....)\n",
      "  if __name__ == '__main__':\n"
     ]
    },
    {
     "name": "stdout",
     "output_type": "stream",
     "text": [
      "[24, ['logmodel', LogisticRegression(C=1.0, class_weight=None, dual=False, fit_intercept=True,\n",
      "          intercept_scaling=1, max_iter=100, multi_class='ovr', n_jobs=1,\n",
      "          penalty='l2', random_state=None, solver='liblinear', tol=0.0001,\n",
      "          verbose=0, warm_start=False)], 0.2, 5, 0.9796208968666864, 0.0014429266667051015]\n"
     ]
    }
   ],
   "source": [
    "global_prediction(kobe_x_train,kobe_x_test,kobe_y_train,thresholds,components,models)"
   ]
  },
  {
   "cell_type": "code",
   "execution_count": 79,
   "metadata": {
    "collapsed": false
   },
   "outputs": [
    {
     "name": "stdout",
     "output_type": "stream",
     "text": [
      "[0.00027168670300570279, 0.99999988479111401, 0.00027168670300570279, 0.00058282285795677343, 0.0003448905165769643, 0.0026126205929374014, 0.00027168670300570279, 0.0019051981884677569, 0.99999999999963007, 0.0015013128205368473, 0.0015013128205368473, 0.0015013128205368473, 0.99786844265619012, 0.00047322709779604237, 1.0, 0.00047322709779604237, 0.0019051981884677569, 0.0026126205929374014, 0.99786844265619012, 0.99786844265619012, 0.00027168670300570279, 0.00058282285795677343, 0.996292345069279, 0.0015013128205368473, 0.00027168670300570279, 0.99999999999963007, 0.00027168670300570279, 0.0015013128205368473, 0.9989105772764999, 0.00027168670300570279, 0.99786844265619012, 0.99826876261920738, 0.00027168670300570279, 0.0015013128205368473, 0.996292345069279, 0.0019051981884677569, 0.996292345069279, 0.0003448905165769643, 0.99786844265619012, 0.00027168670300570279, 0.0015013128205368473, 0.0019051981884677569, 0.996292345069279, 0.99826876261920738, 0.99786844265619012, 0.0019051981884677569, 0.00027168670300570279, 0.99999993387019892, 0.99999999999949218, 0.996292345069279, 0.0026126205929374014, 0.9999999999993554, 0.996292345069279, 0.00027168670300570279, 0.0015013128205368473, 0.0015013128205368473, 0.99707721657412096, 0.0015013128205368473, 0.9999999999993554, 0.0026126205929374014, 0.0015013128205368473, 0.99999988479111401, 0.00027168670300570279, 0.99999999999963007, 0.99999988479111401, 0.99786844265619012, 0.0026126205929374014, 0.00047322709779604237, 0.99999990925111093, 0.0015013128205368473, 0.99786844265619012, 0.99999993387019892, 0.0015013128205368473, 0.00027168670300570279, 0.00047322709779604237, 0.0015013128205368473, 0.9999999999993554, 0.0015013128205368473, 0.0019051981884677569, 0.996292345069279, 0.99999993387019892, 0.9999999999993554, 0.0015013128205368473, 0.99826876261920738, 1.0, 0.0015013128205368473, 0.00027168670300570279, 0.0015013128205368473, 0.00027168670300570279, 1.0, 1.0, 0.0015013128205368473, 0.99786844265619012, 0.00027168670300570279, 0.99999994631133204, 0.99826876261920738, 0.9999999999993554, 0.00047322709779604237, 0.0015013128205368473, 0.99786844265619012, 0.9999999999993554, 0.996292345069279, 0.99999988479111401, 0.00027168670300570279, 0.996292345069279, 0.0015013128205368473, 0.00047322709779604237, 0.99999999999981104, 0.0015013128205368473, 0.0015013128205368473, 0.996292345069279, 0.9999999999993554, 0.99786844265619012, 0.0019051981884677569, 0.99999988479111401, 0.996292345069279, 0.99999993387019892, 0.00027168670300570279, 0.99786844265619012, 0.0032160892293096157, 0.99786844265619012, 0.996292345069279, 0.99786844265619012, 0.99786844265619012, 0.0015013128205368473, 0.0019051981884677569, 0.00047322709779604237, 0.0015013128205368473, 0.99786844265619012, 0.99999988479111401, 0.99999993387019892, 0.996292345069279, 0.996292345069279, 0.00027168670300570279, 0.99999988479111401, 0.996292345069279, 0.00027168670300570279, 0.99826876261920738, 0.00027168670300570279, 0.996292345069279, 0.996292345069279, 0.0015013128205368473, 0.00027168670300570279, 0.996292345069279, 0.0015013128205368473, 0.99786844265619012, 0.99786844265619012, 0.99826876261920738, 0.9999999999993554, 0.0015013128205368473, 0.996292345069279, 0.99786844265619012, 0.0026126205929374014, 0.996292345069279, 0.996292345069279, 1.0, 0.0003448905165769643, 0.0026126205929374014, 0.9999999999993554, 0.0015013128205368473, 0.99999999999963007, 0.0015013128205368473, 0.99826876261920738, 0.00027168670300570279, 0.0015013128205368473, 0.996292345069279, 0.00027168670300570279, 0.0015013128205368473, 0.0015013128205368473, 0.9989105772764999, 0.99786844265619012, 0.00027168670300570279, 0.00027168670300570279, 0.9999999999993554, 1.0, 0.0015013128205368473, 0.99999993387019892, 0.00027168670300570279, 0.0015013128205368473, 0.0015013128205368473, 0.996292345069279, 0.0015013128205368473, 0.99707721657412096, 0.99826876261920738, 0.0015013128205368473, 0.0019051981884677569, 0.0015013128205368473, 0.0015013128205368473, 0.00058282285795677343, 0.0015013128205368473, 0.99786844265619012, 0.00058282285795677343, 0.9999999999993554, 0.99786844265619012, 0.0015013128205368473, 0.99786844265619012, 0.0015013128205368473, 0.00027168670300570279, 0.00027168670300570279, 0.99786844265619012, 0.00027168670300570279, 0.0015013128205368473, 0.99826876261920738, 0.99999999999969957, 0.0015013128205368473, 0.99707721657412096, 0.00047322709779604237, 0.00027168670300570279, 0.99786844265619012, 0.0026126205929374014, 0.00027168670300570279, 0.00027168670300570279, 0.00047322709779604237, 0.0015013128205368473, 0.0015013128205368473, 0.99999993387019892, 0.99786844265619012, 0.0019051981884677569, 0.99999988479111401, 0.0015013128205368473, 0.0015013128205368473, 0.99999999999981104, 0.0015013128205368473, 0.0015013128205368473, 0.0015013128205368473, 0.99786844265619012, 0.0015013128205368473, 0.0015013128205368473, 0.99826876261920738, 0.99786844265619012, 0.00027168670300570279, 0.00027168670300570279, 0.0026126205929374014, 0.0015013128205368473, 0.99786844265619012, 0.0015013128205368473, 0.00047322709779604237, 0.00027168670300570279, 0.996292345069279, 0.996292345069279, 0.00027168670300570279, 0.00047322709779604237, 0.0015013128205368473, 1.0, 0.0015013128205368473, 0.00027168670300570279, 0.0015013128205368473, 0.99999990925111093, 0.0015013128205368473, 0.99999988479111401, 0.99999999999963007, 0.99999993387019892, 0.996292345069279, 0.99826876261920738, 0.99999990925111093, 0.996292345069279, 0.00027168670300570279, 0.99786844265619012, 0.0032160892293096157, 1.0, 0.99999999999981104, 0.00027168670300570279, 0.99999996623682219, 0.9999999999993554, 0.0015013128205368473, 0.0015013128205368473, 0.0015013128205368473, 0.00027168670300570279, 0.996292345069279, 1.0, 0.9999999999993554, 0.0015013128205368473, 0.0026126205929374014, 0.99999988479111401, 0.99786844265619012, 0.0015013128205368473, 0.0026126205929374014, 0.996292345069279, 0.99999988479111401, 0.0015013128205368473, 0.99826876261920738, 0.00027168670300570279, 0.00047322709779604237, 0.00027168670300570279, 0.0015013128205368473, 0.0019051981884677569, 0.00047322709779604237, 0.0015013128205368473, 0.00047322709779604237, 0.0015013128205368473, 0.00027168670300570279, 0.0015013128205368473, 0.99999993387019892, 0.0015013128205368473, 0.99999996623682219, 0.0015013128205368473, 0.99999990925111093, 0.00027168670300570279, 0.996292345069279, 0.00027168670300570279, 0.0015013128205368473, 0.0015013128205368473, 0.0015013128205368473, 0.0015013128205368473, 0.0015013128205368473, 0.0019051981884677569, 0.0032160892293096157, 0.9999999999993554, 0.996292345069279, 1.0, 1.0, 0.99999988479111401, 0.996292345069279, 0.0015013128205368473, 0.996292345069279, 0.99786844265619012, 0.00027168670300570279, 0.996292345069279, 0.0015013128205368473, 0.0019051981884677569, 0.0015013128205368473, 0.996292345069279, 0.99999988479111401, 0.0015013128205368473, 0.0026126205929374014, 0.99999988479111401, 0.996292345069279, 0.99999996623682219, 0.99826876261920738, 0.99786844265619012, 0.0015013128205368473, 0.99999988479111401, 0.0015013128205368473, 0.99999988479111401, 0.00027168670300570279, 0.9999999999993554, 0.99786844265619012, 0.99786844265619012, 0.99999990925111093, 0.00047322709779604237, 0.99999988479111401, 0.00027168670300570279, 0.99999994631133204, 0.00047322709779604237, 0.99786844265619012, 0.00027168670300570279, 0.0015013128205368473, 0.99786844265619012, 0.996292345069279, 0.99999999999949218, 0.0015013128205368473, 0.00027168670300570279, 0.0015013128205368473, 0.99707721657412096, 0.99786844265619012, 0.00027168670300570279, 0.996292345069279, 0.99786844265619012, 0.0015013128205368473, 0.0015013128205368473, 0.9999999999993554, 0.0015013128205368473, 0.0015013128205368473, 0.0015013128205368473, 0.0015013128205368473, 0.99999999999969957, 0.99999999999963007, 0.996292345069279, 0.99999988479111401, 0.00027168670300570279, 0.00027168670300570279, 0.996292345069279, 0.99999994631133204, 0.99826876261920738, 0.0015013128205368473, 0.00027168670300570279, 0.0026126205929374014, 0.0026126205929374014, 0.00027168670300570279, 0.0015013128205368473, 0.0015013128205368473, 0.00047322709779604237, 0.0015013128205368473, 0.00047322709779604237, 0.996292345069279, 0.0015013128205368473, 0.0015013128205368473, 0.00027168670300570279, 0.99999999999963007, 0.996292345069279, 0.0026126205929374014, 0.99786844265619012, 0.0015013128205368473, 0.00027168670300570279, 0.0015013128205368473, 0.00027168670300570279, 0.0015013128205368473, 0.0015013128205368473, 1.0, 0.0015013128205368473, 0.0015013128205368473, 0.0015013128205368473, 0.99786844265619012, 0.996292345069279, 0.0015013128205368473, 0.996292345069279, 0.00047322709779604237, 0.0003448905165769643, 0.0015013128205368473, 0.00027168670300570279, 0.0015013128205368473, 0.996292345069279, 0.00027168670300570279, 0.996292345069279, 0.99786844265619012, 0.0015013128205368473, 0.99999988479111401, 0.996292345069279, 0.0015013128205368473, 0.996292345069279, 0.0015013128205368473, 0.996292345069279, 0.99999988479111401, 0.9989105772764999, 0.99707721657412096, 0.996292345069279, 0.0015013128205368473, 0.00027168670300570279, 0.0026126205929374014, 0.0019051981884677569, 0.00027168670300570279, 0.99786844265619012, 0.0015013128205368473, 0.996292345069279, 0.0003448905165769643, 0.99786844265619012, 0.996292345069279, 0.99786844265619012, 0.00027168670300570279, 0.0015013128205368473, 0.996292345069279, 0.99999988479111401, 0.99999988479111401, 0.99786844265619012, 0.99786844265619012, 0.00047322709779604237, 0.99999993387019892, 0.00027168670300570279, 1.0, 0.0015013128205368473, 0.00027168670300570279, 0.0015013128205368473, 0.996292345069279, 0.9999999999993554, 0.99999993387019892, 0.0015013128205368473, 0.0015013128205368473, 0.996292345069279, 0.99999994631133204, 0.996292345069279, 0.0015013128205368473, 0.99786844265619012, 0.996292345069279, 0.99786844265619012, 0.0015013128205368473, 0.00027168670300570279, 0.99999994631133204, 0.996292345069279, 0.00047322709779604237, 0.0026126205929374014, 0.99999999999949218, 0.0015013128205368473, 0.0015013128205368473, 0.99999999999981104, 0.00027168670300570279, 0.99826876261920738, 0.99999988479111401, 0.996292345069279, 0.99999988479111401, 0.00027168670300570279, 0.0015013128205368473, 0.0015013128205368473, 0.99999988479111401, 0.99999993387019892, 0.00027168670300570279, 0.99786844265619012, 0.99826876261920738, 0.99786844265619012, 0.0015013128205368473, 0.996292345069279, 0.99999988479111401, 0.99999988479111401, 0.9989105772764999, 0.00027168670300570279, 0.0019051981884677569, 0.99786844265619012, 0.996292345069279, 0.99999993387019892, 0.0015013128205368473, 0.99999988479111401, 0.996292345069279, 0.00027168670300570279, 0.0015013128205368473, 0.00027168670300570279, 0.0019051981884677569, 0.996292345069279, 0.99999988479111401, 0.99786844265619012, 0.9989105772764999, 0.0015013128205368473, 0.00027168670300570279, 0.00027168670300570279, 0.00027168670300570279, 0.0015013128205368473, 0.0019051981884677569, 0.99999994631133204, 0.99999993387019892, 0.0015013128205368473, 0.996292345069279, 0.996292345069279, 0.0015013128205368473, 0.00027168670300570279, 0.99786844265619012, 0.0015013128205368473, 0.00027168670300570279, 0.0015013128205368473, 0.0015013128205368473, 0.0015013128205368473, 0.00027168670300570279, 0.0015013128205368473, 0.99707721657412096, 0.99707721657412096, 0.99786844265619012, 0.99999990925111093, 0.0015013128205368473, 0.00027168670300570279, 0.00027168670300570279, 0.00027168670300570279, 0.00027168670300570279, 0.0026126205929374014, 0.99999999999963007, 0.99999993387019892, 0.99999994631133204, 0.0015013128205368473, 0.99786844265619012, 0.0015013128205368473, 0.0015013128205368473, 0.0015013128205368473, 0.0015013128205368473, 0.00027168670300570279, 0.00027168670300570279, 0.0019051981884677569, 0.0015013128205368473, 0.99999993387019892, 0.99786844265619012, 0.0015013128205368473, 0.0015013128205368473, 0.0015013128205368473, 0.0015013128205368473, 0.00027168670300570279, 0.0051043906659934248, 0.99707721657412096, 0.00047322709779604237, 0.99999999999981104, 0.0015013128205368473, 0.0015013128205368473, 0.0003448905165769643, 0.00027168670300570279, 0.00027168670300570279, 0.99999988479111401, 0.0015013128205368473, 0.0015013128205368473, 0.0019051981884677569, 0.996292345069279, 0.00027168670300570279, 0.99826876261920738, 0.00027168670300570279, 0.0015013128205368473, 0.99999994631133204, 0.996292345069279, 0.9989105772764999, 0.0015013128205368473, 0.0015013128205368473, 0.0015013128205368473, 0.00027168670300570279, 0.996292345069279, 0.00027168670300570279, 0.0019051981884677569, 0.99999999999969957, 0.99707721657412096, 0.0015013128205368473, 0.00027168670300570279, 0.9989105772764999, 0.996292345069279, 0.996292345069279, 0.99786844265619012, 0.996292345069279, 0.0015013128205368473, 0.00027168670300570279, 0.99786844265619012, 0.00027168670300570279, 0.99786844265619012, 0.0019051981884677569, 0.0015013128205368473, 0.0026126205929374014, 0.9989105772764999, 0.996292345069279, 0.0019051981884677569, 0.99999994631133204, 0.99999999999963007, 0.99826876261920738, 0.99826876261920738, 0.99999988479111401, 0.00047322709779604237, 0.0015013128205368473, 0.0015013128205368473, 0.9999999999993554, 0.0026126205929374014, 0.00027168670300570279, 0.99786844265619012, 0.00027168670300570279, 1.0, 0.0015013128205368473, 1.0, 0.99786844265619012, 0.996292345069279, 0.0015013128205368473, 0.0015013128205368473, 0.00027168670300570279, 0.00027168670300570279, 0.99999988479111401, 0.00027168670300570279, 0.00027168670300570279, 0.99999994631133204, 0.0032160892293096157, 0.00027168670300570279, 0.0026126205929374014, 0.0015013128205368473, 0.00027168670300570279, 0.00027168670300570279, 0.0015013128205368473, 0.0015013128205368473, 0.00027168670300570279, 0.99786844265619012, 0.99707721657412096, 0.0015013128205368473, 0.0026126205929374014, 0.00047322709779604237, 0.0015013128205368473, 0.0019051981884677569, 0.0015013128205368473, 0.00027168670300570279, 0.0015013128205368473, 0.0019051981884677569, 1.0, 0.996292345069279, 0.00027168670300570279, 0.99999988479111401, 0.0019051981884677569, 0.99786844265619012, 0.0015013128205368473, 0.00027168670300570279, 0.0015013128205368473, 0.0015013128205368473, 0.99999988479111401, 0.0026126205929374014, 0.99999988479111401, 0.0015013128205368473, 0.0026126205929374014, 0.00027168670300570279, 0.99826876261920738, 0.00027168670300570279, 0.9989105772764999, 0.00058282285795677343, 0.0019051981884677569, 0.0015013128205368473, 0.0026126205929374014, 0.0015013128205368473, 0.00027168670300570279, 0.996292345069279, 0.00027168670300570279, 0.0015013128205368473, 0.996292345069279, 0.996292345069279, 0.00027168670300570279, 0.00027168670300570279, 0.996292345069279, 0.0015013128205368473, 0.0015013128205368473, 0.99786844265619012, 0.00027168670300570279, 0.00027168670300570279, 0.0032160892293096157, 0.0015013128205368473, 0.00027168670300570279, 0.00027168670300570279, 0.0015013128205368473, 0.99999993387019892, 0.99826876261920738, 0.0019051981884677569, 0.99826876261920738, 0.99786844265619012, 0.00027168670300570279, 0.0032160892293096157, 0.996292345069279, 0.99707721657412096, 0.99786844265619012, 0.99999993387019892, 0.99786844265619012, 0.99999999999949218, 0.99999993387019892, 0.99999988479111401, 0.0015013128205368473, 0.0015013128205368473, 0.0015013128205368473, 0.0015013128205368473, 0.99999993387019892, 0.0032160892293096157, 0.0003448905165769643, 0.00027168670300570279, 0.0015013128205368473, 0.00027168670300570279, 0.0015013128205368473, 0.9999999999993554, 0.0015013128205368473, 0.996292345069279, 0.0015013128205368473, 0.99999990925111093, 0.0015013128205368473, 0.00027168670300570279, 0.0015013128205368473, 0.0015013128205368473, 1.0, 0.9989105772764999, 0.0015013128205368473, 0.0015013128205368473, 0.0019051981884677569, 0.0015013128205368473, 0.99826876261920738, 0.9999999999993554, 0.00027168670300570279, 0.0026126205929374014, 0.996292345069279, 0.996292345069279, 0.99999988479111401, 0.00027168670300570279, 0.0026126205929374014, 0.0019051981884677569, 0.0015013128205368473, 0.0015013128205368473, 0.99786844265619012, 0.996292345069279, 0.00027168670300570279, 0.0015013128205368473, 0.0015013128205368473, 0.996292345069279, 0.0015013128205368473, 0.99999988479111401, 0.99786844265619012, 0.996292345069279, 0.9999999999993554, 0.996292345069279, 0.00047322709779604237, 0.0032160892293096157, 0.99786844265619012, 0.99999993387019892, 0.0026126205929374014, 0.99999988479111401, 0.0015013128205368473, 0.0015013128205368473, 0.99999988479111401, 0.0015013128205368473, 0.0015013128205368473, 0.99999993387019892, 0.00027168670300570279, 0.996292345069279, 0.00047322709779604237, 0.0019051981884677569, 0.99707721657412096, 0.0015013128205368473, 0.0026126205929374014, 0.0015013128205368473, 0.9999999999993554, 0.0015013128205368473, 0.0015013128205368473, 0.0015013128205368473, 0.99999993387019892, 0.00027168670300570279, 0.0015013128205368473, 0.996292345069279, 0.996292345069279, 0.0003448905165769643, 0.0015013128205368473, 0.99826876261920738, 0.996292345069279, 0.0015013128205368473, 0.00027168670300570279, 0.0019051981884677569, 0.996292345069279, 0.99999988479111401, 0.00027168670300570279, 0.00027168670300570279, 0.00027168670300570279, 0.9999999999993554, 0.996292345069279, 0.99826876261920738, 0.996292345069279, 0.996292345069279, 0.00027168670300570279, 0.99786844265619012, 0.9999999999993554, 0.00027168670300570279, 0.00027168670300570279, 0.00047322709779604237, 0.99999996623682219, 0.996292345069279, 0.00027168670300570279, 0.0015013128205368473, 0.0015013128205368473, 0.0015013128205368473, 0.996292345069279, 0.00027168670300570279, 0.99999988479111401, 0.00027168670300570279, 0.996292345069279, 0.9999999999993554, 0.00027168670300570279, 0.0015013128205368473, 0.0003448905165769643, 0.99999988479111401, 0.0019051981884677569, 0.996292345069279, 0.996292345069279, 0.996292345069279, 0.996292345069279, 0.00027168670300570279, 0.0015013128205368473, 0.0019051981884677569, 0.99786844265619012, 1.0, 1.0, 0.9999999999993554, 0.0015013128205368473, 0.0019051981884677569, 0.0015013128205368473, 1.0, 0.996292345069279, 0.996292345069279, 0.9999999999993554, 0.99999993387019892, 0.99786844265619012, 0.0015013128205368473, 0.0003448905165769643, 0.00047322709779604237, 0.996292345069279, 0.00027168670300570279, 0.00027168670300570279, 0.0015013128205368473, 0.0019051981884677569, 0.00027168670300570279, 0.99999996623682219, 0.00047322709779604237, 0.00027168670300570279, 0.99707721657412096, 0.99786844265619012, 0.0015013128205368473, 0.99999993387019892, 0.0015013128205368473, 0.0015013128205368473, 0.99999988479111401, 0.996292345069279, 1.0, 0.0015013128205368473, 0.0019051981884677569, 0.0015013128205368473, 0.99786844265619012, 0.00027168670300570279, 0.0015013128205368473, 0.0026126205929374014, 0.996292345069279, 0.00027168670300570279, 0.00027168670300570279, 0.99786844265619012, 0.99999988479111401, 0.99786844265619012, 0.99826876261920738, 0.00027168670300570279, 0.0015013128205368473, 0.00047322709779604237, 0.99999988479111401, 0.9989105772764999, 0.0015013128205368473, 0.0032160892293096157, 0.0026126205929374014, 0.99786844265619012, 0.00027168670300570279, 0.0015013128205368473, 0.99999993387019892, 0.996292345069279, 0.996292345069279, 1.0, 0.99999990925111093, 0.00027168670300570279, 0.996292345069279, 0.0015013128205368473, 0.00027168670300570279, 0.0015013128205368473, 0.0015013128205368473, 0.99999996623682219, 0.00047322709779604237, 0.996292345069279, 0.0026126205929374014, 0.0019051981884677569, 0.00027168670300570279, 0.0015013128205368473, 0.99826876261920738, 0.996292345069279, 0.99999994631133204, 0.0003448905165769643, 0.0015013128205368473, 0.00047322709779604237, 0.00027168670300570279, 0.0015013128205368473, 0.00027168670300570279, 0.99999988479111401, 0.0015013128205368473, 0.00027168670300570279, 0.0015013128205368473, 0.99999996623682219, 0.0015013128205368473, 0.99707721657412096, 0.0026126205929374014, 0.99707721657412096, 0.0015013128205368473, 0.996292345069279, 0.996292345069279, 0.99707721657412096, 0.996292345069279, 0.00027168670300570279, 0.99826876261920738, 0.00027168670300570279, 0.0015013128205368473, 0.0015013128205368473, 0.996292345069279, 0.0015013128205368473, 0.0015013128205368473, 0.00027168670300570279, 0.99786844265619012, 0.99999993387019892, 0.99999988479111401, 0.0015013128205368473, 0.0015013128205368473, 0.00027168670300570279, 0.99786844265619012, 0.99786844265619012, 0.0015013128205368473, 0.996292345069279, 0.00027168670300570279, 0.99999994631133204, 0.0015013128205368473, 0.00027168670300570279, 0.0015013128205368473, 0.0015013128205368473, 0.0015013128205368473, 0.0015013128205368473, 0.0015013128205368473, 0.00027168670300570279, 0.00047322709779604237, 0.0015013128205368473, 0.0015013128205368473, 0.00058282285795677343, 1.0, 0.0015013128205368473, 0.00027168670300570279, 0.9999999999993554, 0.00027168670300570279, 0.00027168670300570279, 0.0019051981884677569, 0.99999988479111401, 0.996292345069279, 0.0019051981884677569, 0.00047322709779604237, 0.0015013128205368473, 0.0015013128205368473, 0.0015013128205368473, 0.0015013128205368473, 0.996292345069279, 0.99999990925111093, 0.9999999999993554, 0.99999993387019892, 0.0015013128205368473, 0.99999988479111401, 0.00027168670300570279, 0.996292345069279, 0.99786844265619012, 0.0019051981884677569, 0.99786844265619012, 0.0015013128205368473, 0.00027168670300570279, 0.996292345069279, 0.99786844265619012, 0.0015013128205368473, 0.0015013128205368473, 0.99786844265619012, 0.99786844265619012, 0.996292345069279, 0.996292345069279, 0.0019051981884677569, 0.00027168670300570279, 0.99707721657412096, 0.996292345069279, 0.0015013128205368473, 0.99999996623682219, 0.0003448905165769643, 0.99999988479111401, 0.0019051981884677569, 0.00027168670300570279, 0.99999988479111401, 0.0015013128205368473, 0.00027168670300570279, 0.00027168670300570279, 0.00027168670300570279, 0.0003448905165769643, 0.99999999999969957, 0.00027168670300570279, 0.0003448905165769643, 0.00027168670300570279, 0.99999988479111401, 0.996292345069279, 0.00027168670300570279, 0.996292345069279, 0.0051043906659934248, 0.99826876261920738, 0.99999993387019892, 0.9989105772764999, 0.00027168670300570279, 0.99999988479111401, 0.99826876261920738, 0.99999993387019892, 0.99999988479111401, 0.00027168670300570279, 0.00027168670300570279, 0.0015013128205368473, 0.996292345069279, 0.0019051981884677569, 0.00047322709779604237, 0.0015013128205368473, 0.0015013128205368473, 0.0026126205929374014, 0.0015013128205368473, 0.00027168670300570279, 0.99826876261920738, 0.99786844265619012, 0.00027168670300570279, 0.0015013128205368473, 0.00027168670300570279, 0.99826876261920738, 0.996292345069279, 0.996292345069279, 0.9989105772764999, 0.00027168670300570279, 0.0015013128205368473, 0.00092645972672322427, 0.0015013128205368473, 0.99707721657412096, 0.99999993387019892, 0.0015013128205368473, 0.0015013128205368473, 0.0015013128205368473, 0.0026126205929374014, 0.00027168670300570279, 0.99826876261920738, 0.99999999999963007, 0.0015013128205368473, 0.99707721657412096, 0.996292345069279, 0.9989105772764999, 0.0026126205929374014, 0.0015013128205368473, 0.0015013128205368473, 0.99999999999963007, 0.99999993387019892, 0.9989105772764999, 0.996292345069279, 0.0015013128205368473, 0.0026126205929374014, 0.0015013128205368473, 0.0015013128205368473, 0.99999993387019892, 0.0019051981884677569, 0.0015013128205368473, 0.996292345069279, 0.99999999999963007, 0.99786844265619012, 0.99999993387019892, 0.99999988479111401, 0.9989105772764999, 0.0026126205929374014, 0.99999988479111401, 0.996292345069279, 0.99786844265619012, 0.0015013128205368473, 0.0026126205929374014, 0.00027168670300570279, 0.00047322709779604237, 0.996292345069279, 0.00027168670300570279, 0.0015013128205368473, 0.0015013128205368473, 0.0015013128205368473, 0.0026126205929374014, 0.996292345069279, 0.0015013128205368473, 0.9999999999993554, 0.996292345069279, 0.0015013128205368473, 0.00027168670300570279, 0.00027168670300570279, 0.00027168670300570279, 0.9999999999993554, 0.0015013128205368473, 0.99999996623682219, 0.00027168670300570279, 0.0003448905165769643, 0.99826876261920738, 0.99999993387019892, 0.0019051981884677569, 0.99999993387019892, 0.99826876261920738, 0.996292345069279, 0.996292345069279, 0.0015013128205368473, 0.0015013128205368473, 0.0026126205929374014, 0.99999999999969957, 0.99826876261920738, 0.996292345069279, 0.99999988479111401, 0.996292345069279, 0.0003448905165769643, 0.99999994631133204, 0.00027168670300570279, 0.0015013128205368473, 0.00027168670300570279, 0.0019051981884677569, 0.0015013128205368473, 0.00027168670300570279, 0.99707721657412096, 0.0019051981884677569, 0.996292345069279, 0.00027168670300570279, 0.99707721657412096, 0.0015013128205368473, 0.99999999999949218, 0.99999988479111401, 0.996292345069279, 0.0015013128205368473, 0.00027168670300570279, 0.0015013128205368473, 0.0015013128205368473, 0.0015013128205368473, 0.00027168670300570279, 0.0015013128205368473, 0.996292345069279, 0.99786844265619012, 0.00027168670300570279, 0.0026126205929374014, 0.0026126205929374014, 0.99786844265619012, 0.99786844265619012, 0.99786844265619012, 0.99826876261920738, 0.996292345069279, 0.00027168670300570279, 0.0015013128205368473, 0.0015013128205368473, 0.99786844265619012, 0.00047322709779604237, 0.996292345069279, 0.996292345069279, 0.99707721657412096, 1.0, 0.996292345069279, 0.0032160892293096157, 0.99786844265619012, 0.0015013128205368473, 0.00047322709779604237, 0.00027168670300570279, 0.0015013128205368473, 0.00027168670300570279, 0.0032160892293096157, 0.99786844265619012, 0.0015013128205368473, 0.0015013128205368473, 1.0, 0.0003448905165769643, 0.99999988479111401, 0.996292345069279, 0.99707721657412096, 0.0015013128205368473, 0.0051043906659934248, 0.9989105772764999, 0.996292345069279, 1.0, 0.00027168670300570279, 0.0026126205929374014, 0.00027168670300570279, 0.99999993387019892, 0.996292345069279, 0.0015013128205368473, 0.0015013128205368473, 0.0015013128205368473, 0.00027168670300570279, 0.0015013128205368473, 0.99786844265619012, 0.00092645972672322427, 0.99707721657412096, 0.9989105772764999, 0.99786844265619012, 0.00027168670300570279, 0.0015013128205368473, 0.0015013128205368473, 0.00027168670300570279, 0.00027168670300570279, 0.00027168670300570279, 0.996292345069279, 0.0026126205929374014, 0.00027168670300570279, 0.9989105772764999, 0.00027168670300570279, 0.0015013128205368473, 0.0015013128205368473, 0.0015013128205368473, 0.00027168670300570279, 0.0015013128205368473, 0.996292345069279, 0.0026126205929374014, 0.99826876261920738, 0.996292345069279, 0.99999988479111401, 0.99826876261920738, 0.0015013128205368473, 0.0015013128205368473, 0.0003448905165769643, 0.00027168670300570279, 0.0026126205929374014, 0.0015013128205368473, 0.00047322709779604237, 0.0015013128205368473, 0.99999990925111093, 0.996292345069279, 0.0026126205929374014, 0.0015013128205368473, 0.0026126205929374014, 0.0015013128205368473, 0.00027168670300570279, 0.0015013128205368473, 0.00027168670300570279, 0.00027168670300570279, 0.99786844265619012, 0.00027168670300570279, 0.99826876261920738, 0.00027168670300570279, 0.99826876261920738, 0.99999993387019892, 0.996292345069279, 0.0015013128205368473, 0.996292345069279, 0.00027168670300570279, 0.00027168670300570279, 0.996292345069279, 0.0015013128205368473, 0.0015013128205368473, 0.0015013128205368473, 0.0015013128205368473, 0.0015013128205368473, 1.0, 0.996292345069279, 0.00027168670300570279, 0.0015013128205368473, 0.996292345069279, 0.99999988479111401, 0.99786844265619012, 0.996292345069279, 0.99826876261920738, 0.99826876261920738, 0.0015013128205368473, 0.0026126205929374014, 0.00027168670300570279, 0.00047322709779604237, 0.9989105772764999, 0.99999993387019892, 0.0015013128205368473, 0.0019051981884677569, 0.99999999999963007, 0.00027168670300570279, 0.0019051981884677569, 0.0015013128205368473, 0.99999996623682219, 0.99999988479111401, 0.0015013128205368473, 0.00027168670300570279, 0.996292345069279, 0.0015013128205368473, 0.0019051981884677569, 0.0015013128205368473, 0.996292345069279, 0.996292345069279, 0.99786844265619012, 0.0015013128205368473, 1.0, 0.0026126205929374014, 0.0015013128205368473, 0.99786844265619012, 0.996292345069279, 0.996292345069279, 0.0015013128205368473, 0.00027168670300570279, 0.99999988479111401, 0.00027168670300570279, 0.99707721657412096, 0.00027168670300570279, 0.0015013128205368473, 0.0026126205929374014, 0.996292345069279, 0.99786844265619012, 0.0015013128205368473, 0.00027168670300570279, 0.99999993387019892, 0.99707721657412096, 0.99786844265619012, 0.0026126205929374014, 1.0, 0.00058282285795677343, 0.9999999999993554, 0.0015013128205368473, 0.996292345069279, 0.996292345069279, 0.9999999999993554, 0.99999993387019892, 0.0015013128205368473, 0.0015013128205368473, 0.0015013128205368473, 0.00027168670300570279, 0.996292345069279, 0.0015013128205368473, 1.0, 0.00027168670300570279, 0.996292345069279, 0.0015013128205368473, 0.9989105772764999, 0.996292345069279, 0.0015013128205368473, 0.996292345069279, 0.99786844265619012, 0.00047322709779604237, 0.00027168670300570279, 0.0015013128205368473, 0.0015013128205368473, 0.99999988479111401, 0.00047322709779604237, 0.0019051981884677569, 0.00027168670300570279, 0.99999988479111401, 0.996292345069279, 0.99999993387019892, 0.0003448905165769643, 0.00047322709779604237, 0.99999996623682219, 0.00027168670300570279, 0.00027168670300570279, 0.0015013128205368473, 0.99999999999969957, 0.99999988479111401, 0.996292345069279, 0.00027168670300570279, 0.00027168670300570279, 0.00027168670300570279, 0.0015013128205368473, 0.99786844265619012, 0.0015013128205368473, 0.0015013128205368473, 0.99999988479111401, 0.0015013128205368473, 0.0015013128205368473, 0.0015013128205368473, 1.0, 0.00047322709779604237, 0.0015013128205368473, 0.0015013128205368473, 0.0015013128205368473, 0.996292345069279, 0.0015013128205368473, 0.996292345069279, 0.0015013128205368473, 0.99786844265619012, 0.996292345069279, 0.0015013128205368473, 0.99707721657412096, 0.0015013128205368473, 0.0015013128205368473, 0.0015013128205368473, 0.0015013128205368473, 0.00027168670300570279, 0.99826876261920738, 0.00027168670300570279, 0.99786844265619012, 0.99999988479111401, 0.0015013128205368473, 1.0, 0.0015013128205368473, 0.00047322709779604237, 0.99786844265619012, 0.0015013128205368473, 0.0015013128205368473, 0.0015013128205368473, 0.0015013128205368473, 0.99999988479111401, 0.9989105772764999, 0.0015013128205368473, 0.99999993387019892, 0.99786844265619012, 0.99826876261920738, 0.99999993387019892, 1.0, 0.0015013128205368473, 0.996292345069279, 0.0015013128205368473, 0.996292345069279, 0.99999988479111401, 0.99707721657412096, 0.99999994631133204, 0.99786844265619012, 0.0015013128205368473, 0.0015013128205368473, 0.0015013128205368473, 0.99999988479111401, 0.99786844265619012, 0.99786844265619012, 0.99999990925111093, 0.99786844265619012, 0.00058282285795677343, 0.99786844265619012, 0.99999993387019892, 0.99786844265619012, 0.0003448905165769643, 0.00027168670300570279, 0.0026126205929374014, 0.996292345069279, 0.0015013128205368473, 0.99826876261920738, 0.00027168670300570279, 0.0015013128205368473, 0.0003448905165769643, 0.996292345069279, 0.99999988479111401, 0.0015013128205368473, 0.0019051981884677569, 0.00027168670300570279, 0.99826876261920738, 0.0026126205929374014, 0.0015013128205368473, 0.996292345069279, 0.996292345069279, 0.0015013128205368473, 0.996292345069279, 0.99999988479111401, 0.0019051981884677569, 0.00027168670300570279, 0.0019051981884677569, 0.0015013128205368473, 0.0019051981884677569, 0.0015013128205368473, 0.99786844265619012, 0.0015013128205368473, 0.00027168670300570279, 0.00027168670300570279, 0.99786844265619012, 0.996292345069279, 0.0003448905165769643, 0.00027168670300570279, 0.0026126205929374014, 0.9989105772764999, 0.0015013128205368473, 0.9989105772764999, 0.0015013128205368473, 0.996292345069279, 0.996292345069279, 0.99707721657412096, 0.99999999999969957, 0.99786844265619012, 0.0026126205929374014, 0.0015013128205368473, 0.00047322709779604237, 0.996292345069279, 0.0015013128205368473, 0.996292345069279, 1.0, 0.99707721657412096, 0.0015013128205368473, 0.0015013128205368473, 0.00027168670300570279, 0.0015013128205368473, 0.99786844265619012, 0.0015013128205368473, 0.99826876261920738, 0.0015013128205368473, 0.0015013128205368473, 0.9999999999993554, 0.996292345069279, 0.00027168670300570279, 0.99999994631133204, 0.00027168670300570279, 0.00027168670300570279, 0.996292345069279, 0.0015013128205368473, 0.99707721657412096, 0.99999993387019892, 1.0, 0.0019051981884677569, 0.99786844265619012, 0.99826876261920738, 0.99999988479111401, 0.99707721657412096, 0.99999996623682219, 0.996292345069279, 0.996292345069279, 0.0015013128205368473, 0.99826876261920738, 0.0026126205929374014, 0.996292345069279, 0.00027168670300570279, 0.996292345069279, 0.0015013128205368473, 0.00027168670300570279, 0.0015013128205368473, 0.0015013128205368473, 0.0015013128205368473, 0.0015013128205368473, 0.0015013128205368473, 0.99999988479111401, 0.0032160892293096157, 0.996292345069279, 0.00027168670300570279, 0.00027168670300570279, 0.996292345069279, 0.0015013128205368473, 0.0015013128205368473, 0.00027168670300570279, 0.00027168670300570279, 0.00027168670300570279, 0.0015013128205368473, 0.99826876261920738, 0.99999993387019892, 0.00027168670300570279, 0.99786844265619012, 0.0015013128205368473, 0.99999994631133204, 0.0015013128205368473, 0.00027168670300570279, 0.99786844265619012, 0.99999993387019892, 0.0015013128205368473, 0.0015013128205368473, 0.99999988479111401, 0.00027168670300570279, 0.996292345069279, 0.00027168670300570279, 0.0015013128205368473, 0.00027168670300570279, 0.99999990925111093, 0.00027168670300570279, 0.99786844265619012, 0.99999990925111093, 0.996292345069279, 0.0015013128205368473, 0.00027168670300570279, 0.0026126205929374014, 0.00027168670300570279, 0.0019051981884677569, 0.99826876261920738, 0.00027168670300570279, 0.99999988479111401, 0.0015013128205368473, 0.0015013128205368473, 0.99786844265619012, 0.00027168670300570279, 0.99826876261920738, 0.996292345069279, 0.99786844265619012, 0.00027168670300570279, 0.00027168670300570279, 0.99999996623682219, 0.996292345069279, 0.00027168670300570279, 0.99786844265619012, 0.00027168670300570279, 0.996292345069279, 0.0019051981884677569, 0.996292345069279, 0.00058282285795677343, 0.0015013128205368473, 0.00027168670300570279, 0.00027168670300570279, 0.0026126205929374014, 0.0015013128205368473, 0.0015013128205368473, 0.9999999999993554, 0.0015013128205368473, 0.996292345069279, 0.0015013128205368473, 0.00027168670300570279, 0.00027168670300570279, 0.00047322709779604237, 0.00027168670300570279, 0.99826876261920738, 0.0019051981884677569, 0.9989105772764999, 0.0015013128205368473, 0.0015013128205368473, 0.00027168670300570279, 0.99999988479111401, 0.00027168670300570279, 0.996292345069279, 0.0026126205929374014, 0.00027168670300570279, 0.996292345069279, 0.0015013128205368473, 0.0015013128205368473, 0.0015013128205368473, 0.99786844265619012, 0.0003448905165769643, 0.99999993387019892, 0.0015013128205368473, 0.996292345069279, 0.00047322709779604237, 0.0026126205929374014, 0.0015013128205368473, 0.996292345069279, 0.00027168670300570279, 0.9999999999993554, 0.0015013128205368473, 0.0015013128205368473, 0.00092645972672322427, 0.00027168670300570279, 0.0015013128205368473, 0.0015013128205368473, 0.00027168670300570279, 0.0015013128205368473, 0.0026126205929374014, 0.00027168670300570279, 0.99786844265619012, 0.99999988479111401, 0.99999988479111401, 0.00047322709779604237, 0.99786844265619012, 0.0015013128205368473, 0.00027168670300570279, 0.996292345069279, 0.0015013128205368473, 0.99999988479111401, 0.0015013128205368473, 0.99999999999949218, 0.0015013128205368473, 0.00027168670300570279, 0.996292345069279, 0.996292345069279, 0.00027168670300570279, 0.99999993387019892, 0.99999993387019892, 0.99999988479111401, 0.0026126205929374014, 0.996292345069279, 0.0019051981884677569, 0.00047322709779604237, 0.0015013128205368473, 0.0015013128205368473, 0.00027168670300570279, 0.99786844265619012, 0.0015013128205368473, 0.0019051981884677569, 0.0015013128205368473, 0.99826876261920738, 0.00027168670300570279, 0.99707721657412096, 0.0019051981884677569, 0.00027168670300570279, 0.00027168670300570279, 0.0015013128205368473, 0.99786844265619012, 0.00027168670300570279, 0.0015013128205368473, 0.0003448905165769643, 0.00027168670300570279, 0.996292345069279, 0.0015013128205368473, 0.99999993387019892, 0.00027168670300570279, 0.00027168670300570279, 0.0015013128205368473, 0.9999999999993554, 0.996292345069279, 0.996292345069279, 0.99826876261920738, 0.996292345069279, 0.99999996623682219, 0.0015013128205368473, 0.0026126205929374014, 0.996292345069279, 0.0026126205929374014, 0.99999994631133204, 0.00027168670300570279, 0.996292345069279, 0.00027168670300570279, 0.00027168670300570279, 0.0015013128205368473, 0.0015013128205368473, 0.996292345069279, 0.0015013128205368473, 0.99786844265619012, 0.0015013128205368473, 0.99999996623682219, 0.99786844265619012, 0.996292345069279, 0.00027168670300570279, 0.00058282285795677343, 0.99999999999949218, 0.996292345069279, 0.0015013128205368473, 0.996292345069279, 0.0003448905165769643, 1.0, 0.00027168670300570279, 0.99786844265619012, 0.0015013128205368473, 0.996292345069279, 0.00027168670300570279, 0.0015013128205368473, 0.0026126205929374014, 0.00027168670300570279, 0.996292345069279, 0.99786844265619012, 0.0015013128205368473, 0.9989105772764999, 0.99786844265619012, 0.996292345069279, 0.0026126205929374014, 0.99999993387019892, 1.0, 0.00027168670300570279, 0.0015013128205368473, 0.99786844265619012, 0.996292345069279, 0.99786844265619012, 0.00027168670300570279, 0.00047322709779604237, 0.00027168670300570279, 0.00027168670300570279, 0.99999999999963007, 0.996292345069279, 0.9989105772764999, 0.0015013128205368473, 0.0015013128205368473, 0.0015013128205368473, 0.99999999999963007, 0.00027168670300570279, 0.0015013128205368473, 0.9999999999993554, 0.00047322709779604237, 0.0015013128205368473, 0.0015013128205368473, 1.0, 0.99826876261920738, 0.99999994631133204, 0.0015013128205368473, 0.0015013128205368473, 0.00027168670300570279, 0.99786844265619012, 0.0026126205929374014, 0.00047322709779604237, 0.996292345069279, 0.00027168670300570279, 0.99999988479111401, 0.996292345069279, 0.9989105772764999, 0.99786844265619012, 0.0015013128205368473, 0.0026126205929374014, 0.0015013128205368473, 0.0019051981884677569, 0.996292345069279, 0.99999988479111401, 0.00027168670300570279, 0.0015013128205368473, 0.0026126205929374014, 0.00027168670300570279, 0.0019051981884677569, 0.99826876261920738, 0.99826876261920738, 0.0015013128205368473, 0.0019051981884677569, 0.0015013128205368473, 0.0015013128205368473, 0.0015013128205368473, 0.99999994631133204, 0.0015013128205368473, 0.996292345069279, 0.99999988479111401, 0.0015013128205368473, 0.00058282285795677343, 0.996292345069279, 0.00027168670300570279, 0.00027168670300570279, 0.996292345069279, 0.99999999999963007, 0.99826876261920738, 0.99786844265619012, 0.0015013128205368473, 0.99786844265619012, 0.99786844265619012, 0.0015013128205368473, 0.0015013128205368473, 0.99826876261920738, 0.00027168670300570279, 0.0015013128205368473, 0.99999999999963007, 0.99999999999969957, 0.99826876261920738, 0.00058282285795677343, 0.0003448905165769643, 0.0015013128205368473, 0.0015013128205368473, 0.0015013128205368473, 0.0015013128205368473, 0.0015013128205368473, 0.99786844265619012, 0.9989105772764999, 0.0015013128205368473, 0.99999994631133204, 0.9989105772764999, 0.99826876261920738, 0.99999993387019892, 0.0019051981884677569, 0.9999999999993554, 0.99786844265619012, 0.00047322709779604237, 0.99999993387019892, 0.00027168670300570279, 0.0003448905165769643, 0.99707721657412096, 0.00027168670300570279, 0.00027168670300570279, 0.0015013128205368473, 0.00047322709779604237, 0.00027168670300570279, 0.00027168670300570279, 0.0026126205929374014, 0.00027168670300570279, 0.0015013128205368473, 1.0, 0.99999993387019892, 0.0015013128205368473, 0.0015013128205368473, 0.0026126205929374014, 0.0015013128205368473, 0.0015013128205368473, 0.00027168670300570279, 0.996292345069279, 0.0015013128205368473, 0.00047322709779604237, 0.0015013128205368473, 0.00027168670300570279, 0.996292345069279, 0.99999988479111401, 0.00047322709779604237, 0.0015013128205368473, 0.9989105772764999, 0.99999988479111401, 0.99999999999981104, 0.0015013128205368473, 0.99786844265619012, 0.00027168670300570279, 0.00047322709779604237, 0.0015013128205368473, 0.00027168670300570279, 0.0015013128205368473, 0.0015013128205368473, 0.0026126205929374014, 0.0019051981884677569, 0.99999993387019892, 0.996292345069279, 0.0015013128205368473, 0.00047322709779604237, 0.996292345069279, 0.0015013128205368473, 0.99999988479111401, 0.0015013128205368473, 0.9999999999993554, 0.00027168670300570279, 0.9989105772764999, 0.0015013128205368473, 0.00027168670300570279, 0.996292345069279, 0.0015013128205368473, 0.99786844265619012, 0.996292345069279, 0.99786844265619012, 0.99999988479111401, 0.996292345069279, 0.00027168670300570279, 0.996292345069279, 0.99707721657412096, 0.99786844265619012, 0.99999993387019892, 0.0015013128205368473, 0.99999988479111401, 0.99999988479111401, 0.0032160892293096157, 0.0015013128205368473, 0.99999990925111093, 0.0015013128205368473, 0.996292345069279, 0.00047322709779604237, 0.0015013128205368473, 0.00027168670300570279, 0.996292345069279, 0.0003448905165769643, 0.0015013128205368473, 0.0015013128205368473, 0.0015013128205368473, 0.0015013128205368473, 0.99786844265619012, 0.99826876261920738, 0.00047322709779604237, 0.0015013128205368473, 0.0026126205929374014, 0.99786844265619012, 0.99786844265619012, 0.00027168670300570279, 0.0015013128205368473, 0.996292345069279, 0.996292345069279, 0.00027168670300570279, 0.99786844265619012, 0.0026126205929374014, 0.00027168670300570279, 0.00047322709779604237, 0.99999994631133204, 0.00027168670300570279, 0.0015013128205368473, 0.99999988479111401, 0.00027168670300570279, 0.99786844265619012, 0.99786844265619012, 0.9989105772764999, 0.996292345069279, 1.0, 0.99999999999981104, 0.99786844265619012, 0.00027168670300570279, 0.00027168670300570279, 0.00027168670300570279, 0.0015013128205368473, 0.99786844265619012, 1.0, 0.0015013128205368473, 0.00027168670300570279, 0.99999996623682219, 0.0015013128205368473, 0.00027168670300570279, 0.0015013128205368473, 0.0026126205929374014, 0.9989105772764999, 0.99707721657412096, 0.99786844265619012, 0.9989105772764999, 0.9989105772764999, 0.99999988479111401, 0.99999988479111401, 0.0015013128205368473, 0.0003448905165769643, 0.99826876261920738, 0.99707721657412096, 0.00047322709779604237, 0.996292345069279, 0.0015013128205368473, 0.0015013128205368473, 0.99999988479111401, 0.00027168670300570279, 0.0015013128205368473, 0.996292345069279, 0.00027168670300570279, 0.00027168670300570279, 0.00027168670300570279, 0.00027168670300570279, 0.00027168670300570279, 0.99999988479111401, 0.99786844265619012, 0.00027168670300570279, 0.99786844265619012, 0.00027168670300570279, 0.99999993387019892, 0.0015013128205368473, 0.99999993387019892, 0.0015013128205368473, 0.0015013128205368473, 0.99707721657412096, 0.9999999999993554, 0.0015013128205368473, 0.0015013128205368473, 0.0015013128205368473, 0.0019051981884677569, 0.0015013128205368473, 0.0015013128205368473, 0.00027168670300570279, 0.99786844265619012, 0.00027168670300570279, 0.0015013128205368473, 0.0015013128205368473, 0.99786844265619012, 0.0015013128205368473, 0.99826876261920738, 0.0015013128205368473, 0.0015013128205368473, 0.99786844265619012, 0.00027168670300570279, 0.0015013128205368473, 0.0015013128205368473, 0.00058282285795677343, 0.99786844265619012, 0.0026126205929374014, 0.99999993387019892, 0.0015013128205368473, 0.99999993387019892, 0.996292345069279, 0.0015013128205368473, 0.9989105772764999, 0.00047322709779604237, 0.00027168670300570279, 0.996292345069279, 0.99999988479111401, 0.99999988479111401, 0.00027168670300570279, 0.99786844265619012, 0.0015013128205368473, 0.00027168670300570279, 0.99999990925111093, 0.0015013128205368473, 0.00027168670300570279, 0.0026126205929374014, 0.00027168670300570279, 0.99786844265619012, 0.0015013128205368473, 0.00027168670300570279, 0.99999993387019892, 0.00027168670300570279, 0.0015013128205368473, 0.00027168670300570279, 0.99999999999963007, 0.99999999999963007, 0.9989105772764999, 0.00027168670300570279, 0.996292345069279, 0.99786844265619012, 0.9989105772764999, 0.0015013128205368473, 0.99707721657412096, 0.0015013128205368473, 0.00027168670300570279, 0.9999999999993554, 0.99786844265619012, 0.0015013128205368473, 0.00027168670300570279, 0.0026126205929374014, 0.99999993387019892, 0.99707721657412096, 0.0015013128205368473, 0.00027168670300570279, 0.00027168670300570279, 0.99786844265619012, 0.9999999999993554, 0.99786844265619012, 0.9989105772764999, 0.0026126205929374014, 0.00027168670300570279, 0.00027168670300570279, 0.99999994631133204, 0.99999988479111401, 0.99786844265619012, 0.9999999999993554, 0.0026126205929374014, 0.0015013128205368473, 0.99999993387019892, 0.9989105772764999, 0.0015013128205368473, 0.0015013128205368473, 0.99999988479111401, 0.0026126205929374014, 0.0015013128205368473, 0.00027168670300570279, 0.00027168670300570279, 0.00027168670300570279, 0.0015013128205368473, 0.0015013128205368473, 0.00027168670300570279, 0.00047322709779604237, 0.00058282285795677343, 0.0015013128205368473, 0.99826876261920738, 0.00027168670300570279, 0.0003448905165769643, 0.0015013128205368473, 0.99999994631133204, 0.99786844265619012, 0.0015013128205368473, 0.99999988479111401, 0.0015013128205368473, 0.996292345069279, 0.996292345069279, 0.99999988479111401, 0.996292345069279, 0.0015013128205368473, 0.0019051981884677569, 0.99999993387019892, 0.0003448905165769643, 0.99786844265619012, 0.0015013128205368473, 0.0015013128205368473, 0.0015013128205368473, 0.0015013128205368473, 0.9989105772764999, 0.996292345069279, 0.0032160892293096157, 0.99707721657412096, 0.0015013128205368473, 0.0019051981884677569, 0.99707721657412096, 0.00047322709779604237, 0.99826876261920738, 0.00027168670300570279, 0.996292345069279, 0.996292345069279, 0.00027168670300570279, 0.996292345069279, 0.99786844265619012, 0.99786844265619012, 0.99786844265619012, 0.99786844265619012, 0.0015013128205368473, 0.00027168670300570279, 0.99826876261920738, 0.99826876261920738, 0.0015013128205368473, 0.99999990925111093, 0.99999993387019892, 0.0026126205929374014, 0.0026126205929374014, 0.99999993387019892, 0.0015013128205368473, 0.99826876261920738, 0.99999990925111093, 0.0015013128205368473, 0.0015013128205368473, 0.00027168670300570279, 0.996292345069279, 0.996292345069279, 0.0015013128205368473, 0.00027168670300570279, 0.9989105772764999, 0.99999988479111401, 0.0015013128205368473, 0.9989105772764999, 0.00027168670300570279, 0.99786844265619012, 0.0015013128205368473, 0.00027168670300570279, 1.0, 0.0019051981884677569, 0.0015013128205368473, 0.99826876261920738, 0.99999993387019892, 0.99999988479111401, 0.00027168670300570279, 0.0003448905165769643, 1.0, 0.0015013128205368473, 0.0015013128205368473, 0.00027168670300570279, 0.0003448905165769643, 0.9989105772764999, 0.00027168670300570279, 0.0019051981884677569, 0.0015013128205368473, 0.996292345069279, 0.00027168670300570279, 0.00027168670300570279, 0.0015013128205368473, 0.00027168670300570279, 0.9999999999993554, 0.99826876261920738, 0.99999988479111401, 0.996292345069279, 0.996292345069279, 0.99999988479111401, 0.99999988479111401, 0.996292345069279, 0.0032160892293096157, 0.0019051981884677569, 0.0015013128205368473, 0.0015013128205368473, 0.99999996623682219, 0.0019051981884677569, 0.00027168670300570279, 0.0019051981884677569, 0.0015013128205368473, 0.99999993387019892, 0.0015013128205368473, 0.0019051981884677569, 0.0015013128205368473, 0.99786844265619012, 0.99999999999969957, 0.0015013128205368473, 0.0026126205929374014, 0.99999993387019892, 0.0015013128205368473, 0.9989105772764999, 0.00047322709779604237, 0.0019051981884677569, 0.0015013128205368473, 1.0, 0.9999999999993554, 0.0003448905165769643, 0.0026126205929374014, 0.0015013128205368473, 0.0015013128205368473, 0.99826876261920738, 0.0015013128205368473, 0.0019051981884677569, 0.0015013128205368473, 0.00027168670300570279, 0.0015013128205368473, 0.00058282285795677343, 0.0026126205929374014, 0.0015013128205368473, 0.99999999999963007, 0.00047322709779604237, 0.0015013128205368473, 0.00047322709779604237, 0.996292345069279, 0.00027168670300570279, 0.99786844265619012, 0.9989105772764999, 0.996292345069279, 0.00027168670300570279, 0.99999988479111401, 0.0015013128205368473, 0.0015013128205368473, 0.0015013128205368473, 0.0015013128205368473, 0.0015013128205368473, 0.99999988479111401, 0.99999988479111401, 0.996292345069279, 0.996292345069279, 0.0015013128205368473, 0.996292345069279, 0.0015013128205368473, 0.99999999999981104, 0.99826876261920738, 0.9999999999993554, 1.0, 0.0015013128205368473, 0.00027168670300570279, 0.0026126205929374014, 0.0015013128205368473, 0.996292345069279, 0.996292345069279, 0.0015013128205368473, 0.99826876261920738, 0.0015013128205368473, 0.99999993387019892, 0.00027168670300570279, 0.996292345069279, 0.99999988479111401, 0.0015013128205368473, 0.99786844265619012, 0.9999999999993554, 0.99999988479111401, 0.00047322709779604237, 0.996292345069279, 0.0019051981884677569, 0.996292345069279, 0.0015013128205368473, 0.0015013128205368473, 0.99826876261920738, 0.0026126205929374014, 0.00047322709779604237, 0.9999999999993554, 0.0015013128205368473, 0.99826876261920738, 0.0015013128205368473, 0.00027168670300570279, 0.99826876261920738, 0.996292345069279, 0.99786844265619012, 0.0015013128205368473, 0.99999999999963007, 0.0015013128205368473, 0.9999999999993554, 0.9989105772764999, 0.0015013128205368473, 0.0019051981884677569, 0.00027168670300570279, 0.99786844265619012, 0.996292345069279, 0.0019051981884677569, 0.00027168670300570279, 0.99999999999963007, 0.00027168670300570279, 0.0015013128205368473, 0.0015013128205368473, 0.0015013128205368473, 0.00027168670300570279, 0.99786844265619012, 0.99999988479111401, 0.00027168670300570279, 0.996292345069279, 0.0015013128205368473, 0.00058282285795677343, 0.00027168670300570279, 0.00027168670300570279, 0.9999999999993554, 0.0015013128205368473, 0.99786844265619012, 0.0015013128205368473, 0.0003448905165769643, 0.0015013128205368473, 0.00027168670300570279, 0.0015013128205368473, 0.0019051981884677569, 0.0015013128205368473, 0.996292345069279, 0.99999988479111401, 0.99999988479111401, 0.99786844265619012, 0.996292345069279, 0.00027168670300570279, 0.99999988479111401, 1.0, 0.99786844265619012, 0.0032160892293096157, 0.0015013128205368473, 0.0015013128205368473, 0.0015013128205368473, 0.99786844265619012, 0.996292345069279, 0.00047322709779604237, 1.0, 0.99999988479111401, 0.9989105772764999, 0.0015013128205368473, 0.00027168670300570279, 0.0015013128205368473, 0.99999993387019892, 0.996292345069279, 0.996292345069279, 0.0015013128205368473, 0.0015013128205368473, 0.00027168670300570279, 0.00027168670300570279, 0.9999999999993554, 0.00027168670300570279, 0.99786844265619012, 0.00027168670300570279, 0.996292345069279, 0.99999993387019892, 0.99999993387019892, 0.00027168670300570279, 0.0015013128205368473, 0.0019051981884677569, 0.0026126205929374014, 0.0015013128205368473, 0.0015013128205368473, 0.0015013128205368473, 0.996292345069279, 0.0015013128205368473, 0.00027168670300570279, 0.99999990925111093, 0.0015013128205368473, 1.0, 0.99999994631133204, 0.99999988479111401, 0.00027168670300570279, 0.99999994631133204, 0.99999996623682219, 0.9989105772764999, 0.0032160892293096157, 0.9989105772764999, 0.99786844265619012, 0.0019051981884677569, 0.9989105772764999, 0.99786844265619012, 0.99707721657412096, 0.99826876261920738, 0.99999999999969957, 0.0015013128205368473, 0.00027168670300570279, 0.0015013128205368473, 0.0015013128205368473, 0.00027168670300570279, 0.996292345069279, 0.996292345069279, 0.00027168670300570279, 0.0015013128205368473, 0.0015013128205368473, 0.996292345069279, 0.00027168670300570279, 0.0015013128205368473, 0.996292345069279, 0.99999988479111401, 0.996292345069279, 0.00027168670300570279, 0.996292345069279, 0.00027168670300570279, 0.0015013128205368473, 0.99999999999963007, 0.00027168670300570279, 0.0015013128205368473, 0.996292345069279, 0.0026126205929374014, 0.00027168670300570279, 0.0015013128205368473, 0.0015013128205368473, 0.0015013128205368473, 0.99826876261920738, 0.0015013128205368473, 0.99999988479111401, 0.00027168670300570279, 0.99999988479111401, 0.0015013128205368473, 0.99999993387019892, 0.00027168670300570279, 0.0015013128205368473, 0.99786844265619012, 0.0003448905165769643, 0.0019051981884677569, 0.9999999999993554, 0.0015013128205368473, 0.00027168670300570279, 0.996292345069279, 0.99786844265619012, 0.996292345069279, 0.99999988479111401, 0.99999990925111093, 0.0015013128205368473, 0.0003448905165769643, 0.9989105772764999, 0.0015013128205368473, 0.0019051981884677569, 0.00027168670300570279, 0.0015013128205368473, 0.99786844265619012, 0.99786844265619012, 1.0, 0.99999993387019892, 0.99786844265619012, 0.0015013128205368473, 0.99786844265619012, 0.99999988479111401, 0.0026126205929374014, 0.00047322709779604237, 0.99999988479111401, 0.996292345069279, 0.99999988479111401, 0.9989105772764999, 0.0015013128205368473, 0.0015013128205368473, 0.0015013128205368473, 0.00027168670300570279, 0.996292345069279, 0.0003448905165769643, 0.996292345069279, 0.00027168670300570279, 0.0015013128205368473, 0.0015013128205368473, 0.99786844265619012, 0.0015013128205368473, 0.996292345069279, 0.0003448905165769643, 0.0015013128205368473, 0.00027168670300570279, 0.99999993387019892, 0.0015013128205368473, 0.99786844265619012, 0.0019051981884677569, 0.99999999999963007, 0.0015013128205368473, 0.99999993387019892, 0.996292345069279, 0.0015013128205368473, 0.0015013128205368473, 0.99826876261920738, 0.99786844265619012, 0.00027168670300570279, 0.996292345069279, 0.99999999999981104, 0.0015013128205368473, 0.99999988479111401, 0.99786844265619012, 0.0019051981884677569, 0.00027168670300570279, 0.0019051981884677569, 0.0015013128205368473, 0.00047322709779604237, 0.99786844265619012, 0.996292345069279, 0.00027168670300570279, 0.99999993387019892, 0.0015013128205368473, 0.996292345069279, 0.0015013128205368473, 0.0019051981884677569, 0.99999999999963007, 0.99707721657412096, 0.00027168670300570279, 0.0015013128205368473, 0.99707721657412096, 0.996292345069279, 1.0, 0.0026126205929374014, 1.0, 0.0026126205929374014, 0.0015013128205368473, 0.0015013128205368473, 0.99786844265619012, 0.00027168670300570279, 0.99707721657412096, 0.0032160892293096157, 0.99999993387019892, 0.996292345069279, 0.996292345069279, 0.99999993387019892, 0.0015013128205368473, 0.99707721657412096, 0.0003448905165769643, 0.996292345069279, 0.99786844265619012, 0.99999988479111401, 0.0003448905165769643, 0.00027168670300570279, 0.99707721657412096, 0.99786844265619012, 0.0015013128205368473, 0.0015013128205368473, 0.00027168670300570279, 0.0015013128205368473, 0.99786844265619012, 0.0015013128205368473, 0.0051043906659934248, 0.99999993387019892, 0.996292345069279, 0.00027168670300570279, 0.0015013128205368473, 0.0015013128205368473, 0.0015013128205368473, 0.99707721657412096, 0.996292345069279, 0.00027168670300570279, 0.0015013128205368473, 0.0015013128205368473, 0.00027168670300570279, 0.99786844265619012, 0.00047322709779604237, 0.99999988479111401, 0.99826876261920738, 0.00027168670300570279, 1.0, 0.996292345069279, 0.99999988479111401, 0.99826876261920738, 0.00047322709779604237, 0.00027168670300570279, 0.996292345069279, 1.0, 0.00027168670300570279, 0.99786844265619012, 0.996292345069279, 0.0015013128205368473, 0.996292345069279, 0.00027168670300570279, 0.9999999999993554, 0.99826876261920738, 0.00027168670300570279, 0.99826876261920738, 0.0015013128205368473, 0.00027168670300570279, 0.0015013128205368473, 0.0026126205929374014, 0.0015013128205368473, 0.0015013128205368473, 0.0019051981884677569, 0.99999993387019892, 0.0015013128205368473, 0.00027168670300570279, 0.0015013128205368473, 0.0015013128205368473, 0.0015013128205368473, 0.0015013128205368473, 0.00027168670300570279, 0.0026126205929374014, 0.0015013128205368473, 0.0015013128205368473, 0.00027168670300570279, 0.00027168670300570279, 0.99999999999949218, 0.00027168670300570279, 0.99999993387019892, 0.0003448905165769643, 0.99786844265619012, 0.0026126205929374014, 0.996292345069279, 0.99707721657412096, 0.0015013128205368473, 0.0026126205929374014, 0.996292345069279, 0.0015013128205368473, 0.0015013128205368473, 0.0015013128205368473, 0.996292345069279, 0.99786844265619012, 0.996292345069279, 0.00027168670300570279, 0.00027168670300570279, 0.0026126205929374014, 0.00027168670300570279, 0.996292345069279, 0.0015013128205368473, 0.0015013128205368473, 0.996292345069279, 0.00027168670300570279, 0.00027168670300570279, 0.99786844265619012, 0.0015013128205368473, 0.99707721657412096, 0.996292345069279, 0.00027168670300570279, 0.99707721657412096, 0.0015013128205368473, 0.99707721657412096, 0.996292345069279, 0.996292345069279, 0.0026126205929374014, 0.996292345069279, 0.0015013128205368473, 0.99999993387019892, 0.0015013128205368473, 0.0026126205929374014, 0.00047322709779604237, 0.99786844265619012, 0.99786844265619012, 0.99786844265619012, 0.996292345069279, 0.00027168670300570279, 0.996292345069279, 0.99786844265619012, 0.99999988479111401, 0.0015013128205368473, 0.0026126205929374014, 0.0026126205929374014, 0.00047322709779604237, 0.996292345069279, 0.0015013128205368473, 0.0015013128205368473, 0.00027168670300570279, 0.0019051981884677569, 0.0019051981884677569, 0.00027168670300570279, 0.99999990925111093, 0.99999996623682219, 0.99999994631133204, 0.99786844265619012, 0.99786844265619012, 0.99786844265619012, 0.0015013128205368473, 0.00047322709779604237, 0.99707721657412096, 0.0015013128205368473, 0.0026126205929374014, 0.996292345069279, 0.00027168670300570279, 0.00027168670300570279, 0.0019051981884677569, 0.99999994631133204, 0.0019051981884677569, 0.0015013128205368473, 0.0015013128205368473, 0.0015013128205368473, 0.0015013128205368473, 0.9999999999993554, 0.996292345069279, 0.0015013128205368473, 0.0019051981884677569, 0.9989105772764999, 0.996292345069279, 0.996292345069279, 0.0015013128205368473, 1.0, 0.0015013128205368473, 0.99999993387019892, 0.996292345069279, 0.99786844265619012, 0.99786844265619012, 0.0015013128205368473, 0.0015013128205368473, 0.9989105772764999, 0.0015013128205368473, 0.0015013128205368473, 0.996292345069279, 0.00027168670300570279, 0.99826876261920738, 0.99999999999949218, 0.996292345069279, 0.99707721657412096, 0.00027168670300570279, 0.0015013128205368473, 0.99826876261920738, 0.0019051981884677569, 0.0032160892293096157, 0.00047322709779604237, 0.99826876261920738, 0.99786844265619012, 0.0026126205929374014, 0.99786844265619012, 0.99786844265619012, 0.00027168670300570279, 0.0015013128205368473, 0.00027168670300570279, 0.0015013128205368473, 0.00027168670300570279, 0.00027168670300570279, 0.0026126205929374014, 0.00027168670300570279, 0.0015013128205368473, 0.0015013128205368473, 0.0015013128205368473, 0.00027168670300570279, 0.00027168670300570279, 0.99786844265619012, 0.99999988479111401, 0.9989105772764999, 0.996292345069279, 0.00027168670300570279, 0.00092645972672322427, 0.0015013128205368473, 0.0032160892293096157, 0.0003448905165769643, 0.0015013128205368473, 0.0015013128205368473, 0.0015013128205368473, 0.0026126205929374014, 0.00027168670300570279, 0.0003448905165769643, 0.0003448905165769643, 0.99707721657412096, 0.0015013128205368473, 0.0026126205929374014, 0.99999994631133204, 0.00027168670300570279, 0.996292345069279, 0.99999988479111401, 0.0026126205929374014, 0.996292345069279, 0.99999988479111401, 0.0015013128205368473, 0.0026126205929374014, 1.0, 0.00027168670300570279, 0.0015013128205368473, 0.0015013128205368473, 0.99826876261920738, 0.0026126205929374014, 0.99999996623682219, 0.996292345069279, 0.00027168670300570279, 0.0015013128205368473, 0.0015013128205368473, 0.996292345069279, 0.99786844265619012, 0.99999994631133204, 0.0015013128205368473, 0.0015013128205368473, 0.0015013128205368473, 0.0015013128205368473, 0.00027168670300570279, 0.0015013128205368473, 0.0015013128205368473, 0.99999999999963007, 0.0015013128205368473, 0.0032160892293096157, 0.99786844265619012, 0.996292345069279, 0.99999993387019892, 0.0015013128205368473, 0.0015013128205368473, 0.0015013128205368473, 0.99786844265619012, 0.99707721657412096, 0.99999988479111401, 0.00027168670300570279, 0.0015013128205368473, 0.00027168670300570279, 0.0019051981884677569, 0.00027168670300570279, 0.996292345069279, 0.99999988479111401, 0.0015013128205368473, 0.9989105772764999, 0.00027168670300570279, 0.0015013128205368473, 0.0015013128205368473, 0.0019051981884677569, 0.00027168670300570279, 0.99707721657412096, 0.0015013128205368473, 0.996292345069279, 0.996292345069279, 0.99707721657412096, 0.0015013128205368473, 0.9989105772764999, 0.99826876261920738, 0.0019051981884677569, 0.99999996623682219, 0.0015013128205368473, 0.0015013128205368473, 0.00027168670300570279, 0.996292345069279, 0.996292345069279, 0.0032160892293096157, 0.99826876261920738, 0.996292345069279, 0.00027168670300570279, 0.0015013128205368473, 0.0015013128205368473, 0.996292345069279, 0.0015013128205368473, 0.0015013128205368473, 0.99826876261920738, 0.00027168670300570279, 0.99707721657412096, 0.00027168670300570279, 0.996292345069279, 0.99707721657412096, 0.0032160892293096157, 0.99999988479111401, 0.99999993387019892, 0.99999999999981104, 0.99999988479111401, 0.99999988479111401, 0.996292345069279, 0.00027168670300570279, 0.0026126205929374014, 0.00027168670300570279, 0.99786844265619012, 0.99999993387019892, 0.99999993387019892, 0.0015013128205368473, 0.99999988479111401, 0.99999988479111401, 0.0015013128205368473, 0.0015013128205368473, 0.996292345069279, 0.99999993387019892, 0.0015013128205368473, 0.996292345069279, 0.0015013128205368473, 0.00027168670300570279, 0.0026126205929374014, 0.00027168670300570279, 0.9989105772764999, 0.99826876261920738, 0.0019051981884677569, 0.0032160892293096157, 0.99999999999981104, 0.0015013128205368473, 0.00027168670300570279, 0.99999993387019892, 0.0015013128205368473, 0.0015013128205368473, 0.00047322709779604237, 0.9989105772764999, 0.0026126205929374014, 0.00027168670300570279, 0.0015013128205368473, 0.00027168670300570279, 0.0015013128205368473, 0.9989105772764999, 0.00027168670300570279, 0.99999988479111401, 0.0015013128205368473, 0.0026126205929374014, 1.0, 0.99999988479111401, 0.0015013128205368473, 0.99786844265619012, 0.00047322709779604237, 0.00027168670300570279, 0.996292345069279, 0.0019051981884677569, 0.00027168670300570279, 0.00027168670300570279, 0.996292345069279, 0.99999993387019892, 0.9999999999993554, 0.00047322709779604237, 0.99786844265619012, 0.99786844265619012, 0.996292345069279, 0.0015013128205368473, 0.996292345069279, 0.00027168670300570279, 0.0015013128205368473, 0.9989105772764999, 0.0019051981884677569, 0.996292345069279, 0.99826876261920738, 0.0015013128205368473, 0.996292345069279, 0.0015013128205368473, 0.99786844265619012, 0.996292345069279, 0.00027168670300570279, 0.9989105772764999, 0.99786844265619012, 0.99999988479111401, 0.00027168670300570279, 0.99786844265619012, 0.00027168670300570279, 0.00027168670300570279, 0.0019051981884677569, 0.00027168670300570279, 0.99826876261920738, 0.99999988479111401, 0.99999988479111401, 0.00027168670300570279, 0.00027168670300570279, 0.0051043906659934248, 0.0015013128205368473, 0.996292345069279, 0.9989105772764999, 0.0015013128205368473, 0.0015013128205368473, 0.99707721657412096, 0.0015013128205368473, 0.0026126205929374014, 0.0019051981884677569, 0.99999988479111401, 0.99999988479111401, 0.99999999999981104, 0.0015013128205368473, 0.0026126205929374014, 0.00027168670300570279, 0.0015013128205368473, 0.996292345069279, 1.0, 0.996292345069279, 0.996292345069279, 0.0015013128205368473, 0.0015013128205368473, 0.99999993387019892, 0.00027168670300570279, 0.00047322709779604237, 0.0015013128205368473, 0.0015013128205368473, 0.0026126205929374014, 0.00027168670300570279, 0.0015013128205368473, 0.0015013128205368473, 0.99999993387019892, 1.0, 0.99999988479111401, 0.99999999999963007, 0.99786844265619012, 0.0015013128205368473, 0.0032160892293096157, 0.00027168670300570279, 0.00027168670300570279, 0.99786844265619012, 0.0019051981884677569, 0.0015013128205368473, 0.00027168670300570279, 0.99999993387019892, 0.99786844265619012, 0.0019051981884677569, 0.0019051981884677569, 0.00027168670300570279, 0.0015013128205368473, 0.00027168670300570279, 0.99786844265619012, 0.99826876261920738, 0.996292345069279, 0.0015013128205368473, 0.00027168670300570279, 0.99999993387019892, 0.00027168670300570279, 0.99999988479111401, 0.0019051981884677569, 0.0015013128205368473, 0.99786844265619012, 0.0015013128205368473, 0.99999999999963007, 0.99999996623682219, 0.99786844265619012, 0.0015013128205368473, 0.00027168670300570279, 0.99999993387019892, 0.99999994631133204, 0.00027168670300570279, 0.0015013128205368473, 0.996292345069279, 0.00027168670300570279, 0.00027168670300570279, 0.0015013128205368473, 0.0015013128205368473, 0.0015013128205368473, 0.00027168670300570279, 0.0015013128205368473, 0.9989105772764999, 0.0019051981884677569, 0.0015013128205368473, 0.996292345069279, 0.99999988479111401, 0.99999993387019892, 0.99786844265619012, 0.99826876261920738, 0.0015013128205368473, 0.0015013128205368473, 0.00027168670300570279, 0.0015013128205368473, 1.0, 0.0015013128205368473, 0.99999994631133204, 0.996292345069279, 0.996292345069279, 0.0015013128205368473, 0.0015013128205368473, 0.996292345069279, 0.99999993387019892, 0.996292345069279, 1.0, 0.9989105772764999, 0.0032160892293096157, 0.99786844265619012, 0.99786844265619012, 0.0019051981884677569, 0.0015013128205368473, 0.0015013128205368473, 0.996292345069279, 0.99999988479111401, 0.0015013128205368473, 0.0015013128205368473, 0.0015013128205368473, 0.99826876261920738, 0.99826876261920738, 0.0015013128205368473, 0.99786844265619012, 0.0015013128205368473, 0.996292345069279, 0.0015013128205368473, 0.996292345069279, 0.00027168670300570279, 0.0015013128205368473, 0.0026126205929374014, 0.0015013128205368473, 0.99826876261920738, 0.00027168670300570279, 0.0015013128205368473, 0.99786844265619012, 0.99786844265619012, 0.0015013128205368473, 0.00027168670300570279, 0.0015013128205368473, 0.0026126205929374014, 0.996292345069279, 0.99786844265619012, 0.0015013128205368473, 0.99999988479111401, 0.0015013128205368473, 0.0015013128205368473, 0.00027168670300570279, 0.00027168670300570279, 0.99786844265619012, 0.99999999999963007, 0.996292345069279, 0.00027168670300570279, 0.99999988479111401, 0.0019051981884677569, 0.996292345069279, 0.00027168670300570279, 0.99999993387019892, 0.00027168670300570279, 0.99786844265619012, 0.996292345069279, 0.0015013128205368473, 0.00027168670300570279, 0.99786844265619012, 0.99999988479111401, 0.00027168670300570279, 0.00047322709779604237, 0.9989105772764999, 0.99999993387019892, 0.99999988479111401, 0.99999993387019892, 0.00027168670300570279, 0.9999999999993554, 0.99999988479111401, 0.00027168670300570279, 0.00027168670300570279, 1.0, 0.0051043906659934248, 0.99999990925111093, 0.0026126205929374014, 0.99999993387019892, 0.99999994631133204, 0.99999999999969957, 0.99786844265619012, 0.996292345069279, 0.99786844265619012, 0.0015013128205368473, 0.00027168670300570279, 0.0019051981884677569, 0.99999993387019892, 0.99786844265619012, 0.99999988479111401, 0.00027168670300570279, 0.99999993387019892, 0.0026126205929374014, 0.9999999999993554, 0.0026126205929374014, 0.99707721657412096, 0.0015013128205368473, 0.00027168670300570279, 0.99786844265619012, 0.99786844265619012, 0.00047322709779604237, 0.99786844265619012, 0.00027168670300570279, 0.0015013128205368473, 0.0026126205929374014, 0.00027168670300570279, 0.0019051981884677569, 0.99999996623682219, 0.00027168670300570279, 0.00027168670300570279, 0.99786844265619012, 0.0019051981884677569, 0.99999993387019892, 0.0026126205929374014, 0.0015013128205368473, 0.0015013128205368473, 0.996292345069279, 0.00027168670300570279, 0.99999994631133204, 0.0026126205929374014, 0.99786844265619012, 0.99786844265619012, 0.0015013128205368473, 0.9999999999993554, 0.0015013128205368473, 0.0015013128205368473, 0.00027168670300570279, 0.0015013128205368473, 0.00027168670300570279, 0.00027168670300570279, 0.0032160892293096157, 0.0026126205929374014, 0.0015013128205368473, 0.0026126205929374014, 0.99999988479111401, 0.0015013128205368473, 1.0, 0.9999999999993554, 0.0015013128205368473, 0.0015013128205368473, 0.00027168670300570279, 0.99999990925111093, 0.99999993387019892, 0.0019051981884677569, 0.00027168670300570279, 0.0026126205929374014, 0.996292345069279, 0.996292345069279, 1.0, 0.00027168670300570279, 0.0015013128205368473, 0.0019051981884677569, 0.996292345069279, 0.00027168670300570279, 0.00047322709779604237, 0.00027168670300570279, 0.99786844265619012, 0.996292345069279, 0.99826876261920738, 0.996292345069279, 0.0026126205929374014, 0.0026126205929374014, 0.0015013128205368473, 0.99999988479111401, 0.0003448905165769643, 0.99786844265619012, 0.0015013128205368473, 0.99999996623682219, 0.0026126205929374014, 1.0, 0.99999988479111401, 0.0026126205929374014, 0.9989105772764999, 0.996292345069279, 0.99786844265619012, 0.00027168670300570279, 0.99786844265619012, 0.00027168670300570279, 0.0015013128205368473, 0.99707721657412096, 0.0015013128205368473, 0.0015013128205368473, 0.996292345069279, 0.0015013128205368473, 0.9989105772764999, 0.99999990925111093, 0.0032160892293096157, 0.0015013128205368473, 0.0026126205929374014, 0.9989105772764999, 0.00027168670300570279, 0.99707721657412096, 0.00027168670300570279, 0.0026126205929374014, 0.99999999999963007, 0.00027168670300570279, 0.0015013128205368473, 0.00027168670300570279, 0.0015013128205368473, 0.996292345069279, 0.996292345069279, 0.00027168670300570279, 0.9989105772764999, 0.00027168670300570279, 0.0015013128205368473, 0.99786844265619012, 0.0015013128205368473, 0.00047322709779604237, 0.00027168670300570279, 0.00027168670300570279, 0.996292345069279, 0.99786844265619012, 0.996292345069279, 0.0019051981884677569, 0.996292345069279, 0.0015013128205368473, 1.0, 0.99826876261920738, 0.0019051981884677569, 0.0015013128205368473, 0.00027168670300570279, 0.996292345069279, 0.00027168670300570279, 0.99999999999963007, 0.00027168670300570279, 0.0019051981884677569, 0.9999999999993554, 0.99999993387019892, 0.0015013128205368473, 0.0026126205929374014, 0.0015013128205368473, 0.00027168670300570279, 0.996292345069279, 0.0003448905165769643, 0.99999993387019892, 0.0015013128205368473, 0.00027168670300570279, 0.99786844265619012, 0.99999988479111401, 0.9999999999993554, 0.996292345069279, 0.0015013128205368473, 0.0015013128205368473, 0.00047322709779604237, 0.996292345069279, 0.996292345069279, 0.99786844265619012, 0.99707721657412096, 0.99999988479111401, 0.0003448905165769643, 0.99999993387019892, 0.996292345069279, 1.0, 0.99707721657412096, 0.996292345069279, 0.00027168670300570279, 0.996292345069279, 0.99826876261920738, 0.996292345069279, 0.0015013128205368473, 0.0015013128205368473, 0.99707721657412096, 0.9989105772764999, 0.0015013128205368473, 1.0, 0.00047322709779604237, 0.9999999999993554, 0.99999988479111401, 0.99999993387019892, 0.996292345069279, 0.99786844265619012, 0.9999999999993554, 0.00047322709779604237, 0.99786844265619012, 0.0015013128205368473, 0.99786844265619012, 0.0015013128205368473, 0.0019051981884677569, 0.0015013128205368473, 0.0015013128205368473, 0.0015013128205368473, 0.99707721657412096, 0.00027168670300570279, 0.99786844265619012, 0.0019051981884677569, 0.996292345069279, 0.0019051981884677569, 0.99786844265619012, 0.00027168670300570279, 0.0015013128205368473, 0.99786844265619012, 0.00027168670300570279, 0.99826876261920738, 0.99786844265619012, 0.00027168670300570279, 0.00027168670300570279, 0.0019051981884677569, 0.9989105772764999, 0.9999999999993554, 0.00027168670300570279, 0.0015013128205368473, 0.99999988479111401, 0.99826876261920738, 0.9989105772764999, 0.00047322709779604237, 0.99786844265619012, 0.996292345069279, 0.0015013128205368473, 0.0015013128205368473, 0.0015013128205368473, 0.00027168670300570279, 0.0015013128205368473, 0.0019051981884677569, 0.00027168670300570279, 0.0015013128205368473, 0.0015013128205368473, 0.0015013128205368473, 0.99999993387019892, 0.0026126205929374014, 0.0026126205929374014, 0.0015013128205368473, 0.0015013128205368473, 0.00027168670300570279, 0.99786844265619012, 0.996292345069279, 0.99786844265619012, 0.0015013128205368473, 0.00047322709779604237, 0.9989105772764999, 0.0003448905165769643, 0.00027168670300570279, 0.99786844265619012, 0.00027168670300570279, 0.0015013128205368473, 0.0015013128205368473, 0.99786844265619012, 0.00027168670300570279, 0.0026126205929374014, 0.996292345069279, 0.996292345069279, 0.0015013128205368473, 0.9989105772764999, 0.99999993387019892, 0.99826876261920738, 0.00027168670300570279, 0.9999999999993554, 0.00027168670300570279, 0.99999988479111401, 0.99786844265619012, 0.996292345069279, 0.0015013128205368473, 0.99999988479111401, 0.99786844265619012, 0.00027168670300570279, 0.0026126205929374014, 0.99999993387019892, 0.0019051981884677569, 0.0026126205929374014, 0.99999988479111401, 0.0015013128205368473, 0.0026126205929374014, 0.99999999999981104, 0.9989105772764999, 0.99786844265619012, 0.99826876261920738, 0.00047322709779604237, 0.99786844265619012, 0.00027168670300570279, 0.00047322709779604237, 0.0032160892293096157, 0.00027168670300570279, 0.0003448905165769643, 0.996292345069279, 0.996292345069279, 0.996292345069279, 0.996292345069279, 0.99707721657412096, 0.0015013128205368473, 0.0015013128205368473, 0.0015013128205368473, 0.0003448905165769643, 0.00027168670300570279, 0.99999988479111401, 0.99786844265619012, 0.9989105772764999, 0.0015013128205368473, 0.99786844265619012, 0.99999999999963007, 0.0015013128205368473, 0.00027168670300570279, 0.99999988479111401, 0.00027168670300570279, 0.0015013128205368473, 0.00027168670300570279, 0.9989105772764999, 0.0015013128205368473, 0.996292345069279, 0.0015013128205368473, 0.99786844265619012, 0.00027168670300570279, 0.99826876261920738, 0.00047322709779604237, 0.00027168670300570279, 0.0015013128205368473, 0.0026126205929374014, 0.0019051981884677569, 0.9989105772764999, 0.9989105772764999, 0.99826876261920738, 0.99786844265619012, 0.99786844265619012, 0.996292345069279, 0.00027168670300570279, 0.996292345069279, 0.0015013128205368473, 0.0026126205929374014, 1.0, 0.0015013128205368473, 0.0019051981884677569, 0.0032160892293096157, 0.00027168670300570279, 0.99999988479111401, 0.0026126205929374014, 0.00027168670300570279, 0.0015013128205368473, 0.996292345069279, 0.996292345069279, 0.0019051981884677569, 0.996292345069279, 0.0015013128205368473, 0.0026126205929374014, 0.996292345069279, 0.99786844265619012, 0.0015013128205368473, 0.996292345069279, 0.0032160892293096157, 0.00027168670300570279, 0.00027168670300570279, 0.99999988479111401, 0.99999999999949218, 0.99999993387019892, 0.00027168670300570279, 0.996292345069279, 0.0019051981884677569, 0.99999993387019892, 0.00027168670300570279, 0.0019051981884677569, 0.996292345069279, 0.0015013128205368473, 0.0019051981884677569, 0.99786844265619012, 0.0019051981884677569, 0.0015013128205368473, 0.0026126205929374014, 0.99707721657412096, 0.0015013128205368473, 0.99999988479111401, 0.99999993387019892, 1.0, 0.996292345069279, 0.0003448905165769643, 0.00027168670300570279, 0.996292345069279, 0.99999988479111401, 0.0015013128205368473, 0.996292345069279, 0.99999990925111093, 0.0015013128205368473, 0.99707721657412096, 0.00027168670300570279, 0.0015013128205368473, 0.996292345069279, 0.0015013128205368473, 0.00027168670300570279, 0.99826876261920738, 0.99786844265619012, 0.00027168670300570279, 0.99826876261920738, 0.00027168670300570279, 0.0003448905165769643, 0.0026126205929374014, 0.0015013128205368473, 0.00027168670300570279, 0.00027168670300570279, 0.0015013128205368473, 0.996292345069279, 0.99999988479111401, 0.99786844265619012, 0.0015013128205368473, 0.99999988479111401, 0.00027168670300570279, 0.0015013128205368473, 0.0015013128205368473, 0.996292345069279, 0.99786844265619012, 0.00027168670300570279, 0.0015013128205368473, 0.9999999999993554, 0.0015013128205368473, 0.0015013128205368473, 0.0026126205929374014, 0.99786844265619012, 0.00047322709779604237, 0.0015013128205368473, 0.0019051981884677569, 0.0015013128205368473, 0.99999988479111401, 0.0015013128205368473, 0.00027168670300570279, 0.99786844265619012, 0.99786844265619012, 0.99786844265619012, 0.99786844265619012, 0.99786844265619012, 0.0015013128205368473, 0.0019051981884677569, 0.99999993387019892, 0.996292345069279, 0.00027168670300570279, 0.9989105772764999, 0.0026126205929374014, 0.0019051981884677569, 0.99999993387019892, 0.0019051981884677569, 0.0026126205929374014, 0.99786844265619012, 0.9989105772764999, 0.99999988479111401, 0.0015013128205368473, 0.99999999999963007, 0.00027168670300570279, 0.9989105772764999, 0.0015013128205368473, 0.99999988479111401, 1.0, 0.0015013128205368473, 0.00027168670300570279, 0.99826876261920738, 0.0015013128205368473, 0.99999994631133204, 0.00027168670300570279, 0.99999988479111401, 0.00027168670300570279, 0.99999988479111401, 0.9989105772764999, 0.0015013128205368473, 0.0015013128205368473, 0.996292345069279, 0.0015013128205368473, 0.0019051981884677569, 0.0032160892293096157, 0.99999988479111401, 0.00027168670300570279, 0.0015013128205368473, 0.0019051981884677569, 0.996292345069279, 0.0019051981884677569, 0.99999988479111401, 0.99999994631133204, 0.0015013128205368473, 0.99999988479111401, 0.0015013128205368473, 0.99999993387019892, 0.00027168670300570279, 0.0015013128205368473, 0.00047322709779604237, 0.0026126205929374014, 0.00027168670300570279, 0.0019051981884677569, 0.0015013128205368473, 0.00027168670300570279, 0.996292345069279, 0.00027168670300570279, 0.99999988479111401, 0.00027168670300570279, 0.0015013128205368473, 0.0015013128205368473, 0.996292345069279, 0.00027168670300570279, 0.996292345069279, 0.996292345069279, 0.99999999999981104, 0.996292345069279, 0.00027168670300570279, 0.99786844265619012, 0.99999988479111401, 0.00027168670300570279, 0.00058282285795677343, 0.0015013128205368473, 0.0015013128205368473, 0.99999993387019892, 0.00027168670300570279, 0.996292345069279, 0.9999999999993554, 0.99786844265619012, 0.9999999999993554, 0.00027168670300570279, 0.0015013128205368473, 0.0032160892293096157, 0.99786844265619012, 0.996292345069279, 0.9989105772764999, 1.0, 0.0015013128205368473, 0.996292345069279, 0.9989105772764999, 0.9989105772764999, 0.99999999999963007, 0.0015013128205368473, 0.0015013128205368473, 0.00027168670300570279, 0.99826876261920738, 0.996292345069279, 0.996292345069279, 0.99999988479111401, 0.996292345069279, 0.99999988479111401, 0.99999993387019892, 0.99826876261920738, 0.996292345069279, 0.00027168670300570279, 0.99999994631133204, 0.00027168670300570279, 0.996292345069279, 0.00027168670300570279, 0.00027168670300570279, 0.99999988479111401, 0.0026126205929374014, 0.99999994631133204, 0.00027168670300570279, 0.0015013128205368473, 0.0015013128205368473, 0.00027168670300570279, 0.0015013128205368473, 0.0015013128205368473, 0.00047322709779604237, 0.996292345069279, 0.996292345069279, 0.0015013128205368473, 0.0015013128205368473, 0.0015013128205368473, 0.00027168670300570279, 0.0015013128205368473, 0.00027168670300570279, 0.0015013128205368473, 1.0, 0.0026126205929374014, 0.0026126205929374014, 0.00027168670300570279, 0.00027168670300570279, 0.0032160892293096157, 0.0015013128205368473, 0.99826876261920738, 0.0015013128205368473, 0.0015013128205368473, 0.996292345069279, 0.0003448905165769643, 0.0015013128205368473, 0.0019051981884677569, 0.0026126205929374014, 0.00027168670300570279, 0.00027168670300570279, 1.0, 0.996292345069279, 0.0019051981884677569, 0.99786844265619012, 0.00047322709779604237, 0.0026126205929374014, 0.00027168670300570279, 1.0, 0.0019051981884677569, 0.0015013128205368473, 0.0015013128205368473, 0.0015013128205368473, 0.0015013128205368473, 0.99999988479111401, 0.0015013128205368473, 0.0019051981884677569, 0.00027168670300570279, 0.996292345069279, 0.996292345069279, 0.00027168670300570279, 0.0015013128205368473, 0.9999999999993554, 0.0015013128205368473, 0.0026126205929374014, 0.0003448905165769643, 0.0015013128205368473, 0.00027168670300570279, 0.99786844265619012, 0.0019051981884677569, 1.0, 0.00027168670300570279, 0.99707721657412096, 0.99786844265619012, 0.99707721657412096, 0.0015013128205368473, 0.0026126205929374014, 0.00027168670300570279, 0.99999996623682219, 0.0015013128205368473, 0.99999993387019892, 0.99999990925111093, 0.996292345069279, 0.99826876261920738, 0.0015013128205368473, 0.996292345069279, 0.99786844265619012, 0.99786844265619012, 0.99826876261920738, 0.0015013128205368473, 0.996292345069279, 0.996292345069279, 0.0015013128205368473, 0.99999999999963007, 0.00027168670300570279, 0.0015013128205368473, 0.996292345069279, 0.0015013128205368473, 0.00027168670300570279, 0.0015013128205368473, 0.0019051981884677569, 0.0015013128205368473, 0.0015013128205368473, 0.9999999999993554, 0.996292345069279, 0.99999993387019892, 0.0019051981884677569, 0.99999988479111401, 0.99707721657412096, 1.0, 0.00027168670300570279, 0.99786844265619012, 0.0026126205929374014, 0.99999988479111401, 0.0015013128205368473, 0.0015013128205368473, 0.996292345069279, 0.0015013128205368473, 0.0026126205929374014, 0.99999988479111401, 0.99999990925111093, 0.99999999999963007, 0.0015013128205368473, 0.0026126205929374014, 0.0015013128205368473, 0.0015013128205368473, 0.996292345069279, 0.0019051981884677569, 0.0015013128205368473, 0.00027168670300570279, 0.99826876261920738, 1.0, 0.996292345069279, 0.9999999999993554, 0.00027168670300570279, 0.99786844265619012, 0.0015013128205368473, 0.0026126205929374014, 0.99999999999981104, 0.0015013128205368473, 0.996292345069279, 0.99999990925111093, 0.00027168670300570279, 0.996292345069279, 0.99786844265619012, 0.996292345069279, 0.0015013128205368473, 0.99999993387019892, 0.0015013128205368473, 0.00027168670300570279, 0.00027168670300570279, 0.99999999999969957, 0.0015013128205368473, 0.99786844265619012, 0.00027168670300570279, 0.99999993387019892, 0.0026126205929374014, 0.9999999999993554, 0.99786844265619012, 0.0026126205929374014, 0.0015013128205368473, 0.99826876261920738, 0.996292345069279, 0.00027168670300570279, 0.00027168670300570279, 0.9999999999993554, 0.00027168670300570279, 0.99826876261920738, 0.00027168670300570279, 0.99826876261920738, 0.0015013128205368473, 0.00058282285795677343, 0.0015013128205368473, 0.0015013128205368473, 0.9989105772764999, 0.0015013128205368473, 0.99786844265619012, 0.0003448905165769643, 0.99786844265619012, 0.00027168670300570279, 0.00027168670300570279, 0.0015013128205368473, 0.00027168670300570279, 0.99999988479111401, 0.0015013128205368473, 0.99786844265619012, 0.996292345069279, 0.0026126205929374014, 0.996292345069279, 0.0032160892293096157, 0.0015013128205368473, 0.0015013128205368473, 0.0015013128205368473, 0.99999988479111401, 0.99786844265619012, 0.0015013128205368473, 0.996292345069279, 0.0015013128205368473, 0.0015013128205368473, 0.0015013128205368473, 0.0032160892293096157, 0.0015013128205368473, 0.0026126205929374014, 0.0015013128205368473, 0.00027168670300570279, 0.0015013128205368473, 0.99707721657412096, 0.0019051981884677569, 0.99786844265619012, 0.0015013128205368473, 0.99707721657412096, 0.99826876261920738, 0.0051043906659934248, 0.0026126205929374014, 0.0026126205929374014, 0.0015013128205368473, 0.99786844265619012, 0.99786844265619012, 0.0015013128205368473, 0.99999988479111401, 0.0015013128205368473, 0.00027168670300570279, 0.0019051981884677569, 0.00027168670300570279, 0.0026126205929374014, 0.0026126205929374014, 0.0015013128205368473, 0.00027168670300570279, 0.0026126205929374014, 0.996292345069279, 0.0019051981884677569, 0.99707721657412096, 0.996292345069279, 0.99786844265619012, 0.99786844265619012, 0.00027168670300570279, 0.0015013128205368473, 0.996292345069279, 0.0015013128205368473, 0.9989105772764999, 0.00047322709779604237, 0.00027168670300570279, 0.0019051981884677569, 0.99707721657412096, 0.996292345069279, 0.99999988479111401, 0.99826876261920738, 0.0015013128205368473, 0.9999999999993554, 0.99826876261920738, 0.996292345069279, 0.0015013128205368473, 0.0026126205929374014, 0.0003448905165769643, 0.0015013128205368473, 0.99826876261920738, 0.0015013128205368473, 0.996292345069279, 0.9989105772764999, 0.00027168670300570279, 0.00027168670300570279, 0.996292345069279, 0.00027168670300570279, 0.00027168670300570279, 0.0015013128205368473, 0.99786844265619012, 0.99999999999963007, 0.996292345069279, 0.0015013128205368473, 0.99826876261920738, 0.996292345069279, 0.99707721657412096, 0.00027168670300570279, 0.99999993387019892, 0.996292345069279, 1.0, 0.99826876261920738, 0.99786844265619012, 0.0015013128205368473, 0.99999999999981104, 0.0003448905165769643, 0.0015013128205368473, 0.0015013128205368473, 0.99786844265619012, 0.00027168670300570279, 0.00027168670300570279, 0.0003448905165769643, 0.0026126205929374014, 0.0019051981884677569, 0.99999996623682219, 0.0003448905165769643, 0.9999999999993554, 0.0015013128205368473, 0.0015013128205368473, 0.99786844265619012, 0.00027168670300570279, 0.99786844265619012, 0.996292345069279, 0.00027168670300570279, 0.99999996623682219, 0.996292345069279, 0.00027168670300570279, 0.99999988479111401, 0.99999988479111401, 0.9999999999993554, 0.0026126205929374014, 0.99999988479111401, 0.00027168670300570279, 0.0015013128205368473, 0.99707721657412096, 0.996292345069279, 0.996292345069279, 0.99999988479111401, 0.00027168670300570279, 0.00027168670300570279, 0.0015013128205368473, 0.00027168670300570279, 0.0015013128205368473, 0.996292345069279, 0.0019051981884677569, 0.0015013128205368473, 0.996292345069279, 0.00027168670300570279, 0.99786844265619012, 0.9999999999993554, 0.0015013128205368473, 0.00058282285795677343, 0.996292345069279, 0.99999990925111093, 0.0015013128205368473, 0.996292345069279, 0.99786844265619012, 0.9989105772764999, 0.00027168670300570279, 0.00027168670300570279, 0.0015013128205368473, 0.0015013128205368473, 0.99999993387019892, 0.9989105772764999, 0.0015013128205368473, 0.0015013128205368473, 0.0015013128205368473, 0.99826876261920738, 0.00027168670300570279, 0.00027168670300570279, 0.00027168670300570279, 0.0015013128205368473, 0.0015013128205368473, 0.0015013128205368473, 0.99999993387019892, 0.996292345069279, 0.9999999999993554, 0.996292345069279, 0.0015013128205368473, 0.996292345069279, 0.0015013128205368473, 0.99786844265619012, 0.0015013128205368473, 0.996292345069279, 0.0026126205929374014, 0.0019051981884677569, 0.0015013128205368473, 0.99826876261920738, 0.0015013128205368473, 0.0015013128205368473, 0.9989105772764999, 0.99999993387019892, 0.9989105772764999, 0.0015013128205368473, 0.996292345069279, 0.99999993387019892, 0.0015013128205368473, 1.0, 0.0026126205929374014, 0.00027168670300570279, 0.0026126205929374014, 0.0015013128205368473, 0.99786844265619012, 0.99707721657412096, 0.996292345069279, 0.00027168670300570279, 0.0032160892293096157, 0.0015013128205368473, 0.0015013128205368473, 0.0026126205929374014, 0.0003448905165769643, 0.996292345069279, 0.996292345069279, 0.00027168670300570279, 0.0026126205929374014, 0.99786844265619012, 0.0015013128205368473, 0.0032160892293096157, 0.0015013128205368473, 0.00027168670300570279, 0.99707721657412096, 0.0026126205929374014, 0.996292345069279, 0.0026126205929374014, 0.00047322709779604237, 0.00027168670300570279, 0.99999993387019892, 0.00027168670300570279, 0.00027168670300570279, 0.00027168670300570279, 0.00047322709779604237, 0.99786844265619012, 0.00027168670300570279, 0.0015013128205368473, 0.9989105772764999, 0.996292345069279, 0.00027168670300570279, 0.99826876261920738, 0.99999999999963007, 1.0, 0.00027168670300570279, 0.00027168670300570279, 0.00027168670300570279, 0.00027168670300570279, 0.99786844265619012, 0.99786844265619012, 0.0015013128205368473, 0.0015013128205368473, 0.996292345069279, 0.996292345069279, 0.996292345069279, 0.00027168670300570279, 0.99786844265619012, 0.99826876261920738, 0.00027168670300570279, 0.996292345069279, 0.99999988479111401, 0.99999988479111401, 0.99999996623682219, 0.99999988479111401, 0.00027168670300570279, 0.99999996623682219, 0.0015013128205368473, 0.99786844265619012, 0.0015013128205368473, 0.99999988479111401, 0.0015013128205368473, 0.0019051981884677569, 0.99786844265619012, 0.0015013128205368473, 0.99786844265619012, 0.00047322709779604237, 0.0015013128205368473, 1.0, 0.9989105772764999, 0.00027168670300570279, 0.99999993387019892, 0.99999988479111401, 0.00047322709779604237, 0.996292345069279, 0.99786844265619012, 0.99786844265619012, 0.0015013128205368473, 0.996292345069279, 0.00027168670300570279, 0.0015013128205368473, 0.0015013128205368473, 0.0032160892293096157, 0.0015013128205368473, 0.9989105772764999, 0.99999993387019892, 0.00027168670300570279, 0.99999988479111401, 0.0015013128205368473, 0.996292345069279, 0.0015013128205368473, 0.99999988479111401, 0.0015013128205368473, 0.00047322709779604237, 1.0, 0.00027168670300570279, 0.00047322709779604237, 0.00027168670300570279, 0.99826876261920738, 0.00027168670300570279, 0.99786844265619012, 0.00058282285795677343, 0.00027168670300570279, 0.0015013128205368473, 0.00027168670300570279, 0.99999988479111401, 0.00027168670300570279, 0.0015013128205368473, 0.00027168670300570279, 0.0015013128205368473, 0.0019051981884677569, 0.99786844265619012, 0.00027168670300570279, 0.00027168670300570279, 0.0015013128205368473, 0.00027168670300570279, 0.0015013128205368473, 0.00027168670300570279, 0.00027168670300570279, 0.996292345069279, 1.0, 0.0026126205929374014, 0.0019051981884677569, 0.0032160892293096157, 0.99999990925111093, 0.0015013128205368473, 0.00027168670300570279, 0.00027168670300570279, 0.0019051981884677569, 0.0015013128205368473, 0.00047322709779604237, 1.0, 0.99786844265619012, 0.0015013128205368473, 1.0, 0.996292345069279, 0.0015013128205368473, 0.0015013128205368473, 0.00027168670300570279, 0.9999999999993554, 0.99786844265619012, 0.00027168670300570279, 0.00027168670300570279, 0.996292345069279, 0.996292345069279, 0.99826876261920738, 0.0015013128205368473, 0.99786844265619012, 0.0015013128205368473, 0.996292345069279, 0.99826876261920738, 0.0015013128205368473, 0.00027168670300570279, 0.00027168670300570279, 0.9999999999993554, 0.0015013128205368473, 0.0015013128205368473, 0.0015013128205368473, 0.0015013128205368473, 0.0015013128205368473, 0.0015013128205368473, 0.99786844265619012, 0.0015013128205368473, 0.0015013128205368473, 0.0015013128205368473, 1.0, 0.0003448905165769643, 0.00027168670300570279, 0.99999993387019892, 0.0015013128205368473, 0.9999999999993554, 0.0015013128205368473, 0.996292345069279, 1.0, 0.99999988479111401, 0.996292345069279, 0.0015013128205368473, 0.00027168670300570279, 0.00027168670300570279, 0.0015013128205368473, 0.99826876261920738, 0.99786844265619012, 0.0026126205929374014, 0.00027168670300570279, 0.99786844265619012, 0.00027168670300570279, 0.9999999999993554, 0.0026126205929374014, 0.99786844265619012, 0.9999999999993554, 0.99999994631133204, 0.996292345069279, 0.996292345069279, 0.00027168670300570279, 0.99999988479111401, 0.0015013128205368473, 0.00027168670300570279, 0.99999994631133204, 0.99786844265619012, 0.99826876261920738, 0.99786844265619012, 0.99999993387019892, 0.00027168670300570279, 0.0015013128205368473, 0.00027168670300570279, 0.00027168670300570279, 0.0019051981884677569, 0.0015013128205368473, 0.996292345069279, 0.00027168670300570279, 0.99786844265619012, 0.00047322709779604237, 0.00027168670300570279, 0.00027168670300570279, 0.0003448905165769643, 0.0015013128205368473, 1.0, 0.0015013128205368473, 0.0015013128205368473, 0.996292345069279, 0.99999988479111401, 0.0015013128205368473, 0.0015013128205368473, 0.0015013128205368473, 0.9989105772764999, 0.0015013128205368473, 0.0015013128205368473, 0.9989105772764999, 0.99707721657412096, 0.00027168670300570279, 0.99786844265619012, 0.00047322709779604237, 0.99786844265619012, 0.99999996623682219, 0.0015013128205368473, 0.0015013128205368473, 0.0015013128205368473, 0.0026126205929374014, 0.0026126205929374014, 0.0032160892293096157, 0.0015013128205368473, 0.99707721657412096, 0.99999999999969957, 0.0026126205929374014, 0.00047322709779604237, 0.00027168670300570279, 1.0, 0.0026126205929374014, 0.00027168670300570279, 0.9989105772764999, 0.996292345069279, 0.0019051981884677569, 0.0015013128205368473, 0.996292345069279, 0.0015013128205368473, 0.9989105772764999, 0.0015013128205368473, 0.0015013128205368473, 0.99999993387019892, 1.0, 0.99786844265619012, 0.0015013128205368473, 0.996292345069279, 0.00027168670300570279, 0.0015013128205368473, 0.99999988479111401, 0.99826876261920738, 0.99707721657412096, 0.99826876261920738, 0.00027168670300570279, 0.99999993387019892, 1.0, 0.00027168670300570279, 0.996292345069279, 0.996292345069279, 0.0015013128205368473, 0.99786844265619012, 0.0015013128205368473, 0.99999994631133204, 0.99999993387019892, 0.0015013128205368473, 0.0015013128205368473, 0.99786844265619012, 0.996292345069279, 0.99786844265619012, 0.99999988479111401, 0.99999994631133204, 0.996292345069279, 0.0015013128205368473, 0.9999999999993554, 0.0015013128205368473, 0.996292345069279, 0.996292345069279, 0.99786844265619012, 0.996292345069279, 0.9999999999993554, 0.99826876261920738, 0.00027168670300570279, 0.0015013128205368473, 0.99786844265619012, 0.0015013128205368473, 0.00027168670300570279, 0.0019051981884677569, 0.00027168670300570279, 0.99786844265619012, 0.99999988479111401, 0.0026126205929374014, 0.0003448905165769643, 0.0015013128205368473, 0.00027168670300570279, 0.99999993387019892, 0.0015013128205368473, 0.00027168670300570279, 0.0015013128205368473, 0.99999988479111401, 0.99999999999969957, 0.0015013128205368473, 0.0019051981884677569, 0.996292345069279, 0.00027168670300570279, 0.99999993387019892, 0.00027168670300570279, 0.0019051981884677569, 0.0026126205929374014, 0.9989105772764999, 0.996292345069279, 0.996292345069279, 0.0015013128205368473, 0.99999999999969957, 0.00027168670300570279, 0.00047322709779604237, 0.0026126205929374014, 0.00027168670300570279, 0.0015013128205368473, 0.996292345069279, 0.9989105772764999, 0.0015013128205368473, 0.0015013128205368473, 0.0026126205929374014, 0.00027168670300570279, 0.0026126205929374014, 0.00027168670300570279, 0.00027168670300570279, 0.0019051981884677569, 0.0015013128205368473, 0.0003448905165769643, 0.9999999999993554, 0.99786844265619012, 0.996292345069279, 0.0015013128205368473, 0.0015013128205368473, 0.996292345069279, 0.00058282285795677343, 0.0026126205929374014, 0.99786844265619012, 0.0015013128205368473, 0.99786844265619012, 0.00027168670300570279, 0.99999988479111401, 0.0015013128205368473, 0.0015013128205368473, 0.996292345069279, 0.99999988479111401, 1.0, 0.0015013128205368473, 0.00027168670300570279, 0.0032160892293096157, 0.0019051981884677569, 0.0015013128205368473, 0.99999990925111093, 0.00027168670300570279, 0.00027168670300570279, 0.0015013128205368473, 0.0015013128205368473, 0.00027168670300570279, 0.996292345069279, 0.0015013128205368473, 0.0015013128205368473, 0.996292345069279, 0.0015013128205368473, 0.00027168670300570279, 0.99999994631133204, 0.0015013128205368473, 0.0015013128205368473, 0.996292345069279, 0.99999988479111401, 0.0015013128205368473, 0.996292345069279, 0.0003448905165769643, 0.00027168670300570279, 0.9989105772764999, 0.00027168670300570279, 0.0015013128205368473, 0.99826876261920738, 0.0015013128205368473, 0.00027168670300570279, 0.99999988479111401, 0.00027168670300570279, 0.996292345069279, 1.0, 0.99786844265619012, 0.99999988479111401, 0.0003448905165769643, 0.0015013128205368473, 0.0032160892293096157, 0.996292345069279, 0.00027168670300570279, 0.99999988479111401, 0.0015013128205368473, 0.9999999999993554, 0.0015013128205368473, 0.996292345069279, 0.0026126205929374014, 0.0015013128205368473, 0.00027168670300570279, 0.0003448905165769643, 0.00027168670300570279, 0.0019051981884677569, 0.99826876261920738, 0.996292345069279, 0.0015013128205368473, 0.0015013128205368473, 0.99999993387019892, 0.996292345069279, 0.0015013128205368473, 0.0015013128205368473, 0.0015013128205368473, 0.00027168670300570279, 0.0015013128205368473, 0.0015013128205368473, 0.99707721657412096, 0.0015013128205368473, 0.996292345069279, 0.0015013128205368473, 0.0015013128205368473, 0.00027168670300570279, 0.00047322709779604237, 0.00027168670300570279, 0.0015013128205368473, 0.9999999999993554, 0.996292345069279, 0.9999999999993554, 0.0015013128205368473, 0.996292345069279, 0.00027168670300570279, 0.0015013128205368473, 0.0019051981884677569, 0.0019051981884677569, 0.00027168670300570279, 0.99826876261920738, 0.0026126205929374014, 0.00027168670300570279, 0.00027168670300570279, 0.0015013128205368473, 0.0015013128205368473, 0.99786844265619012, 0.99999993387019892, 0.0026126205929374014, 0.00027168670300570279, 0.0019051981884677569, 0.99999988479111401, 0.99999990925111093, 0.00027168670300570279, 0.996292345069279, 0.0015013128205368473, 0.00047322709779604237, 0.99999988479111401, 0.00027168670300570279, 0.99786844265619012, 0.0015013128205368473, 0.0015013128205368473, 1.0, 0.996292345069279, 0.996292345069279, 0.00027168670300570279, 0.0015013128205368473, 0.99999988479111401, 0.0015013128205368473, 0.99999988479111401, 0.0015013128205368473, 0.00027168670300570279, 0.99999988479111401, 0.99999993387019892, 0.00027168670300570279, 0.996292345069279, 0.996292345069279, 0.996292345069279, 0.0015013128205368473, 0.0015013128205368473, 0.0015013128205368473, 0.00047322709779604237, 0.996292345069279, 0.99707721657412096, 0.0026126205929374014, 0.99707721657412096, 0.0015013128205368473, 0.0015013128205368473, 0.99786844265619012, 0.00027168670300570279, 0.99999988479111401, 0.99786844265619012, 0.0015013128205368473, 0.00027168670300570279, 0.0015013128205368473, 0.99786844265619012, 0.00027168670300570279, 0.0015013128205368473, 0.99786844265619012, 0.00047322709779604237, 0.0026126205929374014, 0.00027168670300570279, 0.0015013128205368473, 0.00027168670300570279, 0.00027168670300570279, 0.0015013128205368473, 0.0015013128205368473, 0.99826876261920738, 0.0015013128205368473, 0.99786844265619012, 0.99786844265619012, 0.0015013128205368473, 0.00047322709779604237, 0.996292345069279, 0.0015013128205368473, 0.99786844265619012, 0.99999990925111093, 0.0019051981884677569, 0.0003448905165769643, 0.99786844265619012, 0.0026126205929374014, 0.9989105772764999, 0.0015013128205368473, 0.0026126205929374014, 0.99999994631133204, 1.0, 0.996292345069279, 0.0015013128205368473, 0.9999999999993554, 1.0, 0.0015013128205368473, 0.0015013128205368473, 0.0015013128205368473, 0.99786844265619012, 0.99786844265619012, 0.99826876261920738, 0.0026126205929374014, 0.99999993387019892, 0.996292345069279, 0.00027168670300570279, 0.9989105772764999, 0.996292345069279, 0.996292345069279, 0.996292345069279, 0.99707721657412096, 0.9999999999993554, 0.0032160892293096157, 0.9989105772764999, 0.99786844265619012, 0.9989105772764999, 0.0015013128205368473, 0.99999988479111401, 0.0032160892293096157, 0.0019051981884677569, 0.99707721657412096, 0.99999999999981104, 0.99707721657412096, 0.00027168670300570279, 0.99786844265619012, 0.0015013128205368473, 0.99999988479111401, 0.99999988479111401, 0.99826876261920738, 0.0015013128205368473, 0.99786844265619012, 0.0015013128205368473, 0.996292345069279, 0.99786844265619012, 0.00027168670300570279, 0.99999988479111401, 0.0015013128205368473, 0.996292345069279, 0.00027168670300570279, 0.0015013128205368473, 0.00027168670300570279, 0.00047322709779604237, 0.0019051981884677569, 0.99786844265619012, 0.0026126205929374014, 0.0026126205929374014, 0.00027168670300570279, 0.0015013128205368473, 0.996292345069279, 0.99707721657412096, 0.996292345069279, 0.99707721657412096, 0.0026126205929374014, 0.99999993387019892, 0.996292345069279, 0.0015013128205368473, 0.0026126205929374014, 0.99999999999963007, 0.99999993387019892, 0.99999988479111401, 0.0015013128205368473, 0.0015013128205368473, 0.0015013128205368473, 0.0015013128205368473, 0.99999990925111093, 0.0019051981884677569, 0.0015013128205368473, 0.99786844265619012, 0.0051043906659934248, 0.996292345069279, 0.996292345069279, 0.0015013128205368473, 1.0, 0.0015013128205368473, 0.0015013128205368473, 0.99999994631133204, 0.996292345069279, 0.0026126205929374014, 1.0, 0.00027168670300570279, 0.99786844265619012, 0.99826876261920738, 0.0019051981884677569, 1.0, 0.00027168670300570279, 0.99786844265619012, 0.99786844265619012, 0.0015013128205368473, 0.00027168670300570279, 0.99999988479111401, 0.9989105772764999, 0.00027168670300570279, 0.00027168670300570279, 0.0015013128205368473, 0.99826876261920738, 0.0015013128205368473, 0.00027168670300570279, 0.00027168670300570279, 0.0015013128205368473, 0.00027168670300570279, 0.0015013128205368473, 0.00027168670300570279, 0.99999999999969957, 0.996292345069279, 0.0015013128205368473, 0.0015013128205368473, 0.0015013128205368473, 0.99786844265619012, 0.99826876261920738, 0.9999999999993554, 0.00027168670300570279, 0.0015013128205368473, 0.996292345069279, 0.99999988479111401, 0.996292345069279, 0.0015013128205368473, 0.0026126205929374014, 0.00058282285795677343, 0.0015013128205368473, 0.00027168670300570279, 0.0015013128205368473, 0.0015013128205368473, 0.996292345069279, 0.99707721657412096, 0.99999999999969957, 0.996292345069279, 0.99999988479111401, 0.0026126205929374014, 0.0015013128205368473, 0.00027168670300570279, 0.99999999999963007, 0.0019051981884677569, 0.0015013128205368473, 0.00027168670300570279, 0.99707721657412096, 0.00027168670300570279, 0.99999999999963007, 0.0015013128205368473, 0.0015013128205368473, 0.0026126205929374014, 0.99999993387019892, 0.9999999999993554, 0.00027168670300570279, 0.00027168670300570279, 0.9989105772764999, 0.99786844265619012, 0.99826876261920738, 0.0026126205929374014, 0.0015013128205368473, 0.0026126205929374014, 0.0015013128205368473, 0.00047322709779604237, 0.0015013128205368473, 0.996292345069279, 0.00047322709779604237, 0.0015013128205368473, 0.00047322709779604237, 0.99999993387019892, 0.99707721657412096, 0.0026126205929374014, 0.996292345069279, 0.99999988479111401, 0.99999988479111401, 0.0015013128205368473, 0.996292345069279, 0.00027168670300570279, 0.00027168670300570279, 0.0015013128205368473, 0.0015013128205368473, 0.00027168670300570279, 0.996292345069279, 0.0015013128205368473, 0.996292345069279, 0.0015013128205368473, 0.0015013128205368473, 0.99999990925111093, 0.00047322709779604237, 0.0015013128205368473, 0.0015013128205368473, 0.9999999999993554, 0.0026126205929374014, 0.99999988479111401, 0.0015013128205368473, 0.00027168670300570279, 0.996292345069279, 0.00027168670300570279, 0.996292345069279, 0.0015013128205368473, 0.00027168670300570279, 0.00027168670300570279, 0.0019051981884677569, 0.0015013128205368473, 0.0015013128205368473, 0.99786844265619012, 0.99999988479111401, 0.0015013128205368473, 0.0026126205929374014, 0.99999988479111401, 0.0015013128205368473, 0.00027168670300570279, 0.0015013128205368473, 0.0015013128205368473, 0.996292345069279, 0.99786844265619012, 0.0019051981884677569, 0.0015013128205368473, 0.0015013128205368473, 0.9999999999993554, 0.0015013128205368473, 0.00027168670300570279, 0.99999990925111093, 0.99826876261920738, 0.99999993387019892, 0.99999999999969957, 0.996292345069279, 1.0, 0.996292345069279, 0.9989105772764999, 0.996292345069279, 0.99786844265619012, 0.0015013128205368473, 0.9989105772764999, 0.00047322709779604237, 0.0015013128205368473, 0.99999988479111401, 0.99999988479111401, 0.996292345069279, 0.00027168670300570279, 0.00027168670300570279, 0.9999999999993554, 0.0015013128205368473, 0.0015013128205368473, 0.99786844265619012, 0.99999993387019892, 0.00047322709779604237, 0.0015013128205368473, 0.99999994631133204, 0.0015013128205368473, 0.996292345069279, 0.0026126205929374014, 0.0003448905165769643, 0.99786844265619012, 0.99999988479111401, 0.00027168670300570279, 0.0015013128205368473, 0.0026126205929374014, 0.0026126205929374014, 0.99999993387019892, 0.996292345069279, 0.0015013128205368473, 0.00027168670300570279, 0.99786844265619012, 0.99999999999981104, 0.99707721657412096, 0.00027168670300570279, 0.99786844265619012, 0.0015013128205368473, 0.99999996623682219, 0.0015013128205368473, 0.0015013128205368473, 0.996292345069279, 0.0015013128205368473, 0.0015013128205368473, 0.00027168670300570279, 0.00027168670300570279, 0.0015013128205368473, 0.0015013128205368473, 0.0015013128205368473, 0.99826876261920738, 0.00027168670300570279, 0.99999993387019892, 0.996292345069279, 0.0015013128205368473, 0.0015013128205368473, 0.0015013128205368473, 0.0015013128205368473, 0.0015013128205368473, 0.99999999999969957, 0.996292345069279, 0.0003448905165769643, 0.00027168670300570279, 0.99826876261920738, 0.99786844265619012, 0.99999999999981104, 0.0019051981884677569, 0.00027168670300570279, 0.996292345069279, 0.0026126205929374014, 0.0003448905165769643, 0.00027168670300570279, 0.00027168670300570279, 0.00027168670300570279, 0.996292345069279, 0.00058282285795677343, 0.996292345069279, 0.00027168670300570279, 0.0015013128205368473, 0.0015013128205368473, 0.00027168670300570279, 0.0015013128205368473, 0.99999993387019892, 0.0015013128205368473, 0.99786844265619012, 0.0026126205929374014, 0.99707721657412096, 0.0015013128205368473, 0.996292345069279, 0.996292345069279, 0.996292345069279, 0.99786844265619012, 0.0015013128205368473, 0.99999988479111401, 0.00027168670300570279, 0.0015013128205368473, 0.00027168670300570279, 0.99786844265619012, 0.0026126205929374014, 0.0015013128205368473, 0.00027168670300570279, 0.00027168670300570279, 0.00027168670300570279, 1.0, 0.00027168670300570279, 0.9999999999993554, 1.0, 0.00027168670300570279, 0.00027168670300570279, 0.00027168670300570279, 0.0003448905165769643, 0.0015013128205368473, 0.996292345069279, 0.99999994631133204, 1.0, 0.0015013128205368473, 0.0019051981884677569, 0.99786844265619012, 0.99999988479111401, 0.0003448905165769643, 0.996292345069279, 0.0015013128205368473, 0.00027168670300570279, 0.99999988479111401, 0.0026126205929374014, 0.0003448905165769643, 0.00047322709779604237, 0.0032160892293096157, 0.0015013128205368473, 0.9989105772764999, 0.0015013128205368473, 0.9989105772764999, 0.0019051981884677569, 0.0015013128205368473, 0.0015013128205368473, 0.00027168670300570279, 0.99707721657412096, 0.00027168670300570279, 0.0026126205929374014, 0.996292345069279, 0.99786844265619012, 0.00027168670300570279, 0.996292345069279, 0.99999988479111401, 0.996292345069279, 0.996292345069279, 0.0032160892293096157, 0.00047322709779604237, 0.996292345069279, 0.0026126205929374014, 0.0015013128205368473, 0.00027168670300570279, 0.0019051981884677569, 0.996292345069279, 0.00027168670300570279, 0.996292345069279, 0.996292345069279, 0.996292345069279, 0.0019051981884677569, 0.99786844265619012, 0.996292345069279, 0.00027168670300570279, 0.9989105772764999, 0.0015013128205368473, 0.99999990925111093, 0.00027168670300570279, 0.9989105772764999, 0.0015013128205368473, 0.996292345069279, 0.0015013128205368473, 0.99826876261920738, 0.99999990925111093, 0.99786844265619012, 0.0015013128205368473, 0.99786844265619012, 0.0032160892293096157, 0.0015013128205368473, 0.0015013128205368473, 0.0032160892293096157, 0.0015013128205368473, 0.99999988479111401, 0.99999993387019892, 0.99999988479111401, 0.0015013128205368473, 0.99999999999963007, 0.99786844265619012, 0.996292345069279, 0.00027168670300570279, 0.99999993387019892, 0.0015013128205368473, 0.0019051981884677569, 0.99786844265619012, 0.00047322709779604237, 0.0015013128205368473, 0.99999988479111401, 0.996292345069279, 0.99786844265619012, 0.0015013128205368473, 0.9999999999993554, 0.9999999999993554, 0.99826876261920738, 0.99999993387019892, 0.996292345069279, 0.00027168670300570279, 0.99999988479111401, 0.0015013128205368473, 0.00092645972672322427, 0.996292345069279, 0.00058282285795677343, 0.0015013128205368473, 0.0015013128205368473, 0.0019051981884677569, 0.0026126205929374014, 0.00027168670300570279, 0.996292345069279, 0.00027168670300570279, 1.0, 0.00047322709779604237, 0.996292345069279, 0.00027168670300570279, 0.0015013128205368473, 0.0015013128205368473, 0.00027168670300570279, 0.0015013128205368473, 0.00027168670300570279, 0.0026126205929374014, 0.0003448905165769643, 0.99786844265619012, 0.99707721657412096, 0.99999996623682219, 0.0019051981884677569, 0.00047322709779604237, 0.99707721657412096, 0.0015013128205368473, 0.99999988479111401, 0.0015013128205368473, 0.996292345069279, 0.00027168670300570279, 0.0026126205929374014, 0.0015013128205368473, 0.0015013128205368473, 0.996292345069279, 0.00027168670300570279, 0.99826876261920738, 0.0026126205929374014, 0.996292345069279, 0.00027168670300570279, 0.996292345069279, 0.0015013128205368473, 0.0003448905165769643, 0.0015013128205368473, 0.00027168670300570279, 0.00047322709779604237, 0.00027168670300570279, 0.996292345069279, 0.99999988479111401, 0.0015013128205368473, 0.0015013128205368473, 0.00027168670300570279, 0.99786844265619012, 0.99999990925111093, 0.99786844265619012, 0.0015013128205368473, 0.99707721657412096, 0.996292345069279, 0.0026126205929374014, 0.0015013128205368473, 0.996292345069279, 0.0015013128205368473, 0.00027168670300570279, 0.0015013128205368473, 0.996292345069279, 0.99786844265619012, 0.9989105772764999, 0.0019051981884677569, 0.00027168670300570279, 0.0019051981884677569, 0.99999988479111401, 0.99999996623682219, 0.0003448905165769643, 0.0015013128205368473, 0.00027168670300570279, 0.0015013128205368473, 0.996292345069279, 0.99707721657412096, 0.0026126205929374014, 0.0019051981884677569, 0.99786844265619012, 0.9989105772764999, 0.0026126205929374014, 0.99786844265619012, 0.0019051981884677569, 0.00047322709779604237, 0.996292345069279, 0.996292345069279, 0.99786844265619012, 0.99999988479111401, 0.00027168670300570279, 0.0015013128205368473, 0.99999993387019892, 0.9999999999993554, 0.00027168670300570279, 0.00027168670300570279, 0.99786844265619012, 0.996292345069279, 0.0026126205929374014, 0.00027168670300570279, 0.996292345069279, 1.0, 0.99999993387019892, 0.99999994631133204, 0.0015013128205368473, 0.0015013128205368473, 0.99999993387019892, 0.9999999999993554, 0.00027168670300570279, 0.0015013128205368473, 0.00027168670300570279, 0.0015013128205368473, 0.00027168670300570279, 0.00027168670300570279, 0.0015013128205368473, 0.0015013128205368473, 0.996292345069279, 0.99999988479111401, 0.99707721657412096, 0.0015013128205368473, 0.0015013128205368473, 0.00027168670300570279, 0.99999993387019892, 0.99999993387019892, 0.996292345069279, 0.0015013128205368473, 0.0026126205929374014, 0.0015013128205368473, 0.9989105772764999, 0.0015013128205368473, 0.00027168670300570279, 0.996292345069279, 0.0015013128205368473, 0.0015013128205368473, 0.99826876261920738, 0.99999988479111401, 0.00027168670300570279, 0.0003448905165769643, 0.99786844265619012, 0.0015013128205368473, 1.0, 0.00027168670300570279, 0.0015013128205368473, 0.9999999999993554, 0.996292345069279, 0.99786844265619012, 0.99999994631133204, 0.0015013128205368473, 0.00027168670300570279, 0.996292345069279, 0.0015013128205368473, 0.99786844265619012, 0.99999993387019892, 0.996292345069279, 0.00027168670300570279, 0.0003448905165769643, 0.99999988479111401, 0.0026126205929374014, 0.00027168670300570279, 0.0032160892293096157, 0.0015013128205368473, 0.00027168670300570279, 0.0026126205929374014, 0.99786844265619012, 0.99999993387019892, 0.0026126205929374014, 0.996292345069279, 0.0015013128205368473, 0.0015013128205368473, 0.00027168670300570279, 0.0015013128205368473, 0.0015013128205368473, 0.0015013128205368473, 0.0015013128205368473, 0.996292345069279, 0.99999988479111401, 0.99999988479111401, 0.99999993387019892, 0.0015013128205368473, 0.996292345069279, 0.0015013128205368473, 0.00027168670300570279, 0.00027168670300570279, 0.99999993387019892, 0.00058282285795677343, 0.99999999999981104, 0.00027168670300570279, 0.99707721657412096, 0.0015013128205368473, 0.0015013128205368473, 0.0015013128205368473, 0.00027168670300570279, 0.0015013128205368473, 0.0015013128205368473, 0.0015013128205368473, 0.0015013128205368473, 0.0015013128205368473, 0.99786844265619012, 0.00027168670300570279, 0.99786844265619012, 0.99999988479111401, 0.0015013128205368473, 0.0019051981884677569, 0.0015013128205368473, 0.99999994631133204, 0.99786844265619012, 0.99786844265619012, 0.0015013128205368473, 0.00047322709779604237, 0.996292345069279, 0.99999993387019892, 0.0015013128205368473, 0.0015013128205368473, 0.996292345069279, 0.0015013128205368473, 0.0015013128205368473, 0.0026126205929374014, 0.996292345069279, 0.0015013128205368473, 0.99826876261920738, 0.99999988479111401, 0.0015013128205368473, 0.99707721657412096, 0.0015013128205368473, 0.996292345069279, 0.99786844265619012, 0.99999994631133204, 0.0015013128205368473, 0.00027168670300570279, 0.00047322709779604237, 0.99999993387019892, 0.0015013128205368473, 0.99707721657412096, 0.0015013128205368473, 0.99786844265619012, 0.99786844265619012, 0.0026126205929374014, 0.9999999999993554, 0.00027168670300570279, 0.99999994631133204, 0.99786844265619012, 0.99786844265619012, 0.0032160892293096157, 0.996292345069279, 0.99999993387019892, 0.99786844265619012, 0.00058282285795677343, 0.0026126205929374014, 0.996292345069279, 0.99786844265619012, 0.00027168670300570279, 0.0015013128205368473, 0.99786844265619012, 0.00027168670300570279, 0.0026126205929374014, 0.00027168670300570279, 0.99999988479111401, 0.996292345069279, 0.0019051981884677569, 0.99786844265619012, 0.0015013128205368473, 0.996292345069279, 0.99786844265619012, 0.00058282285795677343, 0.0026126205929374014, 0.99707721657412096, 0.0015013128205368473, 0.996292345069279, 0.0019051981884677569, 0.9989105772764999, 0.99999988479111401, 0.996292345069279, 0.0015013128205368473, 0.0015013128205368473, 0.0015013128205368473, 0.996292345069279, 0.996292345069279, 0.00027168670300570279, 0.996292345069279, 0.99999993387019892, 0.99999999999981104, 0.00027168670300570279, 0.99786844265619012, 0.99999988479111401, 0.0026126205929374014, 0.0015013128205368473, 0.9999999999993554, 0.00027168670300570279, 1.0, 0.00027168670300570279, 0.99999990925111093, 0.99786844265619012, 0.00047322709779604237, 0.00027168670300570279, 0.00027168670300570279, 0.0015013128205368473, 0.996292345069279, 0.99786844265619012, 0.0015013128205368473, 0.99999988479111401, 0.996292345069279, 0.99707721657412096, 0.0019051981884677569, 0.0015013128205368473, 0.99786844265619012, 0.00047322709779604237, 0.99999993387019892, 0.0015013128205368473, 0.00027168670300570279, 0.99999996623682219, 0.996292345069279, 0.0026126205929374014, 0.0015013128205368473, 0.0019051981884677569, 0.99786844265619012, 0.9989105772764999, 0.0015013128205368473, 0.99999993387019892, 0.0015013128205368473, 0.00092645972672322427, 0.9999999999993554, 0.0026126205929374014, 0.9999999999993554, 0.00027168670300570279, 0.99786844265619012, 0.996292345069279, 0.00027168670300570279, 0.99999988479111401, 0.00027168670300570279, 0.0015013128205368473, 0.99786844265619012, 0.00027168670300570279, 0.9999999999993554, 0.996292345069279, 0.0032160892293096157, 0.0015013128205368473, 0.99999993387019892, 1.0, 0.0015013128205368473, 0.99999988479111401, 0.0019051981884677569, 0.0015013128205368473, 0.0015013128205368473, 0.0032160892293096157, 0.99786844265619012, 0.0015013128205368473, 0.0015013128205368473, 0.99707721657412096, 0.99786844265619012, 0.0015013128205368473, 0.99786844265619012, 0.99999994631133204, 0.00047322709779604237, 0.99786844265619012, 0.99786844265619012, 0.0026126205929374014, 0.99826876261920738, 0.996292345069279, 0.99999994631133204, 0.00027168670300570279, 0.99826876261920738, 0.0015013128205368473, 0.9999999999993554, 0.0015013128205368473, 0.99786844265619012, 0.996292345069279, 1.0, 0.00027168670300570279, 0.00027168670300570279, 0.00027168670300570279, 0.0015013128205368473, 0.99786844265619012, 0.996292345069279, 0.00027168670300570279, 0.99999988479111401, 0.00027168670300570279, 0.00027168670300570279, 0.0026126205929374014, 0.996292345069279, 0.99786844265619012, 0.0015013128205368473, 0.99999993387019892, 0.99999999999963007, 0.99999988479111401, 0.0019051981884677569, 0.99786844265619012, 0.00027168670300570279, 0.0015013128205368473, 0.0015013128205368473, 0.0003448905165769643, 0.996292345069279, 0.00027168670300570279, 0.996292345069279, 0.00027168670300570279, 0.99999994631133204, 0.99786844265619012, 0.0019051981884677569, 0.9999999999993554, 0.99826876261920738, 0.9999999999993554, 0.996292345069279, 0.00027168670300570279, 0.99999999999981104, 0.00027168670300570279, 0.9999999999993554, 0.99999994631133204, 0.99707721657412096, 0.0015013128205368473, 0.0015013128205368473, 0.99786844265619012, 0.0015013128205368473, 0.99999988479111401, 0.99707721657412096, 0.99786844265619012, 0.0019051981884677569, 0.99999988479111401, 0.0015013128205368473, 0.99999988479111401, 0.0015013128205368473, 0.0026126205929374014, 0.99826876261920738, 0.99786844265619012, 0.00027168670300570279, 0.0026126205929374014, 0.99826876261920738, 0.0015013128205368473, 0.996292345069279, 0.996292345069279, 0.99999988479111401, 0.00027168670300570279, 0.0015013128205368473, 0.99786844265619012, 1.0, 0.00027168670300570279, 0.99999988479111401, 0.996292345069279, 0.99707721657412096, 0.00027168670300570279, 0.0015013128205368473, 0.0015013128205368473, 0.0015013128205368473, 0.99786844265619012, 0.0026126205929374014, 0.00027168670300570279, 1.0, 0.99999993387019892, 0.00027168670300570279, 0.0015013128205368473, 0.0015013128205368473, 0.00058282285795677343, 0.0015013128205368473, 0.00027168670300570279, 0.0015013128205368473, 0.0026126205929374014, 0.0015013128205368473, 0.0015013128205368473, 0.99999999999963007, 0.996292345069279, 0.0015013128205368473, 0.99786844265619012, 0.0015013128205368473, 0.00027168670300570279, 0.99999988479111401, 0.996292345069279, 0.0015013128205368473, 0.00058282285795677343, 0.00027168670300570279, 0.00027168670300570279, 0.0015013128205368473, 1.0, 0.996292345069279, 0.99999993387019892, 0.996292345069279, 0.0032160892293096157, 0.99707721657412096, 0.99826876261920738, 0.0015013128205368473, 0.0015013128205368473, 0.99999999999963007, 0.99707721657412096, 0.9999999999993554, 0.99786844265619012, 0.0026126205929374014, 0.996292345069279, 0.996292345069279, 0.99707721657412096, 0.996292345069279, 0.00027168670300570279, 0.0015013128205368473, 0.00027168670300570279, 0.0015013128205368473, 0.996292345069279, 0.99999999999963007, 0.0015013128205368473, 0.996292345069279, 0.00027168670300570279, 0.996292345069279, 0.99786844265619012, 0.0015013128205368473, 0.99786844265619012, 0.0015013128205368473, 0.996292345069279, 0.00027168670300570279, 0.99826876261920738, 0.0015013128205368473, 0.0026126205929374014, 0.9999999999993554, 0.99999993387019892, 0.996292345069279, 0.0015013128205368473, 0.0015013128205368473, 0.0015013128205368473, 0.00027168670300570279, 0.99999999999981104, 0.00027168670300570279, 0.0015013128205368473, 0.99999988479111401, 0.996292345069279, 0.00047322709779604237, 0.996292345069279, 0.99999988479111401, 0.0015013128205368473, 0.0015013128205368473, 0.00027168670300570279, 0.99999993387019892, 0.99707721657412096, 0.996292345069279, 0.0019051981884677569, 0.99786844265619012, 0.00027168670300570279, 0.00027168670300570279, 0.99786844265619012, 0.99786844265619012, 0.00047322709779604237, 0.99826876261920738, 0.0015013128205368473, 0.99826876261920738, 0.0015013128205368473, 0.996292345069279, 0.9999999999993554, 0.99786844265619012, 0.0015013128205368473, 0.0003448905165769643, 1.0, 0.00027168670300570279, 0.99999990925111093, 0.0015013128205368473, 0.996292345069279, 0.0015013128205368473, 0.99786844265619012, 0.99999988479111401, 0.99786844265619012, 0.0015013128205368473, 0.0003448905165769643, 0.00027168670300570279, 0.996292345069279, 0.0015013128205368473, 0.99999999999963007, 0.0015013128205368473, 0.0015013128205368473, 0.00027168670300570279, 0.99999993387019892, 0.99707721657412096, 0.00027168670300570279, 0.0015013128205368473, 0.0026126205929374014, 0.9999999999993554, 0.0015013128205368473, 0.0019051981884677569, 0.99786844265619012, 0.99826876261920738, 0.00027168670300570279, 0.0019051981884677569, 0.0019051981884677569, 0.0015013128205368473, 0.99786844265619012, 0.0015013128205368473, 0.0015013128205368473, 0.00027168670300570279, 0.0015013128205368473, 0.99999996623682219, 0.0003448905165769643, 0.0015013128205368473, 0.996292345069279, 0.0015013128205368473, 0.996292345069279, 0.0015013128205368473, 0.0015013128205368473, 0.0015013128205368473, 0.99786844265619012, 0.0015013128205368473, 0.0015013128205368473, 0.0015013128205368473, 0.99999999999963007, 0.0015013128205368473, 0.00027168670300570279, 0.99999988479111401, 0.0015013128205368473, 0.996292345069279, 0.0015013128205368473, 0.99786844265619012, 0.0026126205929374014, 0.9989105772764999, 0.00027168670300570279, 0.00027168670300570279, 0.9989105772764999, 0.996292345069279, 0.99786844265619012, 0.0019051981884677569, 0.0015013128205368473, 0.9989105772764999, 0.996292345069279, 0.0015013128205368473, 0.0026126205929374014, 0.0015013128205368473, 0.9999999999993554, 0.0015013128205368473, 0.0015013128205368473, 0.00027168670300570279, 0.996292345069279, 0.99999988479111401, 0.99826876261920738, 0.0015013128205368473, 0.00058282285795677343, 0.00027168670300570279, 1.0, 1.0, 0.00047322709779604237, 0.9999999999993554, 0.996292345069279, 0.0015013128205368473, 0.00027168670300570279, 0.0015013128205368473, 0.99999988479111401, 0.996292345069279, 0.00027168670300570279, 0.99999999999981104, 0.00027168670300570279, 0.996292345069279, 0.00027168670300570279, 0.0015013128205368473, 0.0015013128205368473, 0.00058282285795677343, 0.00058282285795677343, 0.0015013128205368473, 0.00027168670300570279, 0.996292345069279, 0.0015013128205368473, 0.0015013128205368473, 0.0019051981884677569, 0.0019051981884677569, 0.99999988479111401, 1.0, 0.00027168670300570279, 0.99999999999963007, 0.0019051981884677569, 1.0, 0.00027168670300570279, 0.0026126205929374014, 0.00027168670300570279, 0.00027168670300570279, 0.99786844265619012, 0.0015013128205368473, 0.99999988479111401, 0.00027168670300570279, 0.996292345069279, 0.0051043906659934248, 0.9989105772764999, 0.99999999999963007, 0.996292345069279, 0.99826876261920738, 0.99999988479111401, 0.0026126205929374014, 0.0015013128205368473, 0.0026126205929374014, 0.00027168670300570279, 0.0026126205929374014, 0.00047322709779604237, 0.996292345069279, 0.00027168670300570279, 0.0003448905165769643, 0.0015013128205368473, 0.0015013128205368473, 0.0015013128205368473, 0.99826876261920738, 0.0015013128205368473, 0.0015013128205368473, 0.00027168670300570279, 0.00027168670300570279, 0.99707721657412096, 0.0015013128205368473, 0.996292345069279, 0.9999999999993554, 0.00027168670300570279, 0.0026126205929374014, 0.99999990925111093, 0.00027168670300570279, 0.99999994631133204, 0.0019051981884677569, 0.00027168670300570279, 0.0015013128205368473, 0.0019051981884677569, 0.996292345069279, 0.00027168670300570279, 0.0015013128205368473, 0.00027168670300570279, 0.996292345069279, 0.99999996623682219, 0.99786844265619012, 0.00027168670300570279, 0.0019051981884677569, 0.00027168670300570279, 0.0015013128205368473, 0.0015013128205368473, 0.0026126205929374014, 0.0032160892293096157, 0.0026126205929374014, 0.99707721657412096, 0.0015013128205368473, 0.996292345069279, 0.0015013128205368473, 0.00027168670300570279, 0.00027168670300570279, 0.0015013128205368473, 0.996292345069279, 0.0015013128205368473, 0.00027168670300570279, 0.99786844265619012, 0.996292345069279, 0.00027168670300570279, 0.00027168670300570279, 0.99999999999963007, 0.0003448905165769643, 0.0003448905165769643, 0.9989105772764999, 0.9999999999993554, 0.99826876261920738, 0.0015013128205368473, 0.996292345069279, 0.0015013128205368473, 0.9999999999993554, 0.0032160892293096157, 0.0015013128205368473, 0.9989105772764999, 0.996292345069279, 0.996292345069279, 0.9989105772764999, 0.0015013128205368473, 0.0032160892293096157, 0.99999988479111401, 0.0015013128205368473, 0.9999999999993554, 0.9989105772764999, 0.99707721657412096, 0.99999988479111401, 0.99786844265619012, 0.996292345069279, 0.0015013128205368473, 0.99999994631133204, 0.99786844265619012, 0.996292345069279, 0.0032160892293096157, 0.0015013128205368473, 0.99707721657412096, 0.0015013128205368473, 0.0015013128205368473, 0.00027168670300570279, 0.0015013128205368473, 0.0026126205929374014, 0.0026126205929374014, 0.99826876261920738, 0.99826876261920738, 0.99786844265619012, 0.0015013128205368473, 0.99999993387019892, 0.00027168670300570279, 0.0019051981884677569, 0.0015013128205368473, 0.99786844265619012, 0.00027168670300570279, 0.0015013128205368473, 0.99999999999969957, 0.99826876261920738, 0.996292345069279, 0.0015013128205368473, 0.996292345069279, 0.0015013128205368473, 0.99786844265619012, 0.00027168670300570279, 0.996292345069279, 0.0003448905165769643, 0.00027168670300570279, 0.00027168670300570279, 0.00027168670300570279, 0.00027168670300570279, 0.99786844265619012, 0.00027168670300570279, 0.00027168670300570279, 0.99999990925111093, 0.0015013128205368473, 0.9989105772764999, 0.0026126205929374014, 0.99707721657412096, 0.99707721657412096, 0.0019051981884677569, 0.0003448905165769643, 0.00027168670300570279, 0.99999988479111401, 0.0015013128205368473, 0.99786844265619012, 0.996292345069279, 0.99999994631133204, 1.0, 0.0015013128205368473, 0.99999994631133204, 0.00027168670300570279, 0.0015013128205368473, 0.0015013128205368473, 1.0, 0.0019051981884677569, 0.0019051981884677569, 0.0015013128205368473, 0.0015013128205368473, 0.00027168670300570279, 0.99707721657412096, 0.996292345069279, 0.996292345069279, 0.99786844265619012, 0.99999999999969957, 0.00027168670300570279, 0.99999988479111401, 0.00027168670300570279, 0.99999988479111401, 0.0015013128205368473, 0.0015013128205368473, 0.99999990925111093, 0.0015013128205368473, 0.99786844265619012, 0.00027168670300570279, 0.0015013128205368473, 0.0015013128205368473, 0.996292345069279, 0.0015013128205368473, 0.00027168670300570279, 0.0026126205929374014, 0.0019051981884677569, 0.99707721657412096, 0.996292345069279, 0.00027168670300570279, 0.0015013128205368473, 0.00047322709779604237, 0.0015013128205368473, 0.0019051981884677569, 0.99707721657412096, 0.996292345069279, 0.99786844265619012, 0.0015013128205368473, 0.99707721657412096, 0.0003448905165769643, 0.0015013128205368473, 0.0015013128205368473, 0.99999993387019892, 0.00027168670300570279, 0.00058282285795677343, 0.0015013128205368473, 0.0032160892293096157, 0.0015013128205368473, 0.0015013128205368473, 0.99999993387019892, 0.0015013128205368473, 0.00027168670300570279, 0.99786844265619012, 0.0015013128205368473, 0.0003448905165769643, 0.9989105772764999, 0.996292345069279, 0.0026126205929374014, 0.996292345069279, 0.99826876261920738, 0.0026126205929374014, 0.0015013128205368473, 0.99999993387019892, 0.0015013128205368473, 0.99786844265619012, 0.0015013128205368473, 0.99999988479111401, 0.0015013128205368473, 0.00027168670300570279, 0.0015013128205368473, 0.99826876261920738, 0.0019051981884677569, 0.996292345069279, 0.996292345069279, 0.0015013128205368473, 0.99826876261920738, 0.99999994631133204, 0.00027168670300570279, 0.99999988479111401, 0.99786844265619012, 0.0015013128205368473, 0.00027168670300570279, 0.0015013128205368473, 0.99999988479111401, 0.99999990925111093, 0.99999988479111401, 0.00027168670300570279, 0.0003448905165769643, 1.0, 0.0015013128205368473, 0.0015013128205368473, 0.99826876261920738, 0.996292345069279, 0.99999988479111401, 0.996292345069279, 0.0015013128205368473, 0.99999988479111401, 0.00027168670300570279, 1.0, 0.0015013128205368473, 0.99707721657412096, 0.996292345069279, 1.0, 0.0015013128205368473, 0.99786844265619012, 0.00027168670300570279, 0.99786844265619012, 0.00047322709779604237, 0.00027168670300570279, 0.00027168670300570279, 0.0015013128205368473, 0.99786844265619012, 0.0015013128205368473, 0.99999988479111401, 0.0015013128205368473, 0.99786844265619012, 0.00027168670300570279, 0.0026126205929374014, 1.0, 0.00027168670300570279, 0.00047322709779604237, 0.9999999999993554, 0.99826876261920738, 0.00027168670300570279, 0.0015013128205368473, 0.99707721657412096, 0.0026126205929374014, 0.99786844265619012, 0.0019051981884677569, 0.99707721657412096, 0.99786844265619012, 0.0015013128205368473, 0.996292345069279, 0.00027168670300570279, 0.9999999999993554, 0.00027168670300570279, 0.99999988479111401, 0.0015013128205368473, 0.99707721657412096, 0.00027168670300570279, 0.9989105772764999, 0.00027168670300570279, 0.0015013128205368473, 0.0015013128205368473, 0.0019051981884677569, 0.0015013128205368473, 0.0015013128205368473, 0.00027168670300570279, 0.00027168670300570279, 0.996292345069279, 0.99999999999963007, 0.0015013128205368473, 0.00027168670300570279, 0.996292345069279, 1.0, 0.99786844265619012, 1.0, 0.0015013128205368473, 0.99999993387019892, 0.0015013128205368473, 0.99999993387019892, 0.0015013128205368473, 0.0015013128205368473, 0.99786844265619012, 0.0015013128205368473, 0.0015013128205368473, 0.99999988479111401, 0.99999999999963007, 0.996292345069279, 0.99786844265619012, 1.0, 0.99786844265619012, 0.0015013128205368473, 0.00027168670300570279, 0.00027168670300570279, 0.0019051981884677569, 0.0026126205929374014, 0.0026126205929374014, 0.0015013128205368473, 0.00027168670300570279, 0.0015013128205368473, 0.0015013128205368473, 0.00027168670300570279, 0.00027168670300570279, 0.0019051981884677569, 0.0015013128205368473, 0.0026126205929374014, 0.996292345069279, 0.99999993387019892, 0.0015013128205368473, 0.00027168670300570279, 0.0015013128205368473, 0.0015013128205368473, 0.00027168670300570279, 0.0015013128205368473, 0.99999999999969957, 0.00027168670300570279, 0.99999988479111401, 0.99786844265619012, 0.996292345069279, 0.00027168670300570279, 0.0032160892293096157, 0.00027168670300570279, 0.00027168670300570279, 0.99999994631133204, 0.0015013128205368473, 0.99999993387019892, 0.996292345069279, 0.0015013128205368473, 0.99826876261920738, 0.996292345069279, 0.99999988479111401, 0.00058282285795677343, 0.99999993387019892, 0.996292345069279, 0.0015013128205368473, 0.0015013128205368473, 0.9999999999993554, 0.9989105772764999, 0.0015013128205368473, 0.0019051981884677569, 0.00027168670300570279, 0.0015013128205368473, 0.0026126205929374014, 0.00027168670300570279, 0.99826876261920738, 0.99999993387019892, 0.0015013128205368473, 0.0015013128205368473, 0.99999988479111401, 0.99707721657412096, 0.99707721657412096, 0.99826876261920738, 0.00027168670300570279, 0.0015013128205368473, 0.00027168670300570279, 0.0015013128205368473, 0.0019051981884677569, 0.996292345069279, 0.0026126205929374014, 0.996292345069279, 0.99786844265619012, 0.99999996623682219, 0.0015013128205368473, 0.99999988479111401, 0.996292345069279, 0.0003448905165769643, 0.99999990925111093, 0.99786844265619012, 0.99786844265619012, 0.0026126205929374014, 0.00027168670300570279, 0.99826876261920738, 0.00027168670300570279, 0.0015013128205368473, 0.00027168670300570279, 0.99786844265619012, 0.996292345069279, 0.00027168670300570279, 0.996292345069279, 0.99786844265619012, 0.99999993387019892, 0.00027168670300570279, 0.996292345069279, 0.99707721657412096, 0.99999999999969957, 0.99786844265619012, 0.99999988479111401, 0.99999993387019892, 0.0032160892293096157, 0.00027168670300570279, 0.00027168670300570279, 0.0015013128205368473, 0.9989105772764999, 0.00027168670300570279, 0.996292345069279, 0.99707721657412096, 0.00027168670300570279, 0.99999994631133204, 0.99999999999969957, 0.0015013128205368473, 0.0015013128205368473, 0.0015013128205368473, 0.99786844265619012, 0.99786844265619012, 0.0015013128205368473, 0.00027168670300570279, 0.0015013128205368473, 0.00092645972672322427, 0.00027168670300570279, 0.0015013128205368473, 0.99786844265619012, 0.996292345069279, 0.0015013128205368473, 0.0015013128205368473, 0.99786844265619012, 0.0015013128205368473, 0.0015013128205368473, 0.0015013128205368473, 0.00027168670300570279, 0.00047322709779604237, 0.0015013128205368473, 0.0019051981884677569, 0.9989105772764999, 0.996292345069279, 0.00027168670300570279, 0.99999993387019892, 0.0026126205929374014, 0.99999993387019892, 0.0015013128205368473, 0.99707721657412096, 0.0026126205929374014, 0.0015013128205368473, 0.99999988479111401, 0.996292345069279, 0.0015013128205368473, 0.0026126205929374014, 0.0015013128205368473, 0.0015013128205368473, 0.0015013128205368473, 0.99999988479111401, 0.99786844265619012, 0.0015013128205368473, 0.0015013128205368473, 0.0015013128205368473, 0.99999993387019892, 0.996292345069279, 0.0003448905165769643, 0.99786844265619012, 0.99999988479111401, 0.00027168670300570279, 0.996292345069279, 0.9989105772764999, 0.00027168670300570279, 0.00027168670300570279, 0.0026126205929374014, 0.0015013128205368473, 0.99786844265619012, 0.0015013128205368473, 0.0015013128205368473, 0.99999999999981104, 0.00027168670300570279, 0.0015013128205368473, 0.00027168670300570279, 0.99999996623682219, 0.00027168670300570279, 0.00027168670300570279, 0.0026126205929374014, 0.0015013128205368473, 0.99786844265619012, 0.996292345069279, 0.0026126205929374014, 0.996292345069279, 0.99826876261920738, 0.99786844265619012, 0.99999988479111401, 0.996292345069279, 0.0015013128205368473, 0.00027168670300570279, 0.99786844265619012, 0.0015013128205368473, 0.0015013128205368473, 0.0026126205929374014, 0.99786844265619012, 0.99999988479111401, 0.99999993387019892, 0.0019051981884677569, 0.0015013128205368473, 0.00027168670300570279, 0.0015013128205368473, 1.0, 0.00027168670300570279, 0.996292345069279, 0.0015013128205368473, 0.996292345069279, 0.0015013128205368473, 0.00027168670300570279, 0.0019051981884677569, 0.9989105772764999, 0.0015013128205368473, 0.0015013128205368473, 0.0019051981884677569, 0.00027168670300570279, 0.0032160892293096157, 0.996292345069279, 0.00027168670300570279, 0.0015013128205368473, 0.0015013128205368473, 0.99826876261920738, 0.99999993387019892, 0.0015013128205368473, 0.0019051981884677569, 0.996292345069279, 0.00027168670300570279, 0.99786844265619012, 0.99999996623682219, 0.99786844265619012, 0.0015013128205368473, 0.99707721657412096, 0.996292345069279, 0.99999993387019892, 0.0015013128205368473, 0.99786844265619012, 0.0015013128205368473, 0.99999988479111401, 0.00027168670300570279, 0.0026126205929374014, 1.0, 0.99826876261920738, 0.99786844265619012, 0.00027168670300570279, 0.0015013128205368473, 0.0015013128205368473, 0.99999988479111401, 0.0019051981884677569, 0.0015013128205368473, 0.0015013128205368473, 0.0015013128205368473, 0.00027168670300570279, 0.996292345069279, 0.00047322709779604237, 0.0015013128205368473, 0.0015013128205368473, 0.996292345069279, 0.9989105772764999, 0.0019051981884677569, 0.0015013128205368473, 0.9999999999993554, 0.99786844265619012, 0.0015013128205368473, 0.996292345069279, 0.99999988479111401, 0.99786844265619012, 0.0032160892293096157, 0.00027168670300570279, 0.9989105772764999, 0.0026126205929374014, 0.00027168670300570279, 0.996292345069279, 0.00027168670300570279, 0.99826876261920738, 0.996292345069279, 0.99999988479111401, 0.0015013128205368473, 0.0015013128205368473, 0.9989105772764999, 0.0015013128205368473, 0.99999993387019892, 0.99999988479111401, 0.99999990925111093, 0.00027168670300570279, 0.0015013128205368473, 0.99999988479111401, 0.99786844265619012, 0.00027168670300570279, 0.99826876261920738, 0.99786844265619012, 0.0015013128205368473, 0.0003448905165769643, 0.99999999999963007, 0.00027168670300570279, 0.996292345069279, 0.00027168670300570279, 0.99786844265619012, 0.00027168670300570279, 0.00027168670300570279, 0.99826876261920738, 0.99826876261920738, 1.0, 0.996292345069279, 0.0015013128205368473, 0.0015013128205368473, 0.00027168670300570279, 0.9999999999993554, 0.0015013128205368473, 0.0019051981884677569, 0.0015013128205368473, 0.99999988479111401, 0.0015013128205368473, 0.0026126205929374014, 0.0015013128205368473, 0.00027168670300570279, 0.0026126205929374014, 0.9999999999993554, 0.0026126205929374014, 0.0026126205929374014, 0.00027168670300570279, 0.99826876261920738, 0.0015013128205368473, 0.9999999999993554, 0.996292345069279, 0.00027168670300570279, 0.99999999999969957, 0.0015013128205368473, 0.0015013128205368473, 0.0032160892293096157, 0.00027168670300570279, 0.996292345069279, 0.996292345069279, 0.0003448905165769643, 0.00027168670300570279, 0.0015013128205368473, 0.99786844265619012, 0.996292345069279, 0.0015013128205368473, 0.99707721657412096, 0.99826876261920738, 0.99999993387019892, 0.0015013128205368473, 0.0015013128205368473, 1.0, 0.0032160892293096157, 0.99999993387019892, 0.99999988479111401, 0.0015013128205368473, 0.0015013128205368473, 0.00027168670300570279, 0.996292345069279, 0.99999993387019892, 0.996292345069279, 0.0015013128205368473, 0.00027168670300570279, 0.0015013128205368473, 0.00027168670300570279, 0.0015013128205368473, 1.0, 0.99786844265619012, 0.99999993387019892, 0.99999988479111401, 0.0026126205929374014, 0.996292345069279, 0.0015013128205368473, 0.0015013128205368473, 0.99999988479111401, 0.99707721657412096, 0.9999999999993554, 0.00027168670300570279, 0.0015013128205368473, 0.00027168670300570279, 0.0015013128205368473, 0.996292345069279, 0.00027168670300570279, 0.00027168670300570279, 0.99786844265619012, 0.9989105772764999, 0.0015013128205368473, 0.0015013128205368473, 0.99786844265619012, 0.0015013128205368473, 0.99999993387019892, 0.0015013128205368473, 0.0015013128205368473, 0.996292345069279, 0.996292345069279, 0.99999999999969957, 0.99999993387019892, 0.99826876261920738, 0.99786844265619012, 0.00027168670300570279, 0.99707721657412096, 0.0015013128205368473, 0.996292345069279, 0.0015013128205368473, 0.00027168670300570279, 0.0015013128205368473, 0.00027168670300570279, 0.9989105772764999, 0.0015013128205368473, 0.00027168670300570279, 0.0026126205929374014, 0.00027168670300570279, 0.00027168670300570279, 0.99826876261920738, 0.0015013128205368473, 0.0003448905165769643, 0.0015013128205368473, 0.99786844265619012, 0.0015013128205368473, 0.00027168670300570279, 0.9989105772764999, 0.99999988479111401, 0.996292345069279, 0.00027168670300570279, 0.00027168670300570279, 0.0015013128205368473, 0.0032160892293096157, 0.99786844265619012, 0.0032160892293096157, 0.99707721657412096, 0.9999999999993554, 0.0015013128205368473, 1.0, 0.0015013128205368473, 0.99999988479111401, 0.00047322709779604237, 0.0019051981884677569, 0.99999993387019892, 0.0019051981884677569, 0.99999993387019892, 0.00027168670300570279, 0.00027168670300570279, 0.99999999999963007, 0.99999988479111401, 0.00027168670300570279, 0.00027168670300570279, 0.99786844265619012, 0.0003448905165769643, 0.0015013128205368473, 0.0015013128205368473, 0.996292345069279, 0.0015013128205368473, 0.9989105772764999, 0.00027168670300570279, 0.996292345069279, 0.0015013128205368473, 0.00027168670300570279, 0.0015013128205368473, 0.996292345069279, 0.99999993387019892, 0.996292345069279, 0.00027168670300570279, 0.99786844265619012, 0.00027168670300570279, 0.99786844265619012, 0.0026126205929374014, 0.0026126205929374014, 0.0015013128205368473, 0.996292345069279, 0.996292345069279, 0.00027168670300570279, 0.0015013128205368473, 0.0032160892293096157, 0.996292345069279, 0.99999999999949218, 0.0015013128205368473, 0.00047322709779604237, 0.99786844265619012, 0.0015013128205368473, 0.9999999999993554, 0.00027168670300570279, 0.0015013128205368473, 0.0019051981884677569, 0.996292345069279, 0.99999988479111401, 0.9989105772764999, 0.00058282285795677343, 0.0015013128205368473, 0.996292345069279, 0.0015013128205368473, 0.99826876261920738, 0.99999999999963007, 0.0015013128205368473, 0.996292345069279, 0.99786844265619012, 0.0015013128205368473, 0.99786844265619012, 0.99826876261920738, 0.996292345069279, 0.99999988479111401, 0.996292345069279, 0.99999994631133204, 0.0015013128205368473, 0.99999990925111093, 0.99999996623682219, 0.0019051981884677569, 0.0026126205929374014, 0.0015013128205368473, 0.00027168670300570279, 0.00027168670300570279, 0.0015013128205368473, 0.996292345069279, 0.9999999999993554, 0.0026126205929374014, 0.00047322709779604237, 0.0026126205929374014, 0.0015013128205368473, 0.996292345069279, 0.00027168670300570279, 0.0032160892293096157, 0.00027168670300570279, 0.00027168670300570279, 0.00027168670300570279, 0.0015013128205368473, 0.99786844265619012, 0.996292345069279, 0.996292345069279, 0.0015013128205368473, 0.0015013128205368473, 1.0, 0.00027168670300570279, 0.996292345069279, 0.0026126205929374014, 0.99999988479111401, 0.99999993387019892, 0.00027168670300570279, 0.0015013128205368473, 1.0, 0.0015013128205368473, 0.0019051981884677569, 0.99786844265619012, 0.00027168670300570279, 0.0019051981884677569, 0.00027168670300570279, 0.9989105772764999, 0.99707721657412096, 0.0015013128205368473, 0.9999999999993554, 0.0015013128205368473, 0.99999988479111401, 0.996292345069279, 0.996292345069279, 0.0019051981884677569, 0.0003448905165769643, 0.0026126205929374014, 0.0019051981884677569, 0.00027168670300570279, 0.0032160892293096157, 0.996292345069279, 0.0032160892293096157, 0.99826876261920738, 0.99826876261920738, 0.00027168670300570279, 0.0015013128205368473, 0.0026126205929374014, 0.99999990925111093, 0.99999994631133204, 0.00027168670300570279, 0.99786844265619012, 0.99999988479111401, 0.996292345069279, 0.0015013128205368473, 0.00027168670300570279, 0.996292345069279, 0.99707721657412096, 0.0026126205929374014, 0.99786844265619012, 0.0019051981884677569, 0.0015013128205368473, 0.0015013128205368473, 0.99786844265619012, 0.0015013128205368473, 0.996292345069279, 0.0015013128205368473, 0.0015013128205368473, 0.0015013128205368473, 0.996292345069279, 0.0015013128205368473, 0.99826876261920738, 0.00047322709779604237, 0.0015013128205368473, 0.996292345069279, 0.00047322709779604237, 0.99786844265619012, 0.99786844265619012, 0.996292345069279, 0.99999999999963007, 0.0015013128205368473, 0.9989105772764999, 0.0015013128205368473, 0.00027168670300570279, 0.996292345069279, 0.0015013128205368473, 0.00027168670300570279, 0.99999988479111401, 0.0015013128205368473, 0.99999996623682219, 0.996292345069279, 0.0015013128205368473, 0.996292345069279, 0.0015013128205368473, 0.9999999999993554, 0.0015013128205368473, 0.0015013128205368473, 0.0032160892293096157, 0.996292345069279, 0.99786844265619012, 0.996292345069279, 0.00027168670300570279, 0.99826876261920738, 0.99786844265619012, 0.00027168670300570279, 0.00027168670300570279, 0.99826876261920738, 0.00027168670300570279, 0.996292345069279, 0.0015013128205368473, 0.0015013128205368473, 0.0015013128205368473, 0.99999993387019892, 0.0019051981884677569, 0.996292345069279, 0.00047322709779604237, 0.99786844265619012, 0.0015013128205368473, 0.99999988479111401, 0.0015013128205368473, 0.99999990925111093, 0.00027168670300570279, 0.996292345069279, 0.99999988479111401, 0.99999988479111401, 0.99786844265619012, 0.0032160892293096157, 0.996292345069279, 0.996292345069279, 0.0015013128205368473, 0.00027168670300570279, 0.0015013128205368473, 0.00092645972672322427, 0.996292345069279, 0.00027168670300570279, 0.00027168670300570279, 0.99786844265619012, 0.0015013128205368473, 0.0026126205929374014, 0.00027168670300570279, 0.00027168670300570279, 0.0032160892293096157, 0.0026126205929374014, 0.99999999999963007, 0.99999999999963007, 0.996292345069279, 0.00027168670300570279, 0.0015013128205368473, 0.996292345069279, 0.00027168670300570279, 0.99999988479111401, 0.0015013128205368473, 0.99786844265619012, 0.0015013128205368473, 0.0015013128205368473, 0.00027168670300570279, 0.9989105772764999, 0.0015013128205368473, 0.00027168670300570279, 0.00047322709779604237, 0.00027168670300570279, 1.0, 0.0019051981884677569, 0.996292345069279, 0.99999999999963007, 0.00027168670300570279, 0.00027168670300570279, 0.99786844265619012, 0.0015013128205368473, 0.99999993387019892, 0.99999999999981104, 0.99999988479111401, 0.00027168670300570279, 0.0003448905165769643, 0.99999999999963007, 0.996292345069279, 0.0015013128205368473, 0.0015013128205368473, 0.996292345069279, 0.9989105772764999, 0.996292345069279, 0.99826876261920738, 0.00027168670300570279, 0.9989105772764999, 0.99999990925111093, 0.0019051981884677569, 0.0026126205929374014, 0.99707721657412096, 0.0015013128205368473, 0.0015013128205368473, 0.99999988479111401, 0.00027168670300570279, 0.99786844265619012, 0.996292345069279, 0.00027168670300570279, 0.00027168670300570279, 0.99786844265619012, 0.0015013128205368473, 0.0026126205929374014, 0.99707721657412096, 0.00027168670300570279, 0.0015013128205368473, 0.00047322709779604237, 0.0015013128205368473, 0.00027168670300570279, 0.00027168670300570279, 0.996292345069279, 0.9989105772764999, 0.00027168670300570279, 0.0015013128205368473, 0.0015013128205368473, 0.9999999999993554, 0.0019051981884677569, 0.99786844265619012, 0.00027168670300570279, 0.0015013128205368473, 0.996292345069279, 0.00027168670300570279, 1.0, 0.00027168670300570279, 1.0, 0.99999993387019892, 0.00027168670300570279, 0.996292345069279, 0.0019051981884677569, 0.0015013128205368473, 0.99999999999949218, 0.00027168670300570279, 0.99999999999963007, 1.0, 0.0015013128205368473, 0.0026126205929374014, 0.0026126205929374014, 0.0015013128205368473, 0.0019051981884677569, 0.0026126205929374014, 0.996292345069279, 0.00027168670300570279, 0.99999999999963007, 0.0019051981884677569, 0.00027168670300570279, 0.0015013128205368473, 0.0015013128205368473, 0.99786844265619012, 0.00047322709779604237, 0.00027168670300570279, 0.99786844265619012, 0.996292345069279, 0.0032160892293096157, 0.00027168670300570279, 0.99786844265619012, 0.99786844265619012, 0.99786844265619012, 0.996292345069279, 0.996292345069279, 0.0015013128205368473, 0.00092645972672322427, 0.00027168670300570279, 0.996292345069279, 0.00027168670300570279, 0.00027168670300570279, 0.00027168670300570279, 0.0015013128205368473, 0.00027168670300570279, 0.99999988479111401, 0.00058282285795677343, 0.99786844265619012, 0.0003448905165769643, 0.0015013128205368473, 0.0015013128205368473, 0.0019051981884677569, 0.9989105772764999, 0.9989105772764999, 0.99999999999963007, 0.0019051981884677569, 0.99999988479111401, 0.0015013128205368473, 0.996292345069279, 0.0026126205929374014, 0.0015013128205368473, 0.99786844265619012, 0.0015013128205368473, 0.00027168670300570279, 0.996292345069279, 0.99999993387019892, 0.9999999999993554, 0.0019051981884677569, 0.0003448905165769643, 0.996292345069279, 0.99999988479111401, 0.99786844265619012, 0.99999993387019892, 0.99999999999963007, 0.00027168670300570279, 0.99999996623682219, 0.9989105772764999, 0.996292345069279, 0.0003448905165769643, 0.0019051981884677569, 0.0015013128205368473, 0.996292345069279, 0.0026126205929374014, 0.996292345069279, 0.99999988479111401, 0.00027168670300570279, 0.99707721657412096, 0.00027168670300570279, 0.0051043906659934248, 0.0015013128205368473, 0.00027168670300570279, 0.99999988479111401, 0.0026126205929374014, 0.9999999999993554, 0.0015013128205368473, 0.9999999999993554, 0.0015013128205368473, 0.00027168670300570279, 0.0003448905165769643, 0.0003448905165769643, 0.0032160892293096157, 0.99999994631133204, 0.00027168670300570279, 0.0032160892293096157, 0.996292345069279, 0.99707721657412096, 0.0015013128205368473, 0.0015013128205368473, 0.0019051981884677569, 0.00027168670300570279, 0.0015013128205368473, 0.0015013128205368473, 0.996292345069279, 0.99999988479111401, 0.9999999999993554, 0.0015013128205368473, 0.99786844265619012, 0.996292345069279, 0.00027168670300570279, 0.996292345069279, 0.0019051981884677569, 0.00047322709779604237, 0.0019051981884677569, 0.9989105772764999, 0.99999988479111401, 0.00027168670300570279, 0.00027168670300570279, 0.9999999999993554, 0.99786844265619012, 0.99826876261920738, 0.99999988479111401, 0.00027168670300570279, 0.0015013128205368473, 0.99999988479111401, 0.00027168670300570279, 0.0015013128205368473, 0.00027168670300570279, 0.0015013128205368473, 0.996292345069279, 0.99999988479111401, 1.0, 0.0026126205929374014, 0.00027168670300570279, 0.99826876261920738, 0.0015013128205368473, 0.0015013128205368473, 0.996292345069279, 0.996292345069279, 0.99999996623682219, 0.0015013128205368473, 0.00027168670300570279, 0.996292345069279, 0.00027168670300570279, 0.99786844265619012, 0.00047322709779604237, 0.0032160892293096157, 0.00027168670300570279, 0.996292345069279, 0.996292345069279, 0.00058282285795677343, 0.0015013128205368473, 0.99826876261920738, 0.99999988479111401, 0.0015013128205368473, 0.00027168670300570279, 0.0015013128205368473, 0.9999999999993554, 0.99786844265619012, 0.0015013128205368473, 0.99999993387019892, 0.99786844265619012, 0.0019051981884677569, 0.99786844265619012, 0.0019051981884677569, 0.0015013128205368473, 0.0015013128205368473, 0.0003448905165769643, 0.99999993387019892, 0.0015013128205368473, 0.0015013128205368473, 0.0015013128205368473, 0.0015013128205368473, 0.996292345069279, 0.99999988479111401, 0.0015013128205368473, 0.00047322709779604237, 0.0015013128205368473, 0.00027168670300570279, 0.0015013128205368473, 0.99786844265619012, 0.0015013128205368473, 0.99999993387019892, 0.996292345069279, 0.00027168670300570279, 0.0015013128205368473, 0.00027168670300570279, 0.0015013128205368473, 0.99999994631133204, 0.00027168670300570279, 0.0026126205929374014, 0.0015013128205368473, 0.00027168670300570279, 0.0015013128205368473, 0.00027168670300570279, 0.99786844265619012, 0.996292345069279, 0.996292345069279, 0.0015013128205368473, 0.00027168670300570279, 0.00027168670300570279, 0.00027168670300570279, 0.99999988479111401, 0.9989105772764999, 0.99786844265619012, 0.99999999999981104, 0.0015013128205368473, 0.00047322709779604237, 0.0015013128205368473, 0.0026126205929374014, 0.99786844265619012, 0.00027168670300570279, 0.99826876261920738, 0.99786844265619012, 0.0015013128205368473, 0.99786844265619012, 0.99999993387019892, 0.0015013128205368473, 0.0026126205929374014, 0.0019051981884677569, 0.0015013128205368473, 0.99786844265619012, 0.99999988479111401, 0.99999988479111401, 0.9989105772764999, 0.996292345069279, 0.99999996623682219, 0.00027168670300570279, 0.0015013128205368473, 0.0026126205929374014, 0.99999988479111401, 0.0015013128205368473, 0.99786844265619012, 0.0015013128205368473, 0.0026126205929374014, 0.0015013128205368473, 0.00027168670300570279, 0.0026126205929374014, 0.996292345069279, 0.0015013128205368473, 0.0015013128205368473, 0.0015013128205368473, 0.996292345069279, 0.0015013128205368473, 0.0026126205929374014, 0.00027168670300570279, 0.9999999999993554, 0.9989105772764999, 0.99999993387019892, 0.0026126205929374014, 0.996292345069279, 0.0015013128205368473, 0.0015013128205368473, 0.0015013128205368473, 0.0015013128205368473, 0.0015013128205368473, 0.996292345069279, 0.99999993387019892, 0.0015013128205368473, 0.0015013128205368473, 1.0, 0.00027168670300570279, 0.00027168670300570279, 0.0003448905165769643, 0.0026126205929374014, 0.996292345069279, 0.0015013128205368473, 0.99999993387019892, 0.0015013128205368473, 0.0015013128205368473, 0.9999999999993554, 0.0015013128205368473, 0.0032160892293096157, 0.0015013128205368473, 0.0026126205929374014, 0.99999990925111093, 0.0015013128205368473, 0.0015013128205368473, 0.9989105772764999, 0.0015013128205368473, 0.0015013128205368473, 0.99786844265619012, 0.00027168670300570279, 0.99786844265619012, 0.99786844265619012, 1.0, 0.996292345069279, 0.00027168670300570279, 0.99826876261920738, 0.0015013128205368473, 0.0015013128205368473, 0.996292345069279, 0.0015013128205368473, 0.0015013128205368473, 0.996292345069279, 0.99786844265619012, 0.0015013128205368473, 0.00027168670300570279, 0.0026126205929374014, 0.0019051981884677569, 0.00027168670300570279, 0.99999993387019892, 0.9999999999993554, 1.0, 0.0015013128205368473, 0.00027168670300570279, 0.0015013128205368473, 0.0026126205929374014, 0.00027168670300570279, 0.00027168670300570279, 0.99786844265619012, 0.0003448905165769643, 0.996292345069279, 0.99786844265619012, 0.99786844265619012, 0.9999999999993554, 0.0015013128205368473, 0.99999993387019892, 0.00027168670300570279, 0.99826876261920738, 0.00027168670300570279, 0.0051043906659934248, 1.0, 0.99786844265619012, 0.0015013128205368473, 0.00027168670300570279, 0.00027168670300570279, 0.00027168670300570279, 0.99999988479111401, 0.0015013128205368473, 0.99999988479111401, 0.00058282285795677343, 1.0, 0.0015013128205368473, 0.99786844265619012, 0.9999999999993554, 0.00027168670300570279, 0.99786844265619012, 0.0026126205929374014, 0.99786844265619012, 0.0026126205929374014, 0.0015013128205368473, 0.0015013128205368473, 0.996292345069279, 0.00027168670300570279, 0.0015013128205368473, 0.99786844265619012, 0.996292345069279, 0.0015013128205368473, 0.996292345069279, 0.9999999999993554, 0.0015013128205368473, 0.0015013128205368473, 0.0015013128205368473, 0.996292345069279, 0.99999988479111401, 0.0015013128205368473, 0.99786844265619012, 0.996292345069279, 0.00047322709779604237, 0.0015013128205368473, 0.99999988479111401, 0.99999988479111401, 0.99999999999963007, 0.99999988479111401, 0.99826876261920738, 0.00027168670300570279, 0.0015013128205368473, 0.9999999999993554, 0.99999993387019892, 0.996292345069279, 0.99707721657412096, 0.99786844265619012, 0.0019051981884677569, 0.99826876261920738, 0.996292345069279, 0.0015013128205368473, 0.0015013128205368473, 0.9989105772764999, 0.9989105772764999, 0.0019051981884677569, 0.996292345069279, 0.0019051981884677569, 1.0, 0.0015013128205368473, 0.99786844265619012, 0.00027168670300570279, 0.0015013128205368473, 0.996292345069279, 1.0, 0.996292345069279, 0.0015013128205368473, 0.996292345069279, 0.0015013128205368473, 0.99786844265619012, 0.9999999999993554, 0.996292345069279, 0.99999988479111401, 1.0, 0.0015013128205368473, 0.9999999999993554, 0.99999999999963007, 0.00027168670300570279, 0.0015013128205368473, 0.00047322709779604237, 0.00027168670300570279, 0.00027168670300570279, 0.00027168670300570279, 0.99999988479111401, 0.0015013128205368473, 0.00027168670300570279, 0.0026126205929374014, 0.99999988479111401, 0.0015013128205368473, 0.0015013128205368473, 0.0015013128205368473, 0.00027168670300570279, 0.0015013128205368473, 0.996292345069279, 0.99786844265619012, 0.0015013128205368473, 0.0015013128205368473, 0.0015013128205368473, 0.99999988479111401, 0.0015013128205368473, 0.00027168670300570279, 0.0015013128205368473, 0.0015013128205368473, 0.0015013128205368473, 0.996292345069279, 0.99999999999963007, 0.0015013128205368473, 0.0015013128205368473, 0.0015013128205368473, 0.00027168670300570279, 0.99786844265619012, 0.0026126205929374014, 0.99786844265619012, 0.0015013128205368473, 0.0019051981884677569, 0.99786844265619012, 0.00027168670300570279, 0.0015013128205368473, 0.99999990925111093, 0.99999988479111401, 0.996292345069279, 0.99786844265619012, 0.996292345069279, 0.0019051981884677569, 0.9999999999993554, 0.99999990925111093, 1.0, 0.0015013128205368473, 0.996292345069279, 0.996292345069279, 0.0019051981884677569, 0.996292345069279, 0.0015013128205368473, 0.00027168670300570279, 0.99786844265619012, 0.0015013128205368473, 0.00027168670300570279, 0.00027168670300570279, 0.00027168670300570279, 0.0015013128205368473, 0.996292345069279, 0.99999999999981104, 0.99999994631133204, 0.996292345069279, 0.99999999999949218, 0.9999999999993554, 0.99999994631133204, 0.0015013128205368473, 0.9999999999993554, 0.00027168670300570279, 0.0015013128205368473, 0.996292345069279, 0.0015013128205368473, 0.996292345069279, 0.99999988479111401, 0.9989105772764999, 0.00047322709779604237, 0.00027168670300570279, 0.99786844265619012, 0.0015013128205368473, 0.0015013128205368473, 0.00027168670300570279, 0.996292345069279, 0.99999999999969957, 0.99999999999963007, 0.0015013128205368473, 0.996292345069279, 0.996292345069279, 0.99826876261920738, 0.0015013128205368473, 0.99707721657412096, 0.99786844265619012, 0.996292345069279, 0.0015013128205368473, 0.99999988479111401, 0.0003448905165769643, 0.996292345069279, 0.00027168670300570279, 0.0015013128205368473, 0.996292345069279, 0.99786844265619012, 0.0015013128205368473, 0.0015013128205368473, 0.0015013128205368473, 0.996292345069279, 0.0015013128205368473, 0.99999993387019892, 0.00027168670300570279, 0.00027168670300570279, 0.0015013128205368473, 0.996292345069279, 0.0015013128205368473, 0.0015013128205368473, 0.9999999999993554, 0.99999996623682219, 0.00027168670300570279, 0.996292345069279, 0.996292345069279, 0.00027168670300570279, 0.99786844265619012, 0.0015013128205368473, 0.996292345069279, 0.0015013128205368473, 0.99999993387019892, 0.0015013128205368473, 0.99999993387019892, 0.00027168670300570279, 0.99999988479111401, 0.0003448905165769643, 0.0015013128205368473, 0.00027168670300570279, 0.0015013128205368473, 0.0015013128205368473, 0.996292345069279, 0.0015013128205368473, 0.0015013128205368473, 0.0015013128205368473, 0.0019051981884677569, 0.0015013128205368473, 0.99999988479111401, 0.99999988479111401, 0.996292345069279, 0.0032160892293096157, 0.00027168670300570279, 0.0015013128205368473, 0.0015013128205368473, 0.99999994631133204, 0.0032160892293096157, 0.99707721657412096, 0.00027168670300570279, 0.99826876261920738, 0.0026126205929374014, 0.0019051981884677569, 0.996292345069279, 0.99786844265619012, 0.996292345069279, 0.00027168670300570279, 0.00027168670300570279, 0.0003448905165769643, 0.99786844265619012, 0.9999999999993554, 0.0003448905165769643, 0.00047322709779604237, 0.9999999999993554, 0.0015013128205368473, 0.0015013128205368473, 0.0015013128205368473, 0.99999988479111401, 0.00027168670300570279, 0.0015013128205368473, 0.00027168670300570279, 0.99999994631133204, 0.9989105772764999, 0.0015013128205368473, 0.99999988479111401, 0.996292345069279, 0.996292345069279, 0.0019051981884677569, 0.00027168670300570279, 0.99999988479111401, 0.996292345069279, 0.0015013128205368473, 0.99999990925111093, 0.0015013128205368473, 0.00027168670300570279, 0.00027168670300570279, 0.99999993387019892, 0.996292345069279, 0.99786844265619012, 0.99999993387019892, 0.0015013128205368473, 0.99786844265619012, 0.99707721657412096, 0.00027168670300570279, 0.0015013128205368473, 0.00027168670300570279, 0.996292345069279, 0.0015013128205368473, 0.0026126205929374014, 0.00027168670300570279, 0.0019051981884677569, 0.0015013128205368473, 0.00027168670300570279, 0.00027168670300570279, 0.99786844265619012, 0.0015013128205368473, 0.0015013128205368473, 0.00027168670300570279, 0.99707721657412096, 0.99826876261920738, 0.9989105772764999, 0.99999999999963007, 0.9999999999993554, 0.996292345069279, 0.0015013128205368473, 0.0032160892293096157, 0.00027168670300570279, 1.0, 0.99826876261920738, 0.0015013128205368473, 0.0026126205929374014, 0.0015013128205368473, 0.00027168670300570279, 0.99999993387019892, 0.0015013128205368473, 1.0, 0.996292345069279, 0.99999988479111401, 0.996292345069279, 0.99999993387019892, 0.0015013128205368473, 0.99707721657412096, 0.0015013128205368473, 0.99707721657412096, 0.00027168670300570279, 0.9999999999993554, 0.996292345069279, 0.00027168670300570279, 0.0015013128205368473, 0.00058282285795677343, 0.99826876261920738, 0.0019051981884677569, 0.0032160892293096157, 0.0015013128205368473, 0.99786844265619012, 0.00027168670300570279, 0.0015013128205368473, 0.99999993387019892, 0.0026126205929374014, 0.0015013128205368473, 0.99999988479111401, 0.0015013128205368473, 0.0015013128205368473, 0.996292345069279, 0.996292345069279, 0.99826876261920738, 0.9999999999993554, 0.99786844265619012, 0.99999994631133204, 0.99999999999963007, 0.99999993387019892, 1.0, 0.996292345069279, 0.0015013128205368473, 0.00027168670300570279, 0.0026126205929374014, 0.99999990925111093, 0.00027168670300570279, 0.0015013128205368473, 0.0015013128205368473, 0.996292345069279, 0.0015013128205368473, 0.996292345069279, 0.00027168670300570279, 0.00047322709779604237, 0.996292345069279, 0.99786844265619012, 0.99786844265619012, 0.9999999999993554, 0.0026126205929374014, 0.99999994631133204, 0.00027168670300570279, 0.996292345069279, 0.99999994631133204, 0.0015013128205368473, 0.996292345069279, 0.99786844265619012, 0.99999988479111401, 0.996292345069279, 0.0019051981884677569, 1.0, 0.00047322709779604237, 0.0015013128205368473, 0.99786844265619012, 0.0015013128205368473, 0.99999990925111093, 0.99707721657412096, 0.0003448905165769643, 0.99707721657412096, 0.996292345069279, 0.00027168670300570279, 0.99826876261920738, 0.00027168670300570279, 0.0015013128205368473, 0.99999999999981104, 0.0015013128205368473, 0.00027168670300570279, 0.99707721657412096, 0.99999990925111093, 0.996292345069279, 0.996292345069279, 0.99999988479111401, 0.99786844265619012, 0.0019051981884677569, 0.9989105772764999, 0.996292345069279, 0.99999988479111401, 0.0015013128205368473, 0.0015013128205368473, 0.0003448905165769643, 0.00027168670300570279, 0.99707721657412096, 0.99999990925111093, 0.996292345069279, 0.99999988479111401, 0.99707721657412096, 0.0015013128205368473, 1.0, 0.00027168670300570279, 0.0015013128205368473, 0.0015013128205368473, 0.99999993387019892, 0.99999988479111401, 0.996292345069279, 0.99786844265619012, 0.0015013128205368473, 0.99786844265619012, 0.99999999999969957, 0.996292345069279, 0.99826876261920738, 0.0015013128205368473, 0.00047322709779604237, 0.0015013128205368473, 0.0015013128205368473, 0.99826876261920738, 0.0019051981884677569, 0.996292345069279, 0.00058282285795677343, 0.99999993387019892, 0.99786844265619012, 0.996292345069279, 0.99999988479111401, 0.00058282285795677343, 0.00027168670300570279, 0.99999990925111093, 0.00027168670300570279, 0.0019051981884677569, 0.0015013128205368473, 0.99707721657412096, 0.99786844265619012, 0.0026126205929374014, 0.99707721657412096, 0.996292345069279, 0.0015013128205368473, 1.0, 0.0015013128205368473, 0.0026126205929374014, 0.9989105772764999, 0.996292345069279, 0.00027168670300570279, 0.0015013128205368473, 0.0015013128205368473, 0.996292345069279, 0.99999999999963007, 0.0015013128205368473, 0.9999999999993554, 0.0032160892293096157, 0.996292345069279, 0.0015013128205368473, 0.00027168670300570279, 0.99999994631133204, 0.99999988479111401, 0.0015013128205368473, 0.00027168670300570279, 0.0015013128205368473, 0.0026126205929374014, 0.996292345069279, 0.99999999999963007, 0.99999988479111401, 0.996292345069279, 0.996292345069279, 0.99786844265619012, 0.9999999999993554, 0.00092645972672322427, 0.0019051981884677569, 0.00027168670300570279, 0.0015013128205368473, 0.0015013128205368473, 0.00027168670300570279, 0.996292345069279, 0.00027168670300570279, 0.99999993387019892, 0.99999988479111401, 0.99999988479111401, 0.0026126205929374014, 0.99999988479111401, 0.0015013128205368473, 0.0015013128205368473, 0.0015013128205368473, 1.0, 0.0015013128205368473, 0.00027168670300570279, 0.0015013128205368473, 0.00027168670300570279, 0.996292345069279, 0.99786844265619012, 0.00027168670300570279, 0.996292345069279, 0.996292345069279, 0.00027168670300570279, 0.0015013128205368473, 0.996292345069279, 0.0019051981884677569, 0.9999999999993554, 0.0015013128205368473, 0.996292345069279, 0.00027168670300570279, 0.99786844265619012, 0.996292345069279, 0.0015013128205368473, 0.0015013128205368473, 0.99826876261920738, 0.0015013128205368473, 0.99999993387019892, 0.99999988479111401, 0.996292345069279, 0.99999988479111401, 0.0015013128205368473, 0.9989105772764999, 0.0026126205929374014, 0.00027168670300570279, 1.0, 0.996292345069279, 0.996292345069279, 0.0015013128205368473, 0.99999996623682219, 0.00027168670300570279, 0.996292345069279, 0.99786844265619012, 0.99786844265619012, 0.99786844265619012, 0.99999993387019892, 0.00027168670300570279, 0.00027168670300570279, 0.99999988479111401, 0.99707721657412096, 0.996292345069279, 0.99999988479111401, 0.0015013128205368473, 0.996292345069279, 0.996292345069279, 0.0015013128205368473, 0.99707721657412096, 0.00047322709779604237, 0.99786844265619012, 0.996292345069279, 0.00027168670300570279, 0.0015013128205368473, 0.99999999999981104, 1.0, 0.99786844265619012, 0.99999988479111401, 0.996292345069279, 1.0, 0.00027168670300570279, 0.99786844265619012, 0.0032160892293096157, 0.00027168670300570279, 0.00027168670300570279, 0.0015013128205368473, 0.99786844265619012, 0.0015013128205368473, 0.0026126205929374014, 0.99999988479111401, 0.99999996623682219, 0.99707721657412096, 0.9989105772764999, 0.0015013128205368473, 0.0015013128205368473, 0.996292345069279, 0.0015013128205368473, 0.996292345069279, 0.996292345069279, 0.00027168670300570279, 0.99999993387019892, 0.0015013128205368473, 0.0019051981884677569, 0.00027168670300570279, 0.00027168670300570279, 0.996292345069279, 0.00047322709779604237, 0.0019051981884677569, 0.0015013128205368473, 0.99999988479111401, 0.99999988479111401, 0.00047322709779604237, 0.996292345069279, 0.99786844265619012, 0.0026126205929374014, 1.0, 0.99999993387019892, 0.0015013128205368473, 0.99786844265619012, 0.99786844265619012, 0.996292345069279, 0.0015013128205368473, 0.00027168670300570279, 0.00058282285795677343, 1.0, 0.0015013128205368473, 0.996292345069279, 0.996292345069279, 0.99999993387019892, 0.996292345069279, 0.0003448905165769643, 0.0015013128205368473, 0.0019051981884677569, 0.99999988479111401, 0.0015013128205368473, 0.99786844265619012, 0.99999988479111401, 0.99999996623682219, 0.0015013128205368473, 0.0015013128205368473, 0.00027168670300570279, 0.0015013128205368473, 0.00027168670300570279, 0.996292345069279, 0.00027168670300570279, 0.0026126205929374014, 0.99707721657412096, 0.996292345069279, 0.00027168670300570279, 0.00027168670300570279, 0.996292345069279, 0.00058282285795677343, 0.0026126205929374014, 0.9999999999993554, 0.0015013128205368473, 0.99826876261920738, 0.00027168670300570279, 0.0015013128205368473, 0.996292345069279, 0.00027168670300570279, 0.0015013128205368473, 0.00027168670300570279, 0.0026126205929374014, 0.0032160892293096157, 0.0015013128205368473, 0.99999988479111401, 0.99999999999963007, 0.99786844265619012, 0.9999999999993554, 0.00047322709779604237, 1.0, 0.0051043906659934248, 0.99999993387019892, 0.0015013128205368473, 0.0015013128205368473, 0.99999996623682219, 0.0015013128205368473, 0.0015013128205368473, 0.00027168670300570279, 0.0015013128205368473, 0.0015013128205368473, 0.99707721657412096, 0.99786844265619012, 0.0026126205929374014, 0.99999993387019892, 0.996292345069279, 0.0015013128205368473, 0.996292345069279, 0.00027168670300570279, 0.0015013128205368473, 0.99999999999963007, 0.99826876261920738, 0.99999990925111093, 0.0026126205929374014, 0.996292345069279, 0.99826876261920738, 0.0019051981884677569, 0.99826876261920738, 0.0015013128205368473, 0.0015013128205368473, 0.00027168670300570279, 0.0015013128205368473, 0.99786844265619012, 0.996292345069279, 0.0032160892293096157, 0.0015013128205368473, 0.9999999999993554, 0.0019051981884677569, 0.0015013128205368473, 0.0015013128205368473, 0.0015013128205368473, 0.0015013128205368473, 0.99999993387019892, 0.00092645972672322427, 0.00047322709779604237, 0.0026126205929374014, 0.00027168670300570279, 0.9989105772764999, 0.00058282285795677343, 0.00027168670300570279, 0.99999993387019892, 1.0, 0.0015013128205368473, 0.99786844265619012, 0.00027168670300570279, 0.996292345069279, 0.00027168670300570279, 0.00027168670300570279, 0.0026126205929374014, 0.99999996623682219, 0.0015013128205368473, 0.99786844265619012, 0.996292345069279, 0.0003448905165769643, 0.99999996623682219, 0.0015013128205368473, 1.0, 0.00027168670300570279, 0.99826876261920738, 0.0015013128205368473, 0.0019051981884677569, 0.996292345069279, 0.00027168670300570279, 0.99707721657412096, 0.99786844265619012, 0.0015013128205368473, 0.0015013128205368473, 0.0026126205929374014, 0.0026126205929374014, 0.0032160892293096157, 0.0003448905165769643, 1.0, 0.0003448905165769643, 0.0015013128205368473, 0.00047322709779604237, 0.0015013128205368473, 0.996292345069279, 0.996292345069279, 0.00027168670300570279, 0.9989105772764999, 0.0015013128205368473, 0.996292345069279, 0.0015013128205368473, 0.0015013128205368473, 0.996292345069279, 0.0015013128205368473, 0.99786844265619012, 0.0015013128205368473, 0.0015013128205368473, 0.99786844265619012, 0.00027168670300570279, 0.99786844265619012, 0.00027168670300570279, 0.0015013128205368473, 0.99999988479111401, 0.99999988479111401, 0.00027168670300570279, 0.9989105772764999, 0.99786844265619012, 0.00027168670300570279, 0.996292345069279, 0.00047322709779604237, 0.0015013128205368473, 0.996292345069279, 0.9989105772764999, 0.99786844265619012, 0.0026126205929374014, 0.00027168670300570279, 0.99826876261920738, 0.996292345069279, 0.996292345069279, 0.996292345069279, 0.0015013128205368473, 0.00027168670300570279, 0.0019051981884677569, 0.99999988479111401, 1.0, 0.0015013128205368473, 0.99826876261920738, 0.0015013128205368473, 0.99999993387019892, 0.00027168670300570279, 0.0015013128205368473, 0.0015013128205368473, 0.0015013128205368473, 0.99786844265619012, 0.0015013128205368473, 0.00027168670300570279, 0.0015013128205368473, 0.0026126205929374014, 0.99999999999969957, 0.9989105772764999, 0.99999999999969957, 0.00027168670300570279, 0.00027168670300570279, 0.99826876261920738, 0.0015013128205368473, 0.99999988479111401, 0.00047322709779604237, 0.996292345069279, 0.0015013128205368473, 0.99826876261920738, 0.0019051981884677569, 0.00027168670300570279, 0.99786844265619012, 0.0015013128205368473, 0.99707721657412096, 0.0015013128205368473, 0.0019051981884677569, 0.99999988479111401, 0.99999988479111401, 1.0, 0.0015013128205368473, 0.00047322709779604237, 0.00027168670300570279, 0.00027168670300570279, 0.996292345069279, 0.99999999999963007, 0.0015013128205368473, 0.0026126205929374014, 0.0015013128205368473, 0.996292345069279, 0.0015013128205368473, 0.00027168670300570279, 0.996292345069279, 0.99999993387019892, 0.99786844265619012, 0.0015013128205368473, 0.99826876261920738, 0.0015013128205368473, 0.00027168670300570279, 0.99999988479111401, 0.0015013128205368473, 0.9999999999993554, 0.996292345069279, 0.99826876261920738, 0.99786844265619012, 0.996292345069279, 0.0015013128205368473, 0.0003448905165769643, 0.00027168670300570279, 0.0015013128205368473, 0.99999988479111401, 1.0, 0.0015013128205368473, 0.0015013128205368473, 0.99999993387019892, 0.0019051981884677569, 0.00027168670300570279, 0.99999993387019892, 0.9989105772764999, 0.0015013128205368473, 0.0015013128205368473, 0.0015013128205368473, 0.00027168670300570279, 0.99707721657412096, 0.0019051981884677569, 0.99999999999949218, 0.99786844265619012, 0.99999990925111093, 0.0015013128205368473, 0.996292345069279, 0.99999988479111401, 0.0015013128205368473, 0.00027168670300570279, 0.9989105772764999, 0.00047322709779604237, 0.0026126205929374014, 0.99786844265619012, 0.0015013128205368473, 0.99999988479111401, 0.9989105772764999, 0.0015013128205368473, 0.0015013128205368473, 0.0015013128205368473, 0.996292345069279, 0.0015013128205368473, 0.996292345069279, 0.00027168670300570279, 0.99786844265619012, 0.996292345069279, 0.0015013128205368473, 0.0026126205929374014, 0.99999988479111401, 0.00027168670300570279, 0.996292345069279, 0.0015013128205368473, 0.0015013128205368473, 0.0015013128205368473, 0.9999999999993554, 0.996292345069279, 0.996292345069279, 0.996292345069279, 0.0015013128205368473, 0.9989105772764999, 0.0015013128205368473, 0.99999988479111401, 0.99786844265619012, 0.0015013128205368473, 0.0015013128205368473, 0.996292345069279, 0.99999988479111401, 0.0019051981884677569, 0.00027168670300570279, 0.99999993387019892, 0.9989105772764999, 0.99786844265619012, 0.0015013128205368473, 0.0015013128205368473, 1.0, 0.0015013128205368473, 0.0015013128205368473, 0.99999990925111093, 0.99999993387019892, 0.0019051981884677569, 0.99999999999963007, 0.0015013128205368473, 0.0015013128205368473, 1.0, 0.0026126205929374014, 0.0015013128205368473, 0.99826876261920738, 0.0015013128205368473, 0.00027168670300570279, 0.99786844265619012, 0.00027168670300570279, 0.99786844265619012, 0.00027168670300570279, 0.0032160892293096157, 0.0015013128205368473, 0.996292345069279, 0.99707721657412096, 0.996292345069279, 0.99707721657412096, 0.99786844265619012, 0.99786844265619012, 0.00027168670300570279, 0.0003448905165769643, 0.00047322709779604237, 0.996292345069279, 0.0003448905165769643, 0.0015013128205368473, 0.0015013128205368473, 0.0015013128205368473, 0.0015013128205368473, 0.0019051981884677569, 0.99826876261920738, 0.0019051981884677569, 0.996292345069279, 0.0015013128205368473, 0.99999994631133204, 0.99707721657412096, 0.0015013128205368473, 0.99999988479111401, 0.99999996623682219, 0.0015013128205368473, 0.0015013128205368473, 0.0019051981884677569, 0.99786844265619012, 0.99826876261920738, 0.99999988479111401, 0.99786844265619012, 0.00047322709779604237, 0.99999988479111401, 0.0015013128205368473, 0.9999999999993554, 0.99786844265619012, 0.99786844265619012, 0.00047322709779604237, 0.996292345069279, 0.996292345069279, 0.0015013128205368473, 0.0026126205929374014, 0.00027168670300570279, 0.99999988479111401, 0.996292345069279, 0.99999988479111401, 0.0015013128205368473, 0.0015013128205368473, 0.99826876261920738, 0.0019051981884677569, 0.0015013128205368473, 0.00027168670300570279, 0.0015013128205368473, 0.0015013128205368473, 0.00027168670300570279, 0.0003448905165769643, 0.00027168670300570279, 0.0015013128205368473, 0.99826876261920738, 0.9989105772764999, 0.0015013128205368473, 0.996292345069279, 0.00027168670300570279, 0.9989105772764999, 0.99999988479111401, 1.0, 0.0015013128205368473, 0.0026126205929374014, 0.996292345069279, 0.99826876261920738, 0.0015013128205368473, 0.00027168670300570279, 0.00047322709779604237, 0.0015013128205368473, 0.00027168670300570279, 0.0019051981884677569, 0.9989105772764999, 0.0015013128205368473, 0.996292345069279, 0.996292345069279, 0.0015013128205368473, 0.00027168670300570279, 0.99786844265619012, 0.00027168670300570279, 0.99999999999963007, 0.00027168670300570279, 0.99999993387019892, 0.00027168670300570279, 0.99786844265619012, 0.9989105772764999, 0.99999988479111401, 0.0015013128205368473, 0.996292345069279, 0.0003448905165769643, 0.0019051981884677569, 0.0015013128205368473, 0.9989105772764999, 0.0015013128205368473, 0.0015013128205368473, 0.996292345069279, 0.00027168670300570279, 0.99786844265619012, 0.00027168670300570279, 0.996292345069279, 0.99999996623682219, 0.99786844265619012, 0.99999988479111401, 0.0015013128205368473, 0.0015013128205368473, 0.996292345069279, 0.00027168670300570279, 0.99999988479111401, 0.99999993387019892, 0.00027168670300570279, 0.0015013128205368473, 0.0015013128205368473, 0.00027168670300570279, 0.99999990925111093, 0.0026126205929374014, 0.99999988479111401, 0.9989105772764999, 0.99826876261920738, 0.0015013128205368473, 0.00027168670300570279, 0.996292345069279, 0.00027168670300570279, 0.0015013128205368473, 0.0015013128205368473, 0.99999988479111401, 0.00027168670300570279, 0.996292345069279, 0.0015013128205368473, 0.99999993387019892, 0.00027168670300570279, 0.0015013128205368473, 0.00027168670300570279, 0.99786844265619012, 0.99826876261920738, 0.99999993387019892, 0.0015013128205368473, 0.00027168670300570279, 0.0032160892293096157, 0.00027168670300570279, 0.0015013128205368473, 0.0015013128205368473, 0.99826876261920738, 0.99999999999969957, 0.99999993387019892, 0.0003448905165769643, 0.00027168670300570279, 0.0015013128205368473, 0.0015013128205368473, 0.0015013128205368473, 0.00027168670300570279, 0.996292345069279, 0.996292345069279, 0.0015013128205368473, 0.99786844265619012, 0.996292345069279, 0.0015013128205368473, 0.00027168670300570279, 0.99999999999981104, 0.99786844265619012, 0.0015013128205368473, 0.99826876261920738, 0.99826876261920738, 0.0015013128205368473, 0.00027168670300570279, 0.996292345069279, 0.00027168670300570279, 0.0003448905165769643, 1.0, 0.9999999999993554, 0.0015013128205368473, 0.0015013128205368473, 0.00027168670300570279, 0.996292345069279, 0.00047322709779604237, 0.00027168670300570279, 0.0032160892293096157, 0.00027168670300570279, 0.0015013128205368473, 0.0015013128205368473, 0.0026126205929374014, 0.0019051981884677569, 0.99999993387019892, 0.0015013128205368473, 0.996292345069279, 0.0015013128205368473, 0.996292345069279, 0.996292345069279, 0.99999988479111401, 0.99786844265619012, 0.9989105772764999, 0.99999999999963007, 0.0015013128205368473, 0.99999988479111401, 0.996292345069279, 0.9999999999993554, 0.0026126205929374014, 0.996292345069279, 0.00027168670300570279, 0.99786844265619012, 0.00027168670300570279, 0.00047322709779604237, 0.99999988479111401, 0.99999996623682219, 0.996292345069279, 0.00027168670300570279, 0.0015013128205368473, 0.996292345069279, 0.99826876261920738, 0.0015013128205368473, 0.0015013128205368473, 0.0015013128205368473, 0.0015013128205368473, 0.996292345069279, 0.99999999999963007, 0.996292345069279, 0.99999994631133204, 0.99786844265619012, 0.00027168670300570279, 0.0015013128205368473, 0.99786844265619012, 0.996292345069279, 0.0015013128205368473, 0.00027168670300570279, 0.0015013128205368473, 0.9989105772764999, 0.99999988479111401, 0.99999999999963007, 0.0015013128205368473, 0.0015013128205368473, 0.99999996623682219, 0.996292345069279, 0.0015013128205368473, 0.0003448905165769643, 0.0019051981884677569, 0.9989105772764999, 0.9999999999993554, 0.00027168670300570279, 0.00047322709779604237, 0.99999999999963007, 0.996292345069279, 0.9989105772764999, 0.99999999999963007, 0.00027168670300570279, 0.00027168670300570279, 0.99999988479111401, 0.0032160892293096157, 0.0019051981884677569, 0.996292345069279, 0.00027168670300570279, 0.0015013128205368473, 0.0019051981884677569, 0.9999999999993554, 0.99999988479111401, 1.0, 0.0015013128205368473, 0.00027168670300570279, 0.0019051981884677569, 0.996292345069279, 0.00027168670300570279, 0.99999993387019892, 0.00027168670300570279, 0.99786844265619012, 0.0015013128205368473, 0.99999988479111401, 0.0015013128205368473, 0.99999994631133204, 0.0015013128205368473, 0.00027168670300570279, 0.00027168670300570279, 0.0015013128205368473, 0.00027168670300570279, 0.0015013128205368473, 0.0026126205929374014, 0.99999988479111401, 0.0015013128205368473, 0.00027168670300570279, 0.0015013128205368473, 0.9989105772764999, 0.99999999999969957, 0.00027168670300570279, 0.0026126205929374014, 0.99999993387019892, 0.00027168670300570279, 0.0015013128205368473, 0.00027168670300570279, 0.996292345069279, 0.0015013128205368473, 0.0015013128205368473, 0.996292345069279, 0.00027168670300570279, 0.99999999999963007, 0.00027168670300570279, 0.0015013128205368473, 0.9999999999993554, 0.0015013128205368473, 0.00027168670300570279, 0.0015013128205368473, 0.99999990925111093, 0.0026126205929374014, 0.99786844265619012, 0.99999999999963007, 0.99826876261920738, 0.99707721657412096, 0.99786844265619012, 0.0015013128205368473, 0.99826876261920738, 0.0015013128205368473, 0.996292345069279, 0.996292345069279, 0.99707721657412096, 0.99786844265619012, 0.996292345069279, 0.99786844265619012, 0.00027168670300570279, 0.99999990925111093, 0.99999988479111401, 0.996292345069279, 0.00027168670300570279, 0.99999999999963007, 0.99999999999963007, 0.0015013128205368473, 0.996292345069279, 0.99999988479111401, 0.99999988479111401, 0.99999999999963007, 0.996292345069279, 0.99786844265619012, 0.00047322709779604237, 0.00047322709779604237, 0.99999988479111401, 0.0015013128205368473, 0.99786844265619012, 0.0015013128205368473, 0.0026126205929374014, 0.00027168670300570279, 0.00027168670300570279, 0.99826876261920738, 0.99826876261920738, 0.0015013128205368473, 0.0015013128205368473, 0.996292345069279, 0.0015013128205368473, 1.0, 0.0015013128205368473, 0.996292345069279, 0.0015013128205368473, 0.0026126205929374014, 0.99999993387019892, 0.996292345069279, 0.00027168670300570279, 0.99786844265619012, 0.0015013128205368473, 0.0015013128205368473, 0.00027168670300570279, 0.9999999999993554, 0.996292345069279, 0.99786844265619012, 0.00027168670300570279, 0.0015013128205368473, 0.99786844265619012, 0.996292345069279, 0.99707721657412096, 0.99786844265619012, 0.996292345069279, 0.00027168670300570279, 0.00027168670300570279, 0.0015013128205368473, 0.99786844265619012, 0.0026126205929374014, 0.0026126205929374014, 0.0015013128205368473, 0.00027168670300570279, 0.99786844265619012, 0.00027168670300570279, 0.9989105772764999, 0.0032160892293096157, 0.0015013128205368473, 0.0019051981884677569, 0.00027168670300570279, 0.996292345069279, 0.00027168670300570279, 0.0032160892293096157, 0.0032160892293096157, 0.996292345069279, 0.0026126205929374014, 0.00047322709779604237, 0.0015013128205368473, 0.00027168670300570279, 0.00027168670300570279, 0.00027168670300570279, 0.99707721657412096, 0.99786844265619012, 0.0015013128205368473, 0.996292345069279, 0.0026126205929374014, 0.996292345069279, 0.00047322709779604237, 1.0, 0.0015013128205368473, 0.99999999999969957, 0.00027168670300570279, 0.99786844265619012, 0.0015013128205368473, 0.0015013128205368473, 0.00027168670300570279, 0.996292345069279, 0.00027168670300570279, 0.0015013128205368473, 0.0015013128205368473, 0.0026126205929374014, 0.99999988479111401, 0.0026126205929374014, 0.996292345069279, 0.9989105772764999, 0.0019051981884677569, 0.99999999999963007, 0.0015013128205368473, 0.996292345069279, 0.0015013128205368473, 0.0015013128205368473, 0.99999999999963007, 0.996292345069279, 0.0026126205929374014, 0.00027168670300570279, 0.996292345069279, 0.9989105772764999, 0.99999999999969957, 0.9989105772764999, 0.99786844265619012, 0.0015013128205368473, 0.99999988479111401, 0.99786844265619012, 0.99786844265619012, 0.99999993387019892, 0.0015013128205368473, 0.00027168670300570279, 0.99786844265619012, 0.9989105772764999, 0.99707721657412096, 0.99999999999963007, 0.996292345069279, 0.0015013128205368473, 0.996292345069279, 0.00027168670300570279, 0.99707721657412096, 0.996292345069279, 0.99786844265619012, 0.0015013128205368473, 0.00027168670300570279, 0.0019051981884677569, 0.996292345069279, 0.99999994631133204, 0.0019051981884677569, 0.99786844265619012, 0.00027168670300570279, 0.99826876261920738, 0.99999996623682219, 1.0, 0.99826876261920738, 0.0015013128205368473, 0.0015013128205368473, 0.99826876261920738, 0.00027168670300570279, 0.0015013128205368473, 0.00027168670300570279, 0.996292345069279, 0.00047322709779604237, 0.99786844265619012, 0.00027168670300570279, 0.99999993387019892, 0.0015013128205368473, 0.00027168670300570279, 0.99999988479111401, 0.99707721657412096, 0.99786844265619012, 0.0015013128205368473, 0.00047322709779604237, 0.99786844265619012, 0.0032160892293096157, 0.0019051981884677569, 0.0032160892293096157, 0.99826876261920738, 0.00027168670300570279, 0.9989105772764999, 0.99999988479111401, 0.0015013128205368473, 0.996292345069279, 0.0015013128205368473, 0.0015013128205368473, 0.00027168670300570279, 0.00058282285795677234, 0.996292345069279]\n"
     ]
    }
   ],
   "source": [
    "print [x[1] for x in predictions]"
   ]
  },
  {
   "cell_type": "code",
   "execution_count": null,
   "metadata": {
    "collapsed": true
   },
   "outputs": [],
   "source": []
  }
 ],
 "metadata": {
  "kernelspec": {
   "display_name": "Python 2",
   "language": "python",
   "name": "python2"
  },
  "language_info": {
   "codemirror_mode": {
    "name": "ipython",
    "version": 2
   },
   "file_extension": ".py",
   "mimetype": "text/x-python",
   "name": "python",
   "nbconvert_exporter": "python",
   "pygments_lexer": "ipython2",
   "version": "2.7.10"
  },
  "widgets": {
   "state": {},
   "version": "1.1.0"
  }
 },
 "nbformat": 4,
 "nbformat_minor": 0
}
